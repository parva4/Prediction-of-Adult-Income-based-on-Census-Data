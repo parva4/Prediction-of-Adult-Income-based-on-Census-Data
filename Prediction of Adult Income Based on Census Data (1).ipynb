{
 "cells": [
  {
   "cell_type": "markdown",
   "metadata": {
    "id": "05cyKQsqYNSU"
   },
   "source": [
    "Data Mining Project\n",
    "Group 8 \n",
    "Pranit Kolhe & Parva Parikh"
   ]
  },
  {
   "cell_type": "code",
   "execution_count": 1,
   "metadata": {
    "colab": {
     "base_uri": "https://localhost:8080/"
    },
    "id": "HElBzR7Ya89V",
    "outputId": "47daf6dd-d06d-475f-a111-8e995316988f"
   },
   "outputs": [
    {
     "name": "stdout",
     "output_type": "stream",
     "text": [
      "Requirement already satisfied: openpyxl in c:\\users\\admin\\anaconda3\\lib\\site-packages (3.0.10)\n",
      "Requirement already satisfied: et-xmlfile in c:\\users\\admin\\anaconda3\\lib\\site-packages (from openpyxl) (1.1.0)\n"
     ]
    }
   ],
   "source": [
    "missing_value_formats = [\"n.a.\",\"?\",\"NA\",\"n/a\", \"na\", \"--\",\"NaN\"]\n",
    "!pip install --upgrade openpyxl"
   ]
  },
  {
   "cell_type": "code",
   "execution_count": 2,
   "metadata": {
    "colab": {
     "base_uri": "https://localhost:8080/"
    },
    "id": "tE_wymiUHJO4",
    "outputId": "2b852072-db53-4623-d93f-686c1637e98b"
   },
   "outputs": [
    {
     "name": "stdout",
     "output_type": "stream",
     "text": [
      "Requirement already satisfied: dmba in c:\\users\\admin\\anaconda3\\lib\\site-packages (0.1.0)\n",
      "Requirement already satisfied: mord in c:\\users\\admin\\anaconda3\\lib\\site-packages (0.6)\n"
     ]
    }
   ],
   "source": [
    "!pip install dmba\n",
    "!pip install mord"
   ]
  },
  {
   "cell_type": "code",
   "execution_count": 3,
   "metadata": {
    "colab": {
     "base_uri": "https://localhost:8080/"
    },
    "id": "4NgDYtMhYKG3",
    "outputId": "754f71ad-0bac-45ef-bb98-1cef21534f76"
   },
   "outputs": [],
   "source": [
    "import pandas as pd\n",
    "import numpy as np\n",
    "import seaborn as sns\n",
    "import matplotlib.pyplot as plt\n",
    "np.set_printoptions(suppress=True)\n",
    "import sklearn\n",
    "from sklearn import model_selection\n",
    "from sklearn.model_selection import train_test_split\n",
    "from sklearn.linear_model import LinearRegression\n",
    "from sklearn import preprocessing\n",
    "from sklearn.preprocessing import StandardScaler\n",
    "from sklearn.metrics import accuracy_score\n",
    "from sklearn.neighbors import NearestNeighbors, KNeighborsClassifier\n",
    "import statsmodels.formula.api as sm\n",
    "import matplotlib.pylab as plt\n",
    "from dmba import regressionSummary, exhaustive_search\n",
    "from dmba import backward_elimination, forward_selection, stepwise_selection\n",
    "from dmba import adjusted_r2_score, AIC_score, BIC_score\n",
    "from sklearn.linear_model import LogisticRegression, LogisticRegressionCV\n",
    "import statsmodels.api as sm\n",
    "from mord import LogisticIT\n",
    "from dmba import classificationSummary, gainsChart, liftChart\n",
    "from dmba.metric import AIC_score"
   ]
  },
  {
   "cell_type": "code",
   "execution_count": 4,
   "metadata": {},
   "outputs": [],
   "source": [
    "from sklearn.decomposition import PCA"
   ]
  },
  {
   "cell_type": "code",
   "execution_count": 5,
   "metadata": {},
   "outputs": [],
   "source": [
    "from sklearn.neural_network import MLPClassifier"
   ]
  },
  {
   "cell_type": "code",
   "execution_count": 6,
   "metadata": {
    "colab": {
     "base_uri": "https://localhost:8080/",
     "height": 340
    },
    "id": "jgbMSf5yCXD7",
    "outputId": "a3f900f1-326a-4a19-dd08-835ada50b570"
   },
   "outputs": [
    {
     "data": {
      "text/html": [
       "<div>\n",
       "<style scoped>\n",
       "    .dataframe tbody tr th:only-of-type {\n",
       "        vertical-align: middle;\n",
       "    }\n",
       "\n",
       "    .dataframe tbody tr th {\n",
       "        vertical-align: top;\n",
       "    }\n",
       "\n",
       "    .dataframe thead th {\n",
       "        text-align: right;\n",
       "    }\n",
       "</style>\n",
       "<table border=\"1\" class=\"dataframe\">\n",
       "  <thead>\n",
       "    <tr style=\"text-align: right;\">\n",
       "      <th></th>\n",
       "      <th>age</th>\n",
       "      <th>workclass</th>\n",
       "      <th>fnlwgt</th>\n",
       "      <th>education</th>\n",
       "      <th>education.num</th>\n",
       "      <th>marital.status</th>\n",
       "      <th>occupation</th>\n",
       "      <th>relationship</th>\n",
       "      <th>race</th>\n",
       "      <th>sex</th>\n",
       "      <th>capital.gain</th>\n",
       "      <th>capital.loss</th>\n",
       "      <th>hours.per.week</th>\n",
       "      <th>native.country</th>\n",
       "      <th>income</th>\n",
       "    </tr>\n",
       "  </thead>\n",
       "  <tbody>\n",
       "    <tr>\n",
       "      <th>0</th>\n",
       "      <td>90</td>\n",
       "      <td>?</td>\n",
       "      <td>77053</td>\n",
       "      <td>HS-grad</td>\n",
       "      <td>9</td>\n",
       "      <td>Widowed</td>\n",
       "      <td>?</td>\n",
       "      <td>Not-in-family</td>\n",
       "      <td>White</td>\n",
       "      <td>Female</td>\n",
       "      <td>0</td>\n",
       "      <td>4356</td>\n",
       "      <td>40</td>\n",
       "      <td>United-States</td>\n",
       "      <td>&lt;=50K</td>\n",
       "    </tr>\n",
       "    <tr>\n",
       "      <th>1</th>\n",
       "      <td>82</td>\n",
       "      <td>Private</td>\n",
       "      <td>132870</td>\n",
       "      <td>HS-grad</td>\n",
       "      <td>9</td>\n",
       "      <td>Widowed</td>\n",
       "      <td>Exec-managerial</td>\n",
       "      <td>Not-in-family</td>\n",
       "      <td>White</td>\n",
       "      <td>Female</td>\n",
       "      <td>0</td>\n",
       "      <td>4356</td>\n",
       "      <td>18</td>\n",
       "      <td>United-States</td>\n",
       "      <td>&lt;=50K</td>\n",
       "    </tr>\n",
       "    <tr>\n",
       "      <th>2</th>\n",
       "      <td>66</td>\n",
       "      <td>?</td>\n",
       "      <td>186061</td>\n",
       "      <td>Some-college</td>\n",
       "      <td>10</td>\n",
       "      <td>Widowed</td>\n",
       "      <td>?</td>\n",
       "      <td>Unmarried</td>\n",
       "      <td>Black</td>\n",
       "      <td>Female</td>\n",
       "      <td>0</td>\n",
       "      <td>4356</td>\n",
       "      <td>40</td>\n",
       "      <td>United-States</td>\n",
       "      <td>&lt;=50K</td>\n",
       "    </tr>\n",
       "    <tr>\n",
       "      <th>3</th>\n",
       "      <td>54</td>\n",
       "      <td>Private</td>\n",
       "      <td>140359</td>\n",
       "      <td>7th-8th</td>\n",
       "      <td>4</td>\n",
       "      <td>Divorced</td>\n",
       "      <td>Machine-op-inspct</td>\n",
       "      <td>Unmarried</td>\n",
       "      <td>White</td>\n",
       "      <td>Female</td>\n",
       "      <td>0</td>\n",
       "      <td>3900</td>\n",
       "      <td>40</td>\n",
       "      <td>United-States</td>\n",
       "      <td>&lt;=50K</td>\n",
       "    </tr>\n",
       "    <tr>\n",
       "      <th>4</th>\n",
       "      <td>41</td>\n",
       "      <td>Private</td>\n",
       "      <td>264663</td>\n",
       "      <td>Some-college</td>\n",
       "      <td>10</td>\n",
       "      <td>Separated</td>\n",
       "      <td>Prof-specialty</td>\n",
       "      <td>Own-child</td>\n",
       "      <td>White</td>\n",
       "      <td>Female</td>\n",
       "      <td>0</td>\n",
       "      <td>3900</td>\n",
       "      <td>40</td>\n",
       "      <td>United-States</td>\n",
       "      <td>&lt;=50K</td>\n",
       "    </tr>\n",
       "  </tbody>\n",
       "</table>\n",
       "</div>"
      ],
      "text/plain": [
       "   age workclass  fnlwgt     education  education.num marital.status  \\\n",
       "0   90         ?   77053       HS-grad              9        Widowed   \n",
       "1   82   Private  132870       HS-grad              9        Widowed   \n",
       "2   66         ?  186061  Some-college             10        Widowed   \n",
       "3   54   Private  140359       7th-8th              4       Divorced   \n",
       "4   41   Private  264663  Some-college             10      Separated   \n",
       "\n",
       "          occupation   relationship   race     sex  capital.gain  \\\n",
       "0                  ?  Not-in-family  White  Female             0   \n",
       "1    Exec-managerial  Not-in-family  White  Female             0   \n",
       "2                  ?      Unmarried  Black  Female             0   \n",
       "3  Machine-op-inspct      Unmarried  White  Female             0   \n",
       "4     Prof-specialty      Own-child  White  Female             0   \n",
       "\n",
       "   capital.loss  hours.per.week native.country income  \n",
       "0          4356              40  United-States  <=50K  \n",
       "1          4356              18  United-States  <=50K  \n",
       "2          4356              40  United-States  <=50K  \n",
       "3          3900              40  United-States  <=50K  \n",
       "4          3900              40  United-States  <=50K  "
      ]
     },
     "execution_count": 6,
     "metadata": {},
     "output_type": "execute_result"
    }
   ],
   "source": [
    "df = pd.read_csv( \"adult.csv\")\n",
    "df.head()"
   ]
  },
  {
   "cell_type": "code",
   "execution_count": 7,
   "metadata": {
    "colab": {
     "base_uri": "https://localhost:8080/"
    },
    "id": "-_8Jsd86Fq_m",
    "outputId": "e4577ec2-2c4b-465d-801b-5dd5f863d599"
   },
   "outputs": [
    {
     "data": {
      "text/plain": [
       "Index(['age', 'workclass', 'fnlwgt', 'education', 'education.num',\n",
       "       'marital.status', 'occupation', 'relationship', 'race', 'sex',\n",
       "       'capital.gain', 'capital.loss', 'hours.per.week', 'native.country',\n",
       "       'income', 'Income Status'],\n",
       "      dtype='object')"
      ]
     },
     "execution_count": 7,
     "metadata": {},
     "output_type": "execute_result"
    }
   ],
   "source": [
    "df['Income Status']=0\n",
    "df.columns"
   ]
  },
  {
   "cell_type": "code",
   "execution_count": 8,
   "metadata": {
    "colab": {
     "base_uri": "https://localhost:8080/"
    },
    "id": "ljewMBO5QsiI",
    "outputId": "ea4b8e98-ddf4-48fa-fcf4-5ea4bf3c5aeb"
   },
   "outputs": [
    {
     "name": "stderr",
     "output_type": "stream",
     "text": [
      "C:\\Users\\ADMIN\\anaconda3\\lib\\site-packages\\pandas\\core\\indexing.py:1732: SettingWithCopyWarning: \n",
      "A value is trying to be set on a copy of a slice from a DataFrame\n",
      "\n",
      "See the caveats in the documentation: https://pandas.pydata.org/pandas-docs/stable/user_guide/indexing.html#returning-a-view-versus-a-copy\n",
      "  self._setitem_single_block(indexer, value, name)\n"
     ]
    }
   ],
   "source": [
    "i=0\n",
    "while i<df.shape[0]:\n",
    "  if df['income'].loc[i]=='>50K':\n",
    "    df['Income Status'].loc[i]=1\n",
    "  else:\n",
    "    df['Income Status'].loc[i]=0\n",
    "  i+=1"
   ]
  },
  {
   "cell_type": "code",
   "execution_count": 9,
   "metadata": {
    "id": "IWsVs0p7vROH"
   },
   "outputs": [],
   "source": [
    "df.replace('?',np.NaN,inplace=True)"
   ]
  },
  {
   "cell_type": "code",
   "execution_count": 10,
   "metadata": {
    "colab": {
     "base_uri": "https://localhost:8080/"
    },
    "id": "eoInWaHTvWU0",
    "outputId": "5944458f-36bb-4ee2-8ec4-b0b99b1d71ec"
   },
   "outputs": [
    {
     "data": {
      "text/plain": [
       "4262"
      ]
     },
     "execution_count": 10,
     "metadata": {},
     "output_type": "execute_result"
    }
   ],
   "source": [
    "null_list=df.isnull().sum()\n",
    "sum_null=sum(null_list)\n",
    "sum_null"
   ]
  },
  {
   "cell_type": "code",
   "execution_count": 11,
   "metadata": {
    "colab": {
     "base_uri": "https://localhost:8080/"
    },
    "id": "5Cv9ShCjxtnN",
    "outputId": "29a42b1a-c0d1-40f0-d26c-8ad4f8fb907d"
   },
   "outputs": [
    {
     "name": "stdout",
     "output_type": "stream",
     "text": [
      "there are 0.8180799115506281% null values in the dataset\n",
      "\n",
      "hence we can drop the nulls since they constitute only a small portion\n"
     ]
    }
   ],
   "source": [
    "number_of_elements=df.shape[0]*df.shape[1] #number_of_elements\n",
    "percentage_of_nulls=(sum_null*100)/(number_of_elements)\n",
    "print('there are '+str(percentage_of_nulls)+'% null values in the dataset\\n')\n",
    "print('hence we can drop the nulls since they constitute only a small portion')"
   ]
  },
  {
   "cell_type": "code",
   "execution_count": 12,
   "metadata": {
    "id": "mPlgv6X3RL-J"
   },
   "outputs": [],
   "source": [
    "df.dropna(inplace=True)"
   ]
  },
  {
   "cell_type": "code",
   "execution_count": 13,
   "metadata": {
    "id": "R9lINl3EGS3m"
   },
   "outputs": [],
   "source": [
    "df.to_csv('adult_cleaned.csv')"
   ]
  },
  {
   "cell_type": "code",
   "execution_count": 14,
   "metadata": {
    "colab": {
     "base_uri": "https://localhost:8080/"
    },
    "id": "eK7z4KpgR_z8",
    "outputId": "2016e04c-9408-490a-996b-4b451ab8c519"
   },
   "outputs": [
    {
     "name": "stderr",
     "output_type": "stream",
     "text": [
      "C:\\Users\\ADMIN\\AppData\\Local\\Temp/ipykernel_15404/2886557111.py:1: FutureWarning: Indexing with multiple keys (implicitly converted to a tuple of keys) will be deprecated, use a list instead.\n",
      "  income_stat=df.groupby(['education','Income Status'])['education','Income Status'].size()\n"
     ]
    },
    {
     "data": {
      "text/plain": [
       "education     Income Status\n",
       "10th          0                 761\n",
       "              1                  59\n",
       "11th          0                 989\n",
       "              1                  59\n",
       "12th          0                 348\n",
       "              1                  29\n",
       "1st-4th       0                 145\n",
       "              1                   6\n",
       "5th-6th       0                 276\n",
       "              1                  12\n",
       "7th-8th       0                 522\n",
       "              1                  35\n",
       "9th           0                 430\n",
       "              1                  25\n",
       "Assoc-acdm    0                 752\n",
       "              1                 256\n",
       "Assoc-voc     0                 963\n",
       "              1                 344\n",
       "Bachelors     0                2918\n",
       "              1                2126\n",
       "Doctorate     0                  95\n",
       "              1                 280\n",
       "HS-grad       0                8223\n",
       "              1                1617\n",
       "Masters       0                 709\n",
       "              1                 918\n",
       "Preschool     0                  45\n",
       "Prof-school   0                 136\n",
       "              1                 406\n",
       "Some-college  0                5342\n",
       "              1                1336\n",
       "dtype: int64"
      ]
     },
     "execution_count": 14,
     "metadata": {},
     "output_type": "execute_result"
    }
   ],
   "source": [
    "income_stat=df.groupby(['education','Income Status'])['education','Income Status'].size()\n",
    "income_stat"
   ]
  },
  {
   "cell_type": "markdown",
   "metadata": {
    "id": "vCVOAowPbsWe"
   },
   "source": [
    "To understand the shape of data"
   ]
  },
  {
   "cell_type": "code",
   "execution_count": 15,
   "metadata": {
    "colab": {
     "base_uri": "https://localhost:8080/",
     "height": 261
    },
    "id": "ORsncZEFL3_c",
    "outputId": "74ebe0c8-3cb2-4a74-926a-6c1c51ee49f7"
   },
   "outputs": [
    {
     "name": "stderr",
     "output_type": "stream",
     "text": [
      "C:\\Users\\ADMIN\\AppData\\Local\\Temp/ipykernel_15404/4067052542.py:2: FutureWarning: Indexing with multiple keys (implicitly converted to a tuple of keys) will be deprecated, use a list instead.\n",
      "  y=x.groupby(['sex','Income Status'])['age','sex','Income Status'].size()\n"
     ]
    },
    {
     "data": {
      "text/html": [
       "<div>\n",
       "<style scoped>\n",
       "    .dataframe tbody tr th:only-of-type {\n",
       "        vertical-align: middle;\n",
       "    }\n",
       "\n",
       "    .dataframe tbody tr th {\n",
       "        vertical-align: top;\n",
       "    }\n",
       "\n",
       "    .dataframe thead th {\n",
       "        text-align: right;\n",
       "    }\n",
       "</style>\n",
       "<table border=\"1\" class=\"dataframe\">\n",
       "  <thead>\n",
       "    <tr style=\"text-align: right;\">\n",
       "      <th></th>\n",
       "      <th></th>\n",
       "      <th>0</th>\n",
       "    </tr>\n",
       "    <tr>\n",
       "      <th>sex</th>\n",
       "      <th>Income Status</th>\n",
       "      <th></th>\n",
       "    </tr>\n",
       "  </thead>\n",
       "  <tbody>\n",
       "    <tr>\n",
       "      <th rowspan=\"2\" valign=\"top\">Female</th>\n",
       "      <th>0</th>\n",
       "      <td>3392</td>\n",
       "    </tr>\n",
       "    <tr>\n",
       "      <th>1</th>\n",
       "      <td>121</td>\n",
       "    </tr>\n",
       "    <tr>\n",
       "      <th rowspan=\"2\" valign=\"top\">Male</th>\n",
       "      <th>0</th>\n",
       "      <td>4898</td>\n",
       "    </tr>\n",
       "    <tr>\n",
       "      <th>1</th>\n",
       "      <td>373</td>\n",
       "    </tr>\n",
       "  </tbody>\n",
       "</table>\n",
       "</div>"
      ],
      "text/plain": [
       "                         0\n",
       "sex    Income Status      \n",
       "Female 0              3392\n",
       "       1               121\n",
       "Male   0              4898\n",
       "       1               373"
      ]
     },
     "execution_count": 15,
     "metadata": {},
     "output_type": "execute_result"
    }
   ],
   "source": [
    "x=df[df['age']<30]\n",
    "y=x.groupby(['sex','Income Status'])['age','sex','Income Status'].size()\n",
    "pd.DataFrame(y)"
   ]
  },
  {
   "cell_type": "code",
   "execution_count": 16,
   "metadata": {
    "colab": {
     "base_uri": "https://localhost:8080/"
    },
    "id": "0QReIoOiOiqR",
    "outputId": "8b554cb8-702e-4bde-d0c4-92695785ab83"
   },
   "outputs": [
    {
     "data": {
      "text/plain": [
       "<AxesSubplot:xlabel='Income Status', ylabel='count'>"
      ]
     },
     "execution_count": 16,
     "metadata": {},
     "output_type": "execute_result"
    },
    {
     "data": {
      "image/png": "[encoded data removed]",
      "text/plain": [
       "<Figure size 432x288 with 1 Axes>"
      ]
     },
     "metadata": {
      "needs_background": "light"
     },
     "output_type": "display_data"
    }
   ],
   "source": [
    "bar=df.groupby('Income Status').size()\n",
    "sns.countplot(x='Income Status',data=df)"
   ]
  },
  {
   "cell_type": "code",
   "execution_count": 17,
   "metadata": {
    "colab": {
     "base_uri": "https://localhost:8080/"
    },
    "id": "ghNjpWo6bpOZ",
    "outputId": "410df786-459d-4413-868b-bd3eb6e152a5"
   },
   "outputs": [
    {
     "data": {
      "text/plain": [
       "(30162, 16)"
      ]
     },
     "execution_count": 17,
     "metadata": {},
     "output_type": "execute_result"
    }
   ],
   "source": [
    "df.shape"
   ]
  },
  {
   "cell_type": "code",
   "execution_count": 18,
   "metadata": {
    "colab": {
     "base_uri": "https://localhost:8080/",
     "height": 374
    },
    "id": "BXjGGbFWS5uh",
    "outputId": "3e8b3cff-4639-4e37-8356-23e27b4413a6"
   },
   "outputs": [
    {
     "data": {
      "text/html": [
       "<div>\n",
       "<style scoped>\n",
       "    .dataframe tbody tr th:only-of-type {\n",
       "        vertical-align: middle;\n",
       "    }\n",
       "\n",
       "    .dataframe tbody tr th {\n",
       "        vertical-align: top;\n",
       "    }\n",
       "\n",
       "    .dataframe thead th {\n",
       "        text-align: right;\n",
       "    }\n",
       "</style>\n",
       "<table border=\"1\" class=\"dataframe\">\n",
       "  <thead>\n",
       "    <tr style=\"text-align: right;\">\n",
       "      <th></th>\n",
       "      <th>age</th>\n",
       "      <th>workclass</th>\n",
       "      <th>fnlwgt</th>\n",
       "      <th>education</th>\n",
       "      <th>education.num</th>\n",
       "      <th>marital.status</th>\n",
       "      <th>occupation</th>\n",
       "      <th>relationship</th>\n",
       "      <th>race</th>\n",
       "      <th>sex</th>\n",
       "      <th>capital.gain</th>\n",
       "      <th>capital.loss</th>\n",
       "      <th>hours.per.week</th>\n",
       "      <th>native.country</th>\n",
       "      <th>income</th>\n",
       "      <th>Income Status</th>\n",
       "    </tr>\n",
       "  </thead>\n",
       "  <tbody>\n",
       "    <tr>\n",
       "      <th>1</th>\n",
       "      <td>82</td>\n",
       "      <td>Private</td>\n",
       "      <td>132870</td>\n",
       "      <td>HS-grad</td>\n",
       "      <td>9</td>\n",
       "      <td>Widowed</td>\n",
       "      <td>Exec-managerial</td>\n",
       "      <td>Not-in-family</td>\n",
       "      <td>White</td>\n",
       "      <td>Female</td>\n",
       "      <td>0</td>\n",
       "      <td>4356</td>\n",
       "      <td>18</td>\n",
       "      <td>United-States</td>\n",
       "      <td>&lt;=50K</td>\n",
       "      <td>0</td>\n",
       "    </tr>\n",
       "    <tr>\n",
       "      <th>3</th>\n",
       "      <td>54</td>\n",
       "      <td>Private</td>\n",
       "      <td>140359</td>\n",
       "      <td>7th-8th</td>\n",
       "      <td>4</td>\n",
       "      <td>Divorced</td>\n",
       "      <td>Machine-op-inspct</td>\n",
       "      <td>Unmarried</td>\n",
       "      <td>White</td>\n",
       "      <td>Female</td>\n",
       "      <td>0</td>\n",
       "      <td>3900</td>\n",
       "      <td>40</td>\n",
       "      <td>United-States</td>\n",
       "      <td>&lt;=50K</td>\n",
       "      <td>0</td>\n",
       "    </tr>\n",
       "    <tr>\n",
       "      <th>4</th>\n",
       "      <td>41</td>\n",
       "      <td>Private</td>\n",
       "      <td>264663</td>\n",
       "      <td>Some-college</td>\n",
       "      <td>10</td>\n",
       "      <td>Separated</td>\n",
       "      <td>Prof-specialty</td>\n",
       "      <td>Own-child</td>\n",
       "      <td>White</td>\n",
       "      <td>Female</td>\n",
       "      <td>0</td>\n",
       "      <td>3900</td>\n",
       "      <td>40</td>\n",
       "      <td>United-States</td>\n",
       "      <td>&lt;=50K</td>\n",
       "      <td>0</td>\n",
       "    </tr>\n",
       "    <tr>\n",
       "      <th>5</th>\n",
       "      <td>34</td>\n",
       "      <td>Private</td>\n",
       "      <td>216864</td>\n",
       "      <td>HS-grad</td>\n",
       "      <td>9</td>\n",
       "      <td>Divorced</td>\n",
       "      <td>Other-service</td>\n",
       "      <td>Unmarried</td>\n",
       "      <td>White</td>\n",
       "      <td>Female</td>\n",
       "      <td>0</td>\n",
       "      <td>3770</td>\n",
       "      <td>45</td>\n",
       "      <td>United-States</td>\n",
       "      <td>&lt;=50K</td>\n",
       "      <td>0</td>\n",
       "    </tr>\n",
       "    <tr>\n",
       "      <th>6</th>\n",
       "      <td>38</td>\n",
       "      <td>Private</td>\n",
       "      <td>150601</td>\n",
       "      <td>10th</td>\n",
       "      <td>6</td>\n",
       "      <td>Separated</td>\n",
       "      <td>Adm-clerical</td>\n",
       "      <td>Unmarried</td>\n",
       "      <td>White</td>\n",
       "      <td>Male</td>\n",
       "      <td>0</td>\n",
       "      <td>3770</td>\n",
       "      <td>40</td>\n",
       "      <td>United-States</td>\n",
       "      <td>&lt;=50K</td>\n",
       "      <td>0</td>\n",
       "    </tr>\n",
       "  </tbody>\n",
       "</table>\n",
       "</div>"
      ],
      "text/plain": [
       "   age workclass  fnlwgt     education  education.num marital.status  \\\n",
       "1   82   Private  132870       HS-grad              9        Widowed   \n",
       "3   54   Private  140359       7th-8th              4       Divorced   \n",
       "4   41   Private  264663  Some-college             10      Separated   \n",
       "5   34   Private  216864       HS-grad              9       Divorced   \n",
       "6   38   Private  150601          10th              6      Separated   \n",
       "\n",
       "          occupation   relationship   race     sex  capital.gain  \\\n",
       "1    Exec-managerial  Not-in-family  White  Female             0   \n",
       "3  Machine-op-inspct      Unmarried  White  Female             0   \n",
       "4     Prof-specialty      Own-child  White  Female             0   \n",
       "5      Other-service      Unmarried  White  Female             0   \n",
       "6       Adm-clerical      Unmarried  White    Male             0   \n",
       "\n",
       "   capital.loss  hours.per.week native.country income  Income Status  \n",
       "1          4356              18  United-States  <=50K              0  \n",
       "3          3900              40  United-States  <=50K              0  \n",
       "4          3900              40  United-States  <=50K              0  \n",
       "5          3770              45  United-States  <=50K              0  \n",
       "6          3770              40  United-States  <=50K              0  "
      ]
     },
     "execution_count": 18,
     "metadata": {},
     "output_type": "execute_result"
    }
   ],
   "source": [
    "df.head()"
   ]
  },
  {
   "cell_type": "code",
   "execution_count": 19,
   "metadata": {
    "colab": {
     "base_uri": "https://localhost:8080/",
     "height": 374
    },
    "id": "qgoGBe2xS_lh",
    "outputId": "80d614c4-d165-4c52-d755-1d5a386d7d53"
   },
   "outputs": [
    {
     "data": {
      "text/html": [
       "<div>\n",
       "<style scoped>\n",
       "    .dataframe tbody tr th:only-of-type {\n",
       "        vertical-align: middle;\n",
       "    }\n",
       "\n",
       "    .dataframe tbody tr th {\n",
       "        vertical-align: top;\n",
       "    }\n",
       "\n",
       "    .dataframe thead th {\n",
       "        text-align: right;\n",
       "    }\n",
       "</style>\n",
       "<table border=\"1\" class=\"dataframe\">\n",
       "  <thead>\n",
       "    <tr style=\"text-align: right;\">\n",
       "      <th></th>\n",
       "      <th>age</th>\n",
       "      <th>workclass</th>\n",
       "      <th>fnlwgt</th>\n",
       "      <th>education</th>\n",
       "      <th>education.num</th>\n",
       "      <th>marital.status</th>\n",
       "      <th>occupation</th>\n",
       "      <th>relationship</th>\n",
       "      <th>race</th>\n",
       "      <th>sex</th>\n",
       "      <th>capital.gain</th>\n",
       "      <th>capital.loss</th>\n",
       "      <th>hours.per.week</th>\n",
       "      <th>native.country</th>\n",
       "      <th>income</th>\n",
       "      <th>Income Status</th>\n",
       "    </tr>\n",
       "  </thead>\n",
       "  <tbody>\n",
       "    <tr>\n",
       "      <th>32556</th>\n",
       "      <td>22</td>\n",
       "      <td>Private</td>\n",
       "      <td>310152</td>\n",
       "      <td>Some-college</td>\n",
       "      <td>10</td>\n",
       "      <td>Never-married</td>\n",
       "      <td>Protective-serv</td>\n",
       "      <td>Not-in-family</td>\n",
       "      <td>White</td>\n",
       "      <td>Male</td>\n",
       "      <td>0</td>\n",
       "      <td>0</td>\n",
       "      <td>40</td>\n",
       "      <td>United-States</td>\n",
       "      <td>&lt;=50K</td>\n",
       "      <td>0</td>\n",
       "    </tr>\n",
       "    <tr>\n",
       "      <th>32557</th>\n",
       "      <td>27</td>\n",
       "      <td>Private</td>\n",
       "      <td>257302</td>\n",
       "      <td>Assoc-acdm</td>\n",
       "      <td>12</td>\n",
       "      <td>Married-civ-spouse</td>\n",
       "      <td>Tech-support</td>\n",
       "      <td>Wife</td>\n",
       "      <td>White</td>\n",
       "      <td>Female</td>\n",
       "      <td>0</td>\n",
       "      <td>0</td>\n",
       "      <td>38</td>\n",
       "      <td>United-States</td>\n",
       "      <td>&lt;=50K</td>\n",
       "      <td>0</td>\n",
       "    </tr>\n",
       "    <tr>\n",
       "      <th>32558</th>\n",
       "      <td>40</td>\n",
       "      <td>Private</td>\n",
       "      <td>154374</td>\n",
       "      <td>HS-grad</td>\n",
       "      <td>9</td>\n",
       "      <td>Married-civ-spouse</td>\n",
       "      <td>Machine-op-inspct</td>\n",
       "      <td>Husband</td>\n",
       "      <td>White</td>\n",
       "      <td>Male</td>\n",
       "      <td>0</td>\n",
       "      <td>0</td>\n",
       "      <td>40</td>\n",
       "      <td>United-States</td>\n",
       "      <td>&gt;50K</td>\n",
       "      <td>1</td>\n",
       "    </tr>\n",
       "    <tr>\n",
       "      <th>32559</th>\n",
       "      <td>58</td>\n",
       "      <td>Private</td>\n",
       "      <td>151910</td>\n",
       "      <td>HS-grad</td>\n",
       "      <td>9</td>\n",
       "      <td>Widowed</td>\n",
       "      <td>Adm-clerical</td>\n",
       "      <td>Unmarried</td>\n",
       "      <td>White</td>\n",
       "      <td>Female</td>\n",
       "      <td>0</td>\n",
       "      <td>0</td>\n",
       "      <td>40</td>\n",
       "      <td>United-States</td>\n",
       "      <td>&lt;=50K</td>\n",
       "      <td>0</td>\n",
       "    </tr>\n",
       "    <tr>\n",
       "      <th>32560</th>\n",
       "      <td>22</td>\n",
       "      <td>Private</td>\n",
       "      <td>201490</td>\n",
       "      <td>HS-grad</td>\n",
       "      <td>9</td>\n",
       "      <td>Never-married</td>\n",
       "      <td>Adm-clerical</td>\n",
       "      <td>Own-child</td>\n",
       "      <td>White</td>\n",
       "      <td>Male</td>\n",
       "      <td>0</td>\n",
       "      <td>0</td>\n",
       "      <td>20</td>\n",
       "      <td>United-States</td>\n",
       "      <td>&lt;=50K</td>\n",
       "      <td>0</td>\n",
       "    </tr>\n",
       "  </tbody>\n",
       "</table>\n",
       "</div>"
      ],
      "text/plain": [
       "       age workclass  fnlwgt     education  education.num      marital.status  \\\n",
       "32556   22   Private  310152  Some-college             10       Never-married   \n",
       "32557   27   Private  257302    Assoc-acdm             12  Married-civ-spouse   \n",
       "32558   40   Private  154374       HS-grad              9  Married-civ-spouse   \n",
       "32559   58   Private  151910       HS-grad              9             Widowed   \n",
       "32560   22   Private  201490       HS-grad              9       Never-married   \n",
       "\n",
       "              occupation   relationship   race     sex  capital.gain  \\\n",
       "32556    Protective-serv  Not-in-family  White    Male             0   \n",
       "32557       Tech-support           Wife  White  Female             0   \n",
       "32558  Machine-op-inspct        Husband  White    Male             0   \n",
       "32559       Adm-clerical      Unmarried  White  Female             0   \n",
       "32560       Adm-clerical      Own-child  White    Male             0   \n",
       "\n",
       "       capital.loss  hours.per.week native.country income  Income Status  \n",
       "32556             0              40  United-States  <=50K              0  \n",
       "32557             0              38  United-States  <=50K              0  \n",
       "32558             0              40  United-States   >50K              1  \n",
       "32559             0              40  United-States  <=50K              0  \n",
       "32560             0              20  United-States  <=50K              0  "
      ]
     },
     "execution_count": 19,
     "metadata": {},
     "output_type": "execute_result"
    }
   ],
   "source": [
    "df.tail()"
   ]
  },
  {
   "cell_type": "code",
   "execution_count": 20,
   "metadata": {
    "colab": {
     "base_uri": "https://localhost:8080/",
     "height": 204
    },
    "id": "2dzMKkb32fAy",
    "outputId": "5894d85b-f3f6-416d-f6a9-8568e66a4edc"
   },
   "outputs": [
    {
     "data": {
      "text/html": [
       "<div>\n",
       "<style scoped>\n",
       "    .dataframe tbody tr th:only-of-type {\n",
       "        vertical-align: middle;\n",
       "    }\n",
       "\n",
       "    .dataframe tbody tr th {\n",
       "        vertical-align: top;\n",
       "    }\n",
       "\n",
       "    .dataframe thead tr th {\n",
       "        text-align: left;\n",
       "    }\n",
       "\n",
       "    .dataframe thead tr:last-of-type th {\n",
       "        text-align: right;\n",
       "    }\n",
       "</style>\n",
       "<table border=\"1\" class=\"dataframe\">\n",
       "  <thead>\n",
       "    <tr>\n",
       "      <th></th>\n",
       "      <th colspan=\"8\" halign=\"left\">age</th>\n",
       "      <th colspan=\"2\" halign=\"left\">fnlwgt</th>\n",
       "      <th>...</th>\n",
       "      <th colspan=\"2\" halign=\"left\">hours.per.week</th>\n",
       "      <th colspan=\"8\" halign=\"left\">Income Status</th>\n",
       "    </tr>\n",
       "    <tr>\n",
       "      <th></th>\n",
       "      <th>count</th>\n",
       "      <th>mean</th>\n",
       "      <th>std</th>\n",
       "      <th>min</th>\n",
       "      <th>25%</th>\n",
       "      <th>50%</th>\n",
       "      <th>75%</th>\n",
       "      <th>max</th>\n",
       "      <th>count</th>\n",
       "      <th>mean</th>\n",
       "      <th>...</th>\n",
       "      <th>75%</th>\n",
       "      <th>max</th>\n",
       "      <th>count</th>\n",
       "      <th>mean</th>\n",
       "      <th>std</th>\n",
       "      <th>min</th>\n",
       "      <th>25%</th>\n",
       "      <th>50%</th>\n",
       "      <th>75%</th>\n",
       "      <th>max</th>\n",
       "    </tr>\n",
       "    <tr>\n",
       "      <th>income</th>\n",
       "      <th></th>\n",
       "      <th></th>\n",
       "      <th></th>\n",
       "      <th></th>\n",
       "      <th></th>\n",
       "      <th></th>\n",
       "      <th></th>\n",
       "      <th></th>\n",
       "      <th></th>\n",
       "      <th></th>\n",
       "      <th></th>\n",
       "      <th></th>\n",
       "      <th></th>\n",
       "      <th></th>\n",
       "      <th></th>\n",
       "      <th></th>\n",
       "      <th></th>\n",
       "      <th></th>\n",
       "      <th></th>\n",
       "      <th></th>\n",
       "      <th></th>\n",
       "    </tr>\n",
       "  </thead>\n",
       "  <tbody>\n",
       "    <tr>\n",
       "      <th>&lt;=50K</th>\n",
       "      <td>22654.0</td>\n",
       "      <td>36.60806</td>\n",
       "      <td>13.464631</td>\n",
       "      <td>17.0</td>\n",
       "      <td>26.0</td>\n",
       "      <td>34.0</td>\n",
       "      <td>45.0</td>\n",
       "      <td>90.0</td>\n",
       "      <td>22654.0</td>\n",
       "      <td>190338.646729</td>\n",
       "      <td>...</td>\n",
       "      <td>40.0</td>\n",
       "      <td>99.0</td>\n",
       "      <td>22654.0</td>\n",
       "      <td>0.0</td>\n",
       "      <td>0.0</td>\n",
       "      <td>0.0</td>\n",
       "      <td>0.0</td>\n",
       "      <td>0.0</td>\n",
       "      <td>0.0</td>\n",
       "      <td>0.0</td>\n",
       "    </tr>\n",
       "    <tr>\n",
       "      <th>&gt;50K</th>\n",
       "      <td>7508.0</td>\n",
       "      <td>43.95911</td>\n",
       "      <td>10.269633</td>\n",
       "      <td>19.0</td>\n",
       "      <td>36.0</td>\n",
       "      <td>43.0</td>\n",
       "      <td>51.0</td>\n",
       "      <td>90.0</td>\n",
       "      <td>7508.0</td>\n",
       "      <td>188149.962174</td>\n",
       "      <td>...</td>\n",
       "      <td>50.0</td>\n",
       "      <td>99.0</td>\n",
       "      <td>7508.0</td>\n",
       "      <td>1.0</td>\n",
       "      <td>0.0</td>\n",
       "      <td>1.0</td>\n",
       "      <td>1.0</td>\n",
       "      <td>1.0</td>\n",
       "      <td>1.0</td>\n",
       "      <td>1.0</td>\n",
       "    </tr>\n",
       "  </tbody>\n",
       "</table>\n",
       "<p>2 rows × 56 columns</p>\n",
       "</div>"
      ],
      "text/plain": [
       "            age                                                      fnlwgt  \\\n",
       "          count      mean        std   min   25%   50%   75%   max    count   \n",
       "income                                                                        \n",
       "<=50K   22654.0  36.60806  13.464631  17.0  26.0  34.0  45.0  90.0  22654.0   \n",
       ">50K     7508.0  43.95911  10.269633  19.0  36.0  43.0  51.0  90.0   7508.0   \n",
       "\n",
       "                       ... hours.per.week       Income Status                 \\\n",
       "                 mean  ...            75%   max         count mean  std  min   \n",
       "income                 ...                                                     \n",
       "<=50K   190338.646729  ...           40.0  99.0       22654.0  0.0  0.0  0.0   \n",
       ">50K    188149.962174  ...           50.0  99.0        7508.0  1.0  0.0  1.0   \n",
       "\n",
       "                            \n",
       "        25%  50%  75%  max  \n",
       "income                      \n",
       "<=50K   0.0  0.0  0.0  0.0  \n",
       ">50K    1.0  1.0  1.0  1.0  \n",
       "\n",
       "[2 rows x 56 columns]"
      ]
     },
     "execution_count": 20,
     "metadata": {},
     "output_type": "execute_result"
    }
   ],
   "source": [
    "df.groupby('income').describe()"
   ]
  },
  {
   "cell_type": "markdown",
   "metadata": {
    "id": "KNRLta612JhZ"
   },
   "source": [
    "Zero values in capital gain "
   ]
  },
  {
   "cell_type": "code",
   "execution_count": 21,
   "metadata": {
    "colab": {
     "base_uri": "https://localhost:8080/"
    },
    "id": "JFDZyi3Hse48",
    "outputId": "13a0e8c4-e2a2-4e89-a6db-b589becae2d8"
   },
   "outputs": [
    {
     "name": "stdout",
     "output_type": "stream",
     "text": [
      "Count of zeros in Column :  27624\n"
     ]
    }
   ],
   "source": [
    "count = (df['capital.gain'] == 0).sum()\n",
    "print('Count of zeros in Column : ', count)"
   ]
  },
  {
   "cell_type": "code",
   "execution_count": 22,
   "metadata": {
    "colab": {
     "base_uri": "https://localhost:8080/",
     "height": 679
    },
    "id": "mxR2z-GN2tG-",
    "outputId": "0c5c7d12-5d1c-4a1a-9f61-86f67bf072b3"
   },
   "outputs": [
    {
     "data": {
      "text/html": [
       "<div>\n",
       "<style scoped>\n",
       "    .dataframe tbody tr th:only-of-type {\n",
       "        vertical-align: middle;\n",
       "    }\n",
       "\n",
       "    .dataframe tbody tr th {\n",
       "        vertical-align: top;\n",
       "    }\n",
       "\n",
       "    .dataframe thead th {\n",
       "        text-align: right;\n",
       "    }\n",
       "</style>\n",
       "<table border=\"1\" class=\"dataframe\">\n",
       "  <thead>\n",
       "    <tr style=\"text-align: right;\">\n",
       "      <th></th>\n",
       "      <th>age</th>\n",
       "      <th>workclass</th>\n",
       "      <th>fnlwgt</th>\n",
       "      <th>education</th>\n",
       "      <th>education.num</th>\n",
       "      <th>marital.status</th>\n",
       "      <th>occupation</th>\n",
       "      <th>relationship</th>\n",
       "      <th>race</th>\n",
       "      <th>sex</th>\n",
       "      <th>capital.loss</th>\n",
       "      <th>hours.per.week</th>\n",
       "      <th>native.country</th>\n",
       "      <th>income</th>\n",
       "      <th>Income Status</th>\n",
       "    </tr>\n",
       "  </thead>\n",
       "  <tbody>\n",
       "    <tr>\n",
       "      <th>1</th>\n",
       "      <td>82</td>\n",
       "      <td>Private</td>\n",
       "      <td>132870</td>\n",
       "      <td>HS-grad</td>\n",
       "      <td>9</td>\n",
       "      <td>Widowed</td>\n",
       "      <td>Exec-managerial</td>\n",
       "      <td>Not-in-family</td>\n",
       "      <td>White</td>\n",
       "      <td>Female</td>\n",
       "      <td>4356</td>\n",
       "      <td>18</td>\n",
       "      <td>United-States</td>\n",
       "      <td>&lt;=50K</td>\n",
       "      <td>0</td>\n",
       "    </tr>\n",
       "    <tr>\n",
       "      <th>3</th>\n",
       "      <td>54</td>\n",
       "      <td>Private</td>\n",
       "      <td>140359</td>\n",
       "      <td>7th-8th</td>\n",
       "      <td>4</td>\n",
       "      <td>Divorced</td>\n",
       "      <td>Machine-op-inspct</td>\n",
       "      <td>Unmarried</td>\n",
       "      <td>White</td>\n",
       "      <td>Female</td>\n",
       "      <td>3900</td>\n",
       "      <td>40</td>\n",
       "      <td>United-States</td>\n",
       "      <td>&lt;=50K</td>\n",
       "      <td>0</td>\n",
       "    </tr>\n",
       "    <tr>\n",
       "      <th>4</th>\n",
       "      <td>41</td>\n",
       "      <td>Private</td>\n",
       "      <td>264663</td>\n",
       "      <td>Some-college</td>\n",
       "      <td>10</td>\n",
       "      <td>Separated</td>\n",
       "      <td>Prof-specialty</td>\n",
       "      <td>Own-child</td>\n",
       "      <td>White</td>\n",
       "      <td>Female</td>\n",
       "      <td>3900</td>\n",
       "      <td>40</td>\n",
       "      <td>United-States</td>\n",
       "      <td>&lt;=50K</td>\n",
       "      <td>0</td>\n",
       "    </tr>\n",
       "    <tr>\n",
       "      <th>5</th>\n",
       "      <td>34</td>\n",
       "      <td>Private</td>\n",
       "      <td>216864</td>\n",
       "      <td>HS-grad</td>\n",
       "      <td>9</td>\n",
       "      <td>Divorced</td>\n",
       "      <td>Other-service</td>\n",
       "      <td>Unmarried</td>\n",
       "      <td>White</td>\n",
       "      <td>Female</td>\n",
       "      <td>3770</td>\n",
       "      <td>45</td>\n",
       "      <td>United-States</td>\n",
       "      <td>&lt;=50K</td>\n",
       "      <td>0</td>\n",
       "    </tr>\n",
       "    <tr>\n",
       "      <th>6</th>\n",
       "      <td>38</td>\n",
       "      <td>Private</td>\n",
       "      <td>150601</td>\n",
       "      <td>10th</td>\n",
       "      <td>6</td>\n",
       "      <td>Separated</td>\n",
       "      <td>Adm-clerical</td>\n",
       "      <td>Unmarried</td>\n",
       "      <td>White</td>\n",
       "      <td>Male</td>\n",
       "      <td>3770</td>\n",
       "      <td>40</td>\n",
       "      <td>United-States</td>\n",
       "      <td>&lt;=50K</td>\n",
       "      <td>0</td>\n",
       "    </tr>\n",
       "    <tr>\n",
       "      <th>...</th>\n",
       "      <td>...</td>\n",
       "      <td>...</td>\n",
       "      <td>...</td>\n",
       "      <td>...</td>\n",
       "      <td>...</td>\n",
       "      <td>...</td>\n",
       "      <td>...</td>\n",
       "      <td>...</td>\n",
       "      <td>...</td>\n",
       "      <td>...</td>\n",
       "      <td>...</td>\n",
       "      <td>...</td>\n",
       "      <td>...</td>\n",
       "      <td>...</td>\n",
       "      <td>...</td>\n",
       "    </tr>\n",
       "    <tr>\n",
       "      <th>32556</th>\n",
       "      <td>22</td>\n",
       "      <td>Private</td>\n",
       "      <td>310152</td>\n",
       "      <td>Some-college</td>\n",
       "      <td>10</td>\n",
       "      <td>Never-married</td>\n",
       "      <td>Protective-serv</td>\n",
       "      <td>Not-in-family</td>\n",
       "      <td>White</td>\n",
       "      <td>Male</td>\n",
       "      <td>0</td>\n",
       "      <td>40</td>\n",
       "      <td>United-States</td>\n",
       "      <td>&lt;=50K</td>\n",
       "      <td>0</td>\n",
       "    </tr>\n",
       "    <tr>\n",
       "      <th>32557</th>\n",
       "      <td>27</td>\n",
       "      <td>Private</td>\n",
       "      <td>257302</td>\n",
       "      <td>Assoc-acdm</td>\n",
       "      <td>12</td>\n",
       "      <td>Married-civ-spouse</td>\n",
       "      <td>Tech-support</td>\n",
       "      <td>Wife</td>\n",
       "      <td>White</td>\n",
       "      <td>Female</td>\n",
       "      <td>0</td>\n",
       "      <td>38</td>\n",
       "      <td>United-States</td>\n",
       "      <td>&lt;=50K</td>\n",
       "      <td>0</td>\n",
       "    </tr>\n",
       "    <tr>\n",
       "      <th>32558</th>\n",
       "      <td>40</td>\n",
       "      <td>Private</td>\n",
       "      <td>154374</td>\n",
       "      <td>HS-grad</td>\n",
       "      <td>9</td>\n",
       "      <td>Married-civ-spouse</td>\n",
       "      <td>Machine-op-inspct</td>\n",
       "      <td>Husband</td>\n",
       "      <td>White</td>\n",
       "      <td>Male</td>\n",
       "      <td>0</td>\n",
       "      <td>40</td>\n",
       "      <td>United-States</td>\n",
       "      <td>&gt;50K</td>\n",
       "      <td>1</td>\n",
       "    </tr>\n",
       "    <tr>\n",
       "      <th>32559</th>\n",
       "      <td>58</td>\n",
       "      <td>Private</td>\n",
       "      <td>151910</td>\n",
       "      <td>HS-grad</td>\n",
       "      <td>9</td>\n",
       "      <td>Widowed</td>\n",
       "      <td>Adm-clerical</td>\n",
       "      <td>Unmarried</td>\n",
       "      <td>White</td>\n",
       "      <td>Female</td>\n",
       "      <td>0</td>\n",
       "      <td>40</td>\n",
       "      <td>United-States</td>\n",
       "      <td>&lt;=50K</td>\n",
       "      <td>0</td>\n",
       "    </tr>\n",
       "    <tr>\n",
       "      <th>32560</th>\n",
       "      <td>22</td>\n",
       "      <td>Private</td>\n",
       "      <td>201490</td>\n",
       "      <td>HS-grad</td>\n",
       "      <td>9</td>\n",
       "      <td>Never-married</td>\n",
       "      <td>Adm-clerical</td>\n",
       "      <td>Own-child</td>\n",
       "      <td>White</td>\n",
       "      <td>Male</td>\n",
       "      <td>0</td>\n",
       "      <td>20</td>\n",
       "      <td>United-States</td>\n",
       "      <td>&lt;=50K</td>\n",
       "      <td>0</td>\n",
       "    </tr>\n",
       "  </tbody>\n",
       "</table>\n",
       "<p>30162 rows × 15 columns</p>\n",
       "</div>"
      ],
      "text/plain": [
       "       age workclass  fnlwgt     education  education.num      marital.status  \\\n",
       "1       82   Private  132870       HS-grad              9             Widowed   \n",
       "3       54   Private  140359       7th-8th              4            Divorced   \n",
       "4       41   Private  264663  Some-college             10           Separated   \n",
       "5       34   Private  216864       HS-grad              9            Divorced   \n",
       "6       38   Private  150601          10th              6           Separated   \n",
       "...    ...       ...     ...           ...            ...                 ...   \n",
       "32556   22   Private  310152  Some-college             10       Never-married   \n",
       "32557   27   Private  257302    Assoc-acdm             12  Married-civ-spouse   \n",
       "32558   40   Private  154374       HS-grad              9  Married-civ-spouse   \n",
       "32559   58   Private  151910       HS-grad              9             Widowed   \n",
       "32560   22   Private  201490       HS-grad              9       Never-married   \n",
       "\n",
       "              occupation   relationship   race     sex  capital.loss  \\\n",
       "1        Exec-managerial  Not-in-family  White  Female          4356   \n",
       "3      Machine-op-inspct      Unmarried  White  Female          3900   \n",
       "4         Prof-specialty      Own-child  White  Female          3900   \n",
       "5          Other-service      Unmarried  White  Female          3770   \n",
       "6           Adm-clerical      Unmarried  White    Male          3770   \n",
       "...                  ...            ...    ...     ...           ...   \n",
       "32556    Protective-serv  Not-in-family  White    Male             0   \n",
       "32557       Tech-support           Wife  White  Female             0   \n",
       "32558  Machine-op-inspct        Husband  White    Male             0   \n",
       "32559       Adm-clerical      Unmarried  White  Female             0   \n",
       "32560       Adm-clerical      Own-child  White    Male             0   \n",
       "\n",
       "       hours.per.week native.country income  Income Status  \n",
       "1                  18  United-States  <=50K              0  \n",
       "3                  40  United-States  <=50K              0  \n",
       "4                  40  United-States  <=50K              0  \n",
       "5                  45  United-States  <=50K              0  \n",
       "6                  40  United-States  <=50K              0  \n",
       "...               ...            ...    ...            ...  \n",
       "32556              40  United-States  <=50K              0  \n",
       "32557              38  United-States  <=50K              0  \n",
       "32558              40  United-States   >50K              1  \n",
       "32559              40  United-States  <=50K              0  \n",
       "32560              20  United-States  <=50K              0  \n",
       "\n",
       "[30162 rows x 15 columns]"
      ]
     },
     "execution_count": 22,
     "metadata": {},
     "output_type": "execute_result"
    }
   ],
   "source": [
    "# dropping capital gain column as it has 91% zeo values and rest don't make sense \n",
    "df.drop(['capital.gain'],axis=1)"
   ]
  },
  {
   "cell_type": "code",
   "execution_count": 23,
   "metadata": {
    "colab": {
     "base_uri": "https://localhost:8080/"
    },
    "id": "qRZwJFG5K1hY",
    "outputId": "d3238fe1-77ad-4a23-c09d-844ac11d2f6f"
   },
   "outputs": [
    {
     "data": {
      "text/plain": [
       "[38.437901995888865, 13.134664776856322, 172.51941880039016]"
      ]
     },
     "execution_count": 23,
     "metadata": {},
     "output_type": "execute_result"
    }
   ],
   "source": [
    "#age statistics\n",
    "[df['age'].mean(),\n",
    "df['age'].std(),\n",
    " df['age'].var()]"
   ]
  },
  {
   "cell_type": "code",
   "execution_count": 24,
   "metadata": {
    "colab": {
     "base_uri": "https://localhost:8080/"
    },
    "id": "0FBCi3YMMMza",
    "outputId": "2c294f5d-74a1-47a5-e473-fcaa8e034a19"
   },
   "outputs": [
    {
     "data": {
      "text/plain": [
       "[40.93123798156621, 11.979984229273326, 143.52002213363758]"
      ]
     },
     "execution_count": 24,
     "metadata": {},
     "output_type": "execute_result"
    }
   ],
   "source": [
    "#hours statistics\n",
    "[df['hours.per.week'].mean(),\n",
    "df['hours.per.week'].std(),\n",
    "df['hours.per.week'].var()]"
   ]
  },
  {
   "cell_type": "code",
   "execution_count": 25,
   "metadata": {
    "colab": {
     "base_uri": "https://localhost:8080/"
    },
    "id": "NwuNk9vMMO5h",
    "outputId": "24cde575-f50e-4625-9726-901776aa988f"
   },
   "outputs": [
    {
     "data": {
      "text/plain": [
       "[88.37248856176646, 404.29837048617463, 163457.17237777612]"
      ]
     },
     "execution_count": 25,
     "metadata": {},
     "output_type": "execute_result"
    }
   ],
   "source": [
    "#capital loss statistics\n",
    "[df['capital.loss'].mean(),\n",
    "df['capital.loss'].std(),\n",
    "df['capital.loss'].var()]"
   ]
  },
  {
   "cell_type": "code",
   "execution_count": 26,
   "metadata": {
    "colab": {
     "base_uri": "https://localhost:8080/"
    },
    "id": "IC3OAzlBQk2R",
    "outputId": "73d356cb-2073-4686-b359-36dfc2b9325f"
   },
   "outputs": [
    {
     "data": {
      "text/plain": [
       "<AxesSubplot:xlabel='hours.per.week', ylabel='sex'>"
      ]
     },
     "execution_count": 26,
     "metadata": {},
     "output_type": "execute_result"
    },
    {
     "data": {
      "image/png": "[encoded data removed]",
      "text/plain": [
       "<Figure size 432x288 with 1 Axes>"
      ]
     },
     "metadata": {
      "needs_background": "light"
     },
     "output_type": "display_data"
    }
   ],
   "source": [
    "sns.boxplot(x=df['hours.per.week'],y=df['sex'])"
   ]
  },
  {
   "cell_type": "code",
   "execution_count": 27,
   "metadata": {
    "id": "xe0gEJxMU0gD"
   },
   "outputs": [
    {
     "data": {
      "image/png": "[encoded data removed]",
      "text/plain": [
       "<Figure size 432x288 with 2 Axes>"
      ]
     },
     "metadata": {
      "needs_background": "light"
     },
     "output_type": "display_data"
    }
   ],
   "source": [
    "#correlation coefficients in the dataframe\n",
    "corr= df.corr()\n",
    "ax = sns.heatmap(corr, xticklabels=corr.columns, yticklabels= corr.columns,annot=True)"
   ]
  },
  {
   "cell_type": "code",
   "execution_count": 28,
   "metadata": {
    "colab": {
     "base_uri": "https://localhost:8080/",
     "height": 206
    },
    "id": "QCOqCU9jXgOe",
    "outputId": "2ed14d27-f268-4222-b618-55d49a94d3e9"
   },
   "outputs": [
    {
     "data": {
      "text/html": [
       "<div>\n",
       "<style scoped>\n",
       "    .dataframe tbody tr th:only-of-type {\n",
       "        vertical-align: middle;\n",
       "    }\n",
       "\n",
       "    .dataframe tbody tr th {\n",
       "        vertical-align: top;\n",
       "    }\n",
       "\n",
       "    .dataframe thead th {\n",
       "        text-align: right;\n",
       "    }\n",
       "</style>\n",
       "<table border=\"1\" class=\"dataframe\">\n",
       "  <thead>\n",
       "    <tr style=\"text-align: right;\">\n",
       "      <th></th>\n",
       "      <th></th>\n",
       "      <th>sex</th>\n",
       "    </tr>\n",
       "    <tr>\n",
       "      <th>sex</th>\n",
       "      <th>income</th>\n",
       "      <th></th>\n",
       "    </tr>\n",
       "  </thead>\n",
       "  <tbody>\n",
       "    <tr>\n",
       "      <th rowspan=\"2\" valign=\"top\">Female</th>\n",
       "      <th>&lt;=50K</th>\n",
       "      <td>8670</td>\n",
       "    </tr>\n",
       "    <tr>\n",
       "      <th>&gt;50K</th>\n",
       "      <td>1112</td>\n",
       "    </tr>\n",
       "    <tr>\n",
       "      <th rowspan=\"2\" valign=\"top\">Male</th>\n",
       "      <th>&lt;=50K</th>\n",
       "      <td>13984</td>\n",
       "    </tr>\n",
       "    <tr>\n",
       "      <th>&gt;50K</th>\n",
       "      <td>6396</td>\n",
       "    </tr>\n",
       "  </tbody>\n",
       "</table>\n",
       "</div>"
      ],
      "text/plain": [
       "                 sex\n",
       "sex    income       \n",
       "Female <=50K    8670\n",
       "       >50K     1112\n",
       "Male   <=50K   13984\n",
       "       >50K     6396"
      ]
     },
     "execution_count": 28,
     "metadata": {},
     "output_type": "execute_result"
    }
   ],
   "source": [
    "#male and female count grouped by incomes\n",
    "pd.DataFrame(df.groupby(['sex','income'])['sex'].size())"
   ]
  },
  {
   "cell_type": "markdown",
   "metadata": {
    "id": "sBgs6L_RGuHN"
   },
   "source": [
    "Scatter plot for age vs working hours "
   ]
  },
  {
   "cell_type": "code",
   "execution_count": 29,
   "metadata": {
    "colab": {
     "base_uri": "https://localhost:8080/"
    },
    "id": "-fzyvCWMGzIu",
    "outputId": "fd9b3dcc-4797-4056-b780-dbf344f31291"
   },
   "outputs": [
    {
     "name": "stderr",
     "output_type": "stream",
     "text": [
      "No handles with labels found to put in legend.\n"
     ]
    },
    {
     "data": {
      "image/png": "[encoded data removed]",
      "text/plain": [
       "<Figure size 1440x648 with 1 Axes>"
      ]
     },
     "metadata": {
      "needs_background": "light"
     },
     "output_type": "display_data"
    }
   ],
   "source": [
    "from matplotlib import pyplot as plt \n",
    "fig,ax = plt.subplots(figsize=(20,9))\n",
    "ax.set_xlabel('Age')\n",
    "ax.set_ylabel('Working Hours per week')\n",
    "ax.scatter(df['age'],df['hours.per.week'])\n",
    "plt.title('Scatter plot of Age vs Working hours')\n",
    "z = np.polyfit(df['age'],df['hours.per.week'], 1)\n",
    "p = np.poly1d(z)\n",
    "\n",
    "#add trendline to plot\n",
    "plt.plot(df['age'], p(df['age']))\n",
    "plt.legend()\n",
    "plt.show()"
   ]
  },
  {
   "cell_type": "code",
   "execution_count": 30,
   "metadata": {
    "id": "OC6W3zUiJSIh",
    "scrolled": true
   },
   "outputs": [
    {
     "data": {
      "image/png": "[encoded data removed]",
      "text/plain": [
       "<Figure size 2160x1440 with 6 Axes>"
      ]
     },
     "metadata": {
      "needs_background": "light"
     },
     "output_type": "display_data"
    }
   ],
   "source": [
    "fig, ax = plt.subplots(nrows=2,ncols=3, figsize=(30,20))\n",
    "sns.countplot(x=\"sex\", data=df,hue=\"Income Status\",ax = ax[0][0])\n",
    "cp2 = sns.countplot(x=\"education\", data=df,hue=\"Income Status\",ax = ax[0][2])\n",
    "cp2.set_xticklabels(cp2.get_xticklabels(), rotation=40, ha=\"right\")\n",
    "cp3 = sns.countplot(x=\"race\", data=df,hue=\"Income Status\",ax = ax[1][0])\n",
    "cp3.set_xticklabels(cp3.get_xticklabels(), rotation=40, ha=\"right\")\n",
    "cp4 = sns.countplot(x=\"relationship\", data=df,hue=\"Income Status\", ax = ax[1][1])\n",
    "cp4.set_xticklabels(cp4.get_xticklabels(), rotation=40, ha=\"right\")\n",
    "cp5 = sns.countplot(x=\"occupation\", data=df,hue=\"Income Status\",ax= ax[1][2])\n",
    "cp5.set_xticklabels(cp5.get_xticklabels(), rotation=40, ha=\"right\")\n",
    "\n",
    "plt.tight_layout()"
   ]
  },
  {
   "cell_type": "code",
   "execution_count": 31,
   "metadata": {
    "id": "Bi0_jhh6wM6J"
   },
   "outputs": [],
   "source": [
    "import pandas as pd \n",
    "import numpy as np   \n",
    "from sklearn import preprocessing\n",
    "from sklearn.model_selection import train_test_split\n",
    "from sklearn.metrics import accuracy_score\n",
    "from sklearn.neighbors import NearestNeighbors, KNeighborsClassifier\n",
    "from sklearn.metrics import mean_squared_error\n",
    "import matplotlib.pylab as plt\n",
    "from sklearn.model_selection import train_test_split\n",
    "from sklearn.preprocessing import StandardScaler"
   ]
  },
  {
   "cell_type": "code",
   "execution_count": 32,
   "metadata": {
    "id": "zosJKfl9hhjn"
   },
   "outputs": [],
   "source": [
    "import pandas as pd\n",
    "df_cleaned=pd.read_csv('adult_cleaned.csv')\n",
    "df_cleaned.drop(columns=['capital.gain'],inplace=True)\n",
    "cat_var=['workclass', 'education',\n",
    " 'marital.status', 'occupation', 'relationship', 'race',\n",
    "'sex','native.country'] #list of categorical variables\n",
    "all_pred=['age', 'workclass', 'fnlwgt', 'education',\n",
    "       'education.num', 'marital.status', 'occupation', 'relationship', 'race',\n",
    "       'sex',  'capital.loss', 'hours.per.week',\n",
    "       'native.country']"
   ]
  },
  {
   "cell_type": "code",
   "execution_count": 33,
   "metadata": {
    "id": "JHFWGe4p2GW6"
   },
   "outputs": [],
   "source": [
    "#checking if the correlation among precdictors exceeds 0.7\n",
    "dummy_df=pd.get_dummies(df_cleaned[cat_var])\n",
    "dfcleaned_corr=np.absolute(df_cleaned[all_pred].join(dummy_df).corr())\n",
    "x=list(dfcleaned_corr.columns)"
   ]
  },
  {
   "cell_type": "code",
   "execution_count": 34,
   "metadata": {},
   "outputs": [
    {
     "data": {
      "text/html": [
       "<div>\n",
       "<style scoped>\n",
       "    .dataframe tbody tr th:only-of-type {\n",
       "        vertical-align: middle;\n",
       "    }\n",
       "\n",
       "    .dataframe tbody tr th {\n",
       "        vertical-align: top;\n",
       "    }\n",
       "\n",
       "    .dataframe thead th {\n",
       "        text-align: right;\n",
       "    }\n",
       "</style>\n",
       "<table border=\"1\" class=\"dataframe\">\n",
       "  <thead>\n",
       "    <tr style=\"text-align: right;\">\n",
       "      <th></th>\n",
       "      <th>age</th>\n",
       "      <th>fnlwgt</th>\n",
       "      <th>education.num</th>\n",
       "      <th>capital.loss</th>\n",
       "      <th>hours.per.week</th>\n",
       "      <th>workclass_Federal-gov</th>\n",
       "      <th>workclass_Local-gov</th>\n",
       "      <th>workclass_Private</th>\n",
       "      <th>workclass_Self-emp-inc</th>\n",
       "      <th>workclass_Self-emp-not-inc</th>\n",
       "      <th>...</th>\n",
       "      <th>native.country_Portugal</th>\n",
       "      <th>native.country_Puerto-Rico</th>\n",
       "      <th>native.country_Scotland</th>\n",
       "      <th>native.country_South</th>\n",
       "      <th>native.country_Taiwan</th>\n",
       "      <th>native.country_Thailand</th>\n",
       "      <th>native.country_Trinadad&amp;Tobago</th>\n",
       "      <th>native.country_United-States</th>\n",
       "      <th>native.country_Vietnam</th>\n",
       "      <th>native.country_Yugoslavia</th>\n",
       "    </tr>\n",
       "  </thead>\n",
       "  <tbody>\n",
       "    <tr>\n",
       "      <th>age</th>\n",
       "      <td>1.000000</td>\n",
       "      <td>0.076511</td>\n",
       "      <td>0.043526</td>\n",
       "      <td>0.060165</td>\n",
       "      <td>0.101599</td>\n",
       "      <td>0.056626</td>\n",
       "      <td>0.068256</td>\n",
       "      <td>0.210491</td>\n",
       "      <td>0.111039</td>\n",
       "      <td>0.150429</td>\n",
       "      <td>...</td>\n",
       "      <td>0.001062</td>\n",
       "      <td>0.007836</td>\n",
       "      <td>0.000024</td>\n",
       "      <td>0.001923</td>\n",
       "      <td>0.007879</td>\n",
       "      <td>0.004940</td>\n",
       "      <td>0.007868</td>\n",
       "      <td>0.016259</td>\n",
       "      <td>0.017775</td>\n",
       "      <td>0.000657</td>\n",
       "    </tr>\n",
       "    <tr>\n",
       "      <th>fnlwgt</th>\n",
       "      <td>0.076511</td>\n",
       "      <td>1.000000</td>\n",
       "      <td>0.044992</td>\n",
       "      <td>0.009750</td>\n",
       "      <td>0.022886</td>\n",
       "      <td>0.006932</td>\n",
       "      <td>0.003520</td>\n",
       "      <td>0.046589</td>\n",
       "      <td>0.025496</td>\n",
       "      <td>0.041453</td>\n",
       "      <td>...</td>\n",
       "      <td>0.014020</td>\n",
       "      <td>0.007121</td>\n",
       "      <td>0.003055</td>\n",
       "      <td>0.010598</td>\n",
       "      <td>0.001615</td>\n",
       "      <td>0.001241</td>\n",
       "      <td>0.000413</td>\n",
       "      <td>0.083390</td>\n",
       "      <td>0.010761</td>\n",
       "      <td>0.005707</td>\n",
       "    </tr>\n",
       "    <tr>\n",
       "      <th>education.num</th>\n",
       "      <td>0.043526</td>\n",
       "      <td>0.044992</td>\n",
       "      <td>1.000000</td>\n",
       "      <td>0.079646</td>\n",
       "      <td>0.152522</td>\n",
       "      <td>0.058244</td>\n",
       "      <td>0.097378</td>\n",
       "      <td>0.165069</td>\n",
       "      <td>0.078843</td>\n",
       "      <td>0.010605</td>\n",
       "      <td>...</td>\n",
       "      <td>0.043058</td>\n",
       "      <td>0.042083</td>\n",
       "      <td>0.001815</td>\n",
       "      <td>0.017812</td>\n",
       "      <td>0.049129</td>\n",
       "      <td>0.008183</td>\n",
       "      <td>0.017134</td>\n",
       "      <td>0.127207</td>\n",
       "      <td>0.010953</td>\n",
       "      <td>0.001661</td>\n",
       "    </tr>\n",
       "    <tr>\n",
       "      <th>capital.loss</th>\n",
       "      <td>0.060165</td>\n",
       "      <td>0.009750</td>\n",
       "      <td>0.079646</td>\n",
       "      <td>1.000000</td>\n",
       "      <td>0.052417</td>\n",
       "      <td>0.010380</td>\n",
       "      <td>0.014727</td>\n",
       "      <td>0.036377</td>\n",
       "      <td>0.030956</td>\n",
       "      <td>0.020221</td>\n",
       "      <td>...</td>\n",
       "      <td>0.007343</td>\n",
       "      <td>0.004560</td>\n",
       "      <td>0.004175</td>\n",
       "      <td>0.005677</td>\n",
       "      <td>0.005679</td>\n",
       "      <td>0.005191</td>\n",
       "      <td>0.008849</td>\n",
       "      <td>0.015119</td>\n",
       "      <td>0.000344</td>\n",
       "      <td>0.005036</td>\n",
       "    </tr>\n",
       "    <tr>\n",
       "      <th>hours.per.week</th>\n",
       "      <td>0.101599</td>\n",
       "      <td>0.022886</td>\n",
       "      <td>0.152522</td>\n",
       "      <td>0.052417</td>\n",
       "      <td>1.000000</td>\n",
       "      <td>0.005229</td>\n",
       "      <td>0.001612</td>\n",
       "      <td>0.095533</td>\n",
       "      <td>0.126254</td>\n",
       "      <td>0.087835</td>\n",
       "      <td>...</td>\n",
       "      <td>0.003162</td>\n",
       "      <td>0.012015</td>\n",
       "      <td>0.000689</td>\n",
       "      <td>0.014328</td>\n",
       "      <td>0.000305</td>\n",
       "      <td>0.012846</td>\n",
       "      <td>0.007566</td>\n",
       "      <td>0.010673</td>\n",
       "      <td>0.010381</td>\n",
       "      <td>0.006983</td>\n",
       "    </tr>\n",
       "    <tr>\n",
       "      <th>...</th>\n",
       "      <td>...</td>\n",
       "      <td>...</td>\n",
       "      <td>...</td>\n",
       "      <td>...</td>\n",
       "      <td>...</td>\n",
       "      <td>...</td>\n",
       "      <td>...</td>\n",
       "      <td>...</td>\n",
       "      <td>...</td>\n",
       "      <td>...</td>\n",
       "      <td>...</td>\n",
       "      <td>...</td>\n",
       "      <td>...</td>\n",
       "      <td>...</td>\n",
       "      <td>...</td>\n",
       "      <td>...</td>\n",
       "      <td>...</td>\n",
       "      <td>...</td>\n",
       "      <td>...</td>\n",
       "      <td>...</td>\n",
       "      <td>...</td>\n",
       "    </tr>\n",
       "    <tr>\n",
       "      <th>native.country_Thailand</th>\n",
       "      <td>0.004940</td>\n",
       "      <td>0.001241</td>\n",
       "      <td>0.008183</td>\n",
       "      <td>0.005191</td>\n",
       "      <td>0.012846</td>\n",
       "      <td>0.004266</td>\n",
       "      <td>0.006441</td>\n",
       "      <td>0.008144</td>\n",
       "      <td>0.018052</td>\n",
       "      <td>0.008065</td>\n",
       "      <td>...</td>\n",
       "      <td>0.000798</td>\n",
       "      <td>0.001430</td>\n",
       "      <td>0.000454</td>\n",
       "      <td>0.001154</td>\n",
       "      <td>0.000887</td>\n",
       "      <td>1.000000</td>\n",
       "      <td>0.000580</td>\n",
       "      <td>0.076390</td>\n",
       "      <td>0.001095</td>\n",
       "      <td>0.000547</td>\n",
       "    </tr>\n",
       "    <tr>\n",
       "      <th>native.country_Trinadad&amp;Tobago</th>\n",
       "      <td>0.007868</td>\n",
       "      <td>0.000413</td>\n",
       "      <td>0.017134</td>\n",
       "      <td>0.008849</td>\n",
       "      <td>0.007566</td>\n",
       "      <td>0.004390</td>\n",
       "      <td>0.001255</td>\n",
       "      <td>0.002164</td>\n",
       "      <td>0.002630</td>\n",
       "      <td>0.002420</td>\n",
       "      <td>...</td>\n",
       "      <td>0.000821</td>\n",
       "      <td>0.001472</td>\n",
       "      <td>0.000467</td>\n",
       "      <td>0.001187</td>\n",
       "      <td>0.000913</td>\n",
       "      <td>0.000580</td>\n",
       "      <td>1.000000</td>\n",
       "      <td>0.078606</td>\n",
       "      <td>0.001127</td>\n",
       "      <td>0.000563</td>\n",
       "    </tr>\n",
       "    <tr>\n",
       "      <th>native.country_United-States</th>\n",
       "      <td>0.016259</td>\n",
       "      <td>0.083390</td>\n",
       "      <td>0.127207</td>\n",
       "      <td>0.015119</td>\n",
       "      <td>0.010673</td>\n",
       "      <td>0.017541</td>\n",
       "      <td>0.032937</td>\n",
       "      <td>0.049809</td>\n",
       "      <td>0.007350</td>\n",
       "      <td>0.014520</td>\n",
       "      <td>...</td>\n",
       "      <td>0.108062</td>\n",
       "      <td>0.193727</td>\n",
       "      <td>0.061442</td>\n",
       "      <td>0.156254</td>\n",
       "      <td>0.120121</td>\n",
       "      <td>0.076390</td>\n",
       "      <td>0.078606</td>\n",
       "      <td>1.000000</td>\n",
       "      <td>0.148334</td>\n",
       "      <td>0.074108</td>\n",
       "    </tr>\n",
       "    <tr>\n",
       "      <th>native.country_Vietnam</th>\n",
       "      <td>0.017775</td>\n",
       "      <td>0.010761</td>\n",
       "      <td>0.010953</td>\n",
       "      <td>0.000344</td>\n",
       "      <td>0.010381</td>\n",
       "      <td>0.000004</td>\n",
       "      <td>0.003952</td>\n",
       "      <td>0.009369</td>\n",
       "      <td>0.004973</td>\n",
       "      <td>0.003405</td>\n",
       "      <td>...</td>\n",
       "      <td>0.001549</td>\n",
       "      <td>0.002777</td>\n",
       "      <td>0.000881</td>\n",
       "      <td>0.002240</td>\n",
       "      <td>0.001722</td>\n",
       "      <td>0.001095</td>\n",
       "      <td>0.001127</td>\n",
       "      <td>0.148334</td>\n",
       "      <td>1.000000</td>\n",
       "      <td>0.001062</td>\n",
       "    </tr>\n",
       "    <tr>\n",
       "      <th>native.country_Yugoslavia</th>\n",
       "      <td>0.000657</td>\n",
       "      <td>0.005707</td>\n",
       "      <td>0.001661</td>\n",
       "      <td>0.005036</td>\n",
       "      <td>0.006983</td>\n",
       "      <td>0.004139</td>\n",
       "      <td>0.000550</td>\n",
       "      <td>0.003861</td>\n",
       "      <td>0.003343</td>\n",
       "      <td>0.001701</td>\n",
       "      <td>...</td>\n",
       "      <td>0.000774</td>\n",
       "      <td>0.001387</td>\n",
       "      <td>0.000440</td>\n",
       "      <td>0.001119</td>\n",
       "      <td>0.000860</td>\n",
       "      <td>0.000547</td>\n",
       "      <td>0.000563</td>\n",
       "      <td>0.074108</td>\n",
       "      <td>0.001062</td>\n",
       "      <td>1.000000</td>\n",
       "    </tr>\n",
       "  </tbody>\n",
       "</table>\n",
       "<p>103 rows × 103 columns</p>\n",
       "</div>"
      ],
      "text/plain": [
       "                                     age    fnlwgt  education.num  \\\n",
       "age                             1.000000  0.076511       0.043526   \n",
       "fnlwgt                          0.076511  1.000000       0.044992   \n",
       "education.num                   0.043526  0.044992       1.000000   \n",
       "capital.loss                    0.060165  0.009750       0.079646   \n",
       "hours.per.week                  0.101599  0.022886       0.152522   \n",
       "...                                  ...       ...            ...   \n",
       "native.country_Thailand         0.004940  0.001241       0.008183   \n",
       "native.country_Trinadad&Tobago  0.007868  0.000413       0.017134   \n",
       "native.country_United-States    0.016259  0.083390       0.127207   \n",
       "native.country_Vietnam          0.017775  0.010761       0.010953   \n",
       "native.country_Yugoslavia       0.000657  0.005707       0.001661   \n",
       "\n",
       "                                capital.loss  hours.per.week  \\\n",
       "age                                 0.060165        0.101599   \n",
       "fnlwgt                              0.009750        0.022886   \n",
       "education.num                       0.079646        0.152522   \n",
       "capital.loss                        1.000000        0.052417   \n",
       "hours.per.week                      0.052417        1.000000   \n",
       "...                                      ...             ...   \n",
       "native.country_Thailand             0.005191        0.012846   \n",
       "native.country_Trinadad&Tobago      0.008849        0.007566   \n",
       "native.country_United-States        0.015119        0.010673   \n",
       "native.country_Vietnam              0.000344        0.010381   \n",
       "native.country_Yugoslavia           0.005036        0.006983   \n",
       "\n",
       "                                workclass_Federal-gov  workclass_Local-gov  \\\n",
       "age                                          0.056626             0.068256   \n",
       "fnlwgt                                       0.006932             0.003520   \n",
       "education.num                                0.058244             0.097378   \n",
       "capital.loss                                 0.010380             0.014727   \n",
       "hours.per.week                               0.005229             0.001612   \n",
       "...                                               ...                  ...   \n",
       "native.country_Thailand                      0.004266             0.006441   \n",
       "native.country_Trinadad&Tobago               0.004390             0.001255   \n",
       "native.country_United-States                 0.017541             0.032937   \n",
       "native.country_Vietnam                       0.000004             0.003952   \n",
       "native.country_Yugoslavia                    0.004139             0.000550   \n",
       "\n",
       "                                workclass_Private  workclass_Self-emp-inc  \\\n",
       "age                                      0.210491                0.111039   \n",
       "fnlwgt                                   0.046589                0.025496   \n",
       "education.num                            0.165069                0.078843   \n",
       "capital.loss                             0.036377                0.030956   \n",
       "hours.per.week                           0.095533                0.126254   \n",
       "...                                           ...                     ...   \n",
       "native.country_Thailand                  0.008144                0.018052   \n",
       "native.country_Trinadad&Tobago           0.002164                0.002630   \n",
       "native.country_United-States             0.049809                0.007350   \n",
       "native.country_Vietnam                   0.009369                0.004973   \n",
       "native.country_Yugoslavia                0.003861                0.003343   \n",
       "\n",
       "                                workclass_Self-emp-not-inc  ...  \\\n",
       "age                                               0.150429  ...   \n",
       "fnlwgt                                            0.041453  ...   \n",
       "education.num                                     0.010605  ...   \n",
       "capital.loss                                      0.020221  ...   \n",
       "hours.per.week                                    0.087835  ...   \n",
       "...                                                    ...  ...   \n",
       "native.country_Thailand                           0.008065  ...   \n",
       "native.country_Trinadad&Tobago                    0.002420  ...   \n",
       "native.country_United-States                      0.014520  ...   \n",
       "native.country_Vietnam                            0.003405  ...   \n",
       "native.country_Yugoslavia                         0.001701  ...   \n",
       "\n",
       "                                native.country_Portugal  \\\n",
       "age                                            0.001062   \n",
       "fnlwgt                                         0.014020   \n",
       "education.num                                  0.043058   \n",
       "capital.loss                                   0.007343   \n",
       "hours.per.week                                 0.003162   \n",
       "...                                                 ...   \n",
       "native.country_Thailand                        0.000798   \n",
       "native.country_Trinadad&Tobago                 0.000821   \n",
       "native.country_United-States                   0.108062   \n",
       "native.country_Vietnam                         0.001549   \n",
       "native.country_Yugoslavia                      0.000774   \n",
       "\n",
       "                                native.country_Puerto-Rico  \\\n",
       "age                                               0.007836   \n",
       "fnlwgt                                            0.007121   \n",
       "education.num                                     0.042083   \n",
       "capital.loss                                      0.004560   \n",
       "hours.per.week                                    0.012015   \n",
       "...                                                    ...   \n",
       "native.country_Thailand                           0.001430   \n",
       "native.country_Trinadad&Tobago                    0.001472   \n",
       "native.country_United-States                      0.193727   \n",
       "native.country_Vietnam                            0.002777   \n",
       "native.country_Yugoslavia                         0.001387   \n",
       "\n",
       "                                native.country_Scotland  native.country_South  \\\n",
       "age                                            0.000024              0.001923   \n",
       "fnlwgt                                         0.003055              0.010598   \n",
       "education.num                                  0.001815              0.017812   \n",
       "capital.loss                                   0.004175              0.005677   \n",
       "hours.per.week                                 0.000689              0.014328   \n",
       "...                                                 ...                   ...   \n",
       "native.country_Thailand                        0.000454              0.001154   \n",
       "native.country_Trinadad&Tobago                 0.000467              0.001187   \n",
       "native.country_United-States                   0.061442              0.156254   \n",
       "native.country_Vietnam                         0.000881              0.002240   \n",
       "native.country_Yugoslavia                      0.000440              0.001119   \n",
       "\n",
       "                                native.country_Taiwan  \\\n",
       "age                                          0.007879   \n",
       "fnlwgt                                       0.001615   \n",
       "education.num                                0.049129   \n",
       "capital.loss                                 0.005679   \n",
       "hours.per.week                               0.000305   \n",
       "...                                               ...   \n",
       "native.country_Thailand                      0.000887   \n",
       "native.country_Trinadad&Tobago               0.000913   \n",
       "native.country_United-States                 0.120121   \n",
       "native.country_Vietnam                       0.001722   \n",
       "native.country_Yugoslavia                    0.000860   \n",
       "\n",
       "                                native.country_Thailand  \\\n",
       "age                                            0.004940   \n",
       "fnlwgt                                         0.001241   \n",
       "education.num                                  0.008183   \n",
       "capital.loss                                   0.005191   \n",
       "hours.per.week                                 0.012846   \n",
       "...                                                 ...   \n",
       "native.country_Thailand                        1.000000   \n",
       "native.country_Trinadad&Tobago                 0.000580   \n",
       "native.country_United-States                   0.076390   \n",
       "native.country_Vietnam                         0.001095   \n",
       "native.country_Yugoslavia                      0.000547   \n",
       "\n",
       "                                native.country_Trinadad&Tobago  \\\n",
       "age                                                   0.007868   \n",
       "fnlwgt                                                0.000413   \n",
       "education.num                                         0.017134   \n",
       "capital.loss                                          0.008849   \n",
       "hours.per.week                                        0.007566   \n",
       "...                                                        ...   \n",
       "native.country_Thailand                               0.000580   \n",
       "native.country_Trinadad&Tobago                        1.000000   \n",
       "native.country_United-States                          0.078606   \n",
       "native.country_Vietnam                                0.001127   \n",
       "native.country_Yugoslavia                             0.000563   \n",
       "\n",
       "                                native.country_United-States  \\\n",
       "age                                                 0.016259   \n",
       "fnlwgt                                              0.083390   \n",
       "education.num                                       0.127207   \n",
       "capital.loss                                        0.015119   \n",
       "hours.per.week                                      0.010673   \n",
       "...                                                      ...   \n",
       "native.country_Thailand                             0.076390   \n",
       "native.country_Trinadad&Tobago                      0.078606   \n",
       "native.country_United-States                        1.000000   \n",
       "native.country_Vietnam                              0.148334   \n",
       "native.country_Yugoslavia                           0.074108   \n",
       "\n",
       "                                native.country_Vietnam  \\\n",
       "age                                           0.017775   \n",
       "fnlwgt                                        0.010761   \n",
       "education.num                                 0.010953   \n",
       "capital.loss                                  0.000344   \n",
       "hours.per.week                                0.010381   \n",
       "...                                                ...   \n",
       "native.country_Thailand                       0.001095   \n",
       "native.country_Trinadad&Tobago                0.001127   \n",
       "native.country_United-States                  0.148334   \n",
       "native.country_Vietnam                        1.000000   \n",
       "native.country_Yugoslavia                     0.001062   \n",
       "\n",
       "                                native.country_Yugoslavia  \n",
       "age                                              0.000657  \n",
       "fnlwgt                                           0.005707  \n",
       "education.num                                    0.001661  \n",
       "capital.loss                                     0.005036  \n",
       "hours.per.week                                   0.006983  \n",
       "...                                                   ...  \n",
       "native.country_Thailand                          0.000547  \n",
       "native.country_Trinadad&Tobago                   0.000563  \n",
       "native.country_United-States                     0.074108  \n",
       "native.country_Vietnam                           0.001062  \n",
       "native.country_Yugoslavia                        1.000000  \n",
       "\n",
       "[103 rows x 103 columns]"
      ]
     },
     "execution_count": 34,
     "metadata": {},
     "output_type": "execute_result"
    }
   ],
   "source": [
    "dfcleaned_corr"
   ]
  },
  {
   "cell_type": "code",
   "execution_count": 35,
   "metadata": {
    "colab": {
     "base_uri": "https://localhost:8080/"
    },
    "id": "UP_q5SJlFGC5",
    "outputId": "8a43ad60-7ea8-43f6-f048-d766b3252ae8"
   },
   "outputs": [
    {
     "data": {
      "text/plain": [
       "Index(['Unnamed: 0', 'age', 'workclass', 'fnlwgt', 'education',\n",
       "       'education.num', 'marital.status', 'occupation', 'relationship', 'race',\n",
       "       'sex', 'capital.loss', 'hours.per.week', 'native.country', 'income',\n",
       "       'Income Status'],\n",
       "      dtype='object')"
      ]
     },
     "execution_count": 35,
     "metadata": {},
     "output_type": "execute_result"
    }
   ],
   "source": [
    "df_cleaned.columns"
   ]
  },
  {
   "cell_type": "code",
   "execution_count": 36,
   "metadata": {
    "colab": {
     "base_uri": "https://localhost:8080/"
    },
    "id": "OsBD9BQz187V",
    "outputId": "2df0e474-32a6-4c58-fb03-ddf08555f3b8"
   },
   "outputs": [
    {
     "data": {
      "text/plain": [
       "age                              NaN\n",
       "fnlwgt                           NaN\n",
       "education.num                    NaN\n",
       "capital.loss                     NaN\n",
       "hours.per.week                   NaN\n",
       "                                  ..\n",
       "native.country_Thailand          NaN\n",
       "native.country_Trinadad&Tobago   NaN\n",
       "native.country_United-States     NaN\n",
       "native.country_Vietnam           NaN\n",
       "native.country_Yugoslavia        NaN\n",
       "Name: relationship_Husband, Length: 103, dtype: float64"
      ]
     },
     "execution_count": 36,
     "metadata": {},
     "output_type": "execute_result"
    }
   ],
   "source": [
    "#i=columns, j=rows\n",
    "cor7=dfcleaned_corr[dfcleaned_corr>0.7]\n",
    "cor7['relationship_Husband']#these are the diagonal values, all other are weakly correlated\n",
    "#hence we cannot drop predictors based on their correlation with each other"
   ]
  },
  {
   "cell_type": "code",
   "execution_count": 37,
   "metadata": {
    "colab": {
     "base_uri": "https://localhost:8080/",
     "height": 1000
    },
    "id": "6bdIPj709Pwu",
    "outputId": "7def6d3e-904b-4a4f-9952-deeb3ec41aa2"
   },
   "outputs": [
    {
     "data": {
      "text/html": [
       "<div>\n",
       "<style scoped>\n",
       "    .dataframe tbody tr th:only-of-type {\n",
       "        vertical-align: middle;\n",
       "    }\n",
       "\n",
       "    .dataframe tbody tr th {\n",
       "        vertical-align: top;\n",
       "    }\n",
       "\n",
       "    .dataframe thead th {\n",
       "        text-align: right;\n",
       "    }\n",
       "</style>\n",
       "<table border=\"1\" class=\"dataframe\">\n",
       "  <thead>\n",
       "    <tr style=\"text-align: right;\">\n",
       "      <th></th>\n",
       "      <th>Income Status</th>\n",
       "    </tr>\n",
       "  </thead>\n",
       "  <tbody>\n",
       "    <tr>\n",
       "      <th>Unnamed: 0</th>\n",
       "      <td>True</td>\n",
       "    </tr>\n",
       "    <tr>\n",
       "      <th>age</th>\n",
       "      <td>False</td>\n",
       "    </tr>\n",
       "    <tr>\n",
       "      <th>fnlwgt</th>\n",
       "      <td>True</td>\n",
       "    </tr>\n",
       "    <tr>\n",
       "      <th>education.num</th>\n",
       "      <td>False</td>\n",
       "    </tr>\n",
       "    <tr>\n",
       "      <th>capital.loss</th>\n",
       "      <td>False</td>\n",
       "    </tr>\n",
       "    <tr>\n",
       "      <th>hours.per.week</th>\n",
       "      <td>False</td>\n",
       "    </tr>\n",
       "    <tr>\n",
       "      <th>Income Status</th>\n",
       "      <td>False</td>\n",
       "    </tr>\n",
       "    <tr>\n",
       "      <th>workclass_Federal-gov</th>\n",
       "      <td>False</td>\n",
       "    </tr>\n",
       "    <tr>\n",
       "      <th>workclass_Local-gov</th>\n",
       "      <td>False</td>\n",
       "    </tr>\n",
       "    <tr>\n",
       "      <th>workclass_Private</th>\n",
       "      <td>True</td>\n",
       "    </tr>\n",
       "    <tr>\n",
       "      <th>workclass_Self-emp-inc</th>\n",
       "      <td>False</td>\n",
       "    </tr>\n",
       "    <tr>\n",
       "      <th>workclass_Self-emp-not-inc</th>\n",
       "      <td>False</td>\n",
       "    </tr>\n",
       "    <tr>\n",
       "      <th>workclass_State-gov</th>\n",
       "      <td>True</td>\n",
       "    </tr>\n",
       "    <tr>\n",
       "      <th>workclass_Without-pay</th>\n",
       "      <td>True</td>\n",
       "    </tr>\n",
       "    <tr>\n",
       "      <th>education_10th</th>\n",
       "      <td>True</td>\n",
       "    </tr>\n",
       "    <tr>\n",
       "      <th>education_11th</th>\n",
       "      <td>True</td>\n",
       "    </tr>\n",
       "    <tr>\n",
       "      <th>education_12th</th>\n",
       "      <td>True</td>\n",
       "    </tr>\n",
       "    <tr>\n",
       "      <th>education_1st-4th</th>\n",
       "      <td>True</td>\n",
       "    </tr>\n",
       "    <tr>\n",
       "      <th>education_5th-6th</th>\n",
       "      <td>True</td>\n",
       "    </tr>\n",
       "    <tr>\n",
       "      <th>education_7th-8th</th>\n",
       "      <td>True</td>\n",
       "    </tr>\n",
       "    <tr>\n",
       "      <th>education_9th</th>\n",
       "      <td>True</td>\n",
       "    </tr>\n",
       "    <tr>\n",
       "      <th>education_Assoc-acdm</th>\n",
       "      <td>True</td>\n",
       "    </tr>\n",
       "    <tr>\n",
       "      <th>education_Assoc-voc</th>\n",
       "      <td>True</td>\n",
       "    </tr>\n",
       "    <tr>\n",
       "      <th>education_Bachelors</th>\n",
       "      <td>False</td>\n",
       "    </tr>\n",
       "    <tr>\n",
       "      <th>education_Doctorate</th>\n",
       "      <td>False</td>\n",
       "    </tr>\n",
       "    <tr>\n",
       "      <th>education_HS-grad</th>\n",
       "      <td>True</td>\n",
       "    </tr>\n",
       "    <tr>\n",
       "      <th>education_Masters</th>\n",
       "      <td>False</td>\n",
       "    </tr>\n",
       "    <tr>\n",
       "      <th>education_Preschool</th>\n",
       "      <td>True</td>\n",
       "    </tr>\n",
       "    <tr>\n",
       "      <th>education_Prof-school</th>\n",
       "      <td>False</td>\n",
       "    </tr>\n",
       "    <tr>\n",
       "      <th>education_Some-college</th>\n",
       "      <td>True</td>\n",
       "    </tr>\n",
       "    <tr>\n",
       "      <th>marital.status_Divorced</th>\n",
       "      <td>True</td>\n",
       "    </tr>\n",
       "    <tr>\n",
       "      <th>marital.status_Married-AF-spouse</th>\n",
       "      <td>False</td>\n",
       "    </tr>\n",
       "    <tr>\n",
       "      <th>marital.status_Married-civ-spouse</th>\n",
       "      <td>False</td>\n",
       "    </tr>\n",
       "    <tr>\n",
       "      <th>marital.status_Married-spouse-absent</th>\n",
       "      <td>True</td>\n",
       "    </tr>\n",
       "    <tr>\n",
       "      <th>marital.status_Never-married</th>\n",
       "      <td>True</td>\n",
       "    </tr>\n",
       "    <tr>\n",
       "      <th>marital.status_Separated</th>\n",
       "      <td>True</td>\n",
       "    </tr>\n",
       "    <tr>\n",
       "      <th>marital.status_Widowed</th>\n",
       "      <td>True</td>\n",
       "    </tr>\n",
       "    <tr>\n",
       "      <th>occupation_Adm-clerical</th>\n",
       "      <td>True</td>\n",
       "    </tr>\n",
       "    <tr>\n",
       "      <th>occupation_Armed-Forces</th>\n",
       "      <td>True</td>\n",
       "    </tr>\n",
       "    <tr>\n",
       "      <th>occupation_Craft-repair</th>\n",
       "      <td>True</td>\n",
       "    </tr>\n",
       "    <tr>\n",
       "      <th>occupation_Exec-managerial</th>\n",
       "      <td>False</td>\n",
       "    </tr>\n",
       "    <tr>\n",
       "      <th>occupation_Farming-fishing</th>\n",
       "      <td>True</td>\n",
       "    </tr>\n",
       "    <tr>\n",
       "      <th>occupation_Handlers-cleaners</th>\n",
       "      <td>True</td>\n",
       "    </tr>\n",
       "    <tr>\n",
       "      <th>occupation_Machine-op-inspct</th>\n",
       "      <td>True</td>\n",
       "    </tr>\n",
       "    <tr>\n",
       "      <th>occupation_Other-service</th>\n",
       "      <td>True</td>\n",
       "    </tr>\n",
       "    <tr>\n",
       "      <th>occupation_Priv-house-serv</th>\n",
       "      <td>True</td>\n",
       "    </tr>\n",
       "    <tr>\n",
       "      <th>occupation_Prof-specialty</th>\n",
       "      <td>False</td>\n",
       "    </tr>\n",
       "    <tr>\n",
       "      <th>occupation_Protective-serv</th>\n",
       "      <td>False</td>\n",
       "    </tr>\n",
       "    <tr>\n",
       "      <th>occupation_Sales</th>\n",
       "      <td>False</td>\n",
       "    </tr>\n",
       "    <tr>\n",
       "      <th>occupation_Tech-support</th>\n",
       "      <td>False</td>\n",
       "    </tr>\n",
       "    <tr>\n",
       "      <th>occupation_Transport-moving</th>\n",
       "      <td>True</td>\n",
       "    </tr>\n",
       "    <tr>\n",
       "      <th>relationship_Husband</th>\n",
       "      <td>False</td>\n",
       "    </tr>\n",
       "    <tr>\n",
       "      <th>relationship_Not-in-family</th>\n",
       "      <td>True</td>\n",
       "    </tr>\n",
       "    <tr>\n",
       "      <th>relationship_Other-relative</th>\n",
       "      <td>True</td>\n",
       "    </tr>\n",
       "    <tr>\n",
       "      <th>relationship_Own-child</th>\n",
       "      <td>True</td>\n",
       "    </tr>\n",
       "    <tr>\n",
       "      <th>relationship_Unmarried</th>\n",
       "      <td>True</td>\n",
       "    </tr>\n",
       "    <tr>\n",
       "      <th>relationship_Wife</th>\n",
       "      <td>False</td>\n",
       "    </tr>\n",
       "    <tr>\n",
       "      <th>race_Amer-Indian-Eskimo</th>\n",
       "      <td>True</td>\n",
       "    </tr>\n",
       "    <tr>\n",
       "      <th>race_Asian-Pac-Islander</th>\n",
       "      <td>False</td>\n",
       "    </tr>\n",
       "    <tr>\n",
       "      <th>race_Black</th>\n",
       "      <td>True</td>\n",
       "    </tr>\n",
       "    <tr>\n",
       "      <th>race_Other</th>\n",
       "      <td>True</td>\n",
       "    </tr>\n",
       "    <tr>\n",
       "      <th>race_White</th>\n",
       "      <td>False</td>\n",
       "    </tr>\n",
       "    <tr>\n",
       "      <th>sex_Female</th>\n",
       "      <td>True</td>\n",
       "    </tr>\n",
       "    <tr>\n",
       "      <th>sex_Male</th>\n",
       "      <td>False</td>\n",
       "    </tr>\n",
       "    <tr>\n",
       "      <th>native.country_Cambodia</th>\n",
       "      <td>True</td>\n",
       "    </tr>\n",
       "    <tr>\n",
       "      <th>native.country_Canada</th>\n",
       "      <td>False</td>\n",
       "    </tr>\n",
       "    <tr>\n",
       "      <th>native.country_China</th>\n",
       "      <td>True</td>\n",
       "    </tr>\n",
       "    <tr>\n",
       "      <th>native.country_Columbia</th>\n",
       "      <td>True</td>\n",
       "    </tr>\n",
       "    <tr>\n",
       "      <th>native.country_Cuba</th>\n",
       "      <td>True</td>\n",
       "    </tr>\n",
       "    <tr>\n",
       "      <th>native.country_Dominican-Republic</th>\n",
       "      <td>True</td>\n",
       "    </tr>\n",
       "    <tr>\n",
       "      <th>native.country_Ecuador</th>\n",
       "      <td>True</td>\n",
       "    </tr>\n",
       "    <tr>\n",
       "      <th>native.country_El-Salvador</th>\n",
       "      <td>True</td>\n",
       "    </tr>\n",
       "    <tr>\n",
       "      <th>native.country_England</th>\n",
       "      <td>False</td>\n",
       "    </tr>\n",
       "    <tr>\n",
       "      <th>native.country_France</th>\n",
       "      <td>False</td>\n",
       "    </tr>\n",
       "    <tr>\n",
       "      <th>native.country_Germany</th>\n",
       "      <td>False</td>\n",
       "    </tr>\n",
       "    <tr>\n",
       "      <th>native.country_Greece</th>\n",
       "      <td>True</td>\n",
       "    </tr>\n",
       "    <tr>\n",
       "      <th>native.country_Guatemala</th>\n",
       "      <td>True</td>\n",
       "    </tr>\n",
       "    <tr>\n",
       "      <th>native.country_Haiti</th>\n",
       "      <td>True</td>\n",
       "    </tr>\n",
       "    <tr>\n",
       "      <th>native.country_Holand-Netherlands</th>\n",
       "      <td>True</td>\n",
       "    </tr>\n",
       "    <tr>\n",
       "      <th>native.country_Honduras</th>\n",
       "      <td>True</td>\n",
       "    </tr>\n",
       "    <tr>\n",
       "      <th>native.country_Hong</th>\n",
       "      <td>True</td>\n",
       "    </tr>\n",
       "    <tr>\n",
       "      <th>native.country_Hungary</th>\n",
       "      <td>True</td>\n",
       "    </tr>\n",
       "    <tr>\n",
       "      <th>native.country_India</th>\n",
       "      <td>False</td>\n",
       "    </tr>\n",
       "    <tr>\n",
       "      <th>native.country_Iran</th>\n",
       "      <td>False</td>\n",
       "    </tr>\n",
       "    <tr>\n",
       "      <th>native.country_Ireland</th>\n",
       "      <td>True</td>\n",
       "    </tr>\n",
       "    <tr>\n",
       "      <th>native.country_Italy</th>\n",
       "      <td>False</td>\n",
       "    </tr>\n",
       "    <tr>\n",
       "      <th>native.country_Jamaica</th>\n",
       "      <td>True</td>\n",
       "    </tr>\n",
       "    <tr>\n",
       "      <th>native.country_Japan</th>\n",
       "      <td>False</td>\n",
       "    </tr>\n",
       "    <tr>\n",
       "      <th>native.country_Laos</th>\n",
       "      <td>True</td>\n",
       "    </tr>\n",
       "    <tr>\n",
       "      <th>native.country_Mexico</th>\n",
       "      <td>True</td>\n",
       "    </tr>\n",
       "    <tr>\n",
       "      <th>native.country_Nicaragua</th>\n",
       "      <td>True</td>\n",
       "    </tr>\n",
       "    <tr>\n",
       "      <th>native.country_Outlying-US(Guam-USVI-etc)</th>\n",
       "      <td>True</td>\n",
       "    </tr>\n",
       "    <tr>\n",
       "      <th>native.country_Peru</th>\n",
       "      <td>True</td>\n",
       "    </tr>\n",
       "    <tr>\n",
       "      <th>native.country_Philippines</th>\n",
       "      <td>False</td>\n",
       "    </tr>\n",
       "    <tr>\n",
       "      <th>native.country_Poland</th>\n",
       "      <td>True</td>\n",
       "    </tr>\n",
       "    <tr>\n",
       "      <th>native.country_Portugal</th>\n",
       "      <td>True</td>\n",
       "    </tr>\n",
       "    <tr>\n",
       "      <th>native.country_Puerto-Rico</th>\n",
       "      <td>True</td>\n",
       "    </tr>\n",
       "    <tr>\n",
       "      <th>native.country_Scotland</th>\n",
       "      <td>True</td>\n",
       "    </tr>\n",
       "    <tr>\n",
       "      <th>native.country_South</th>\n",
       "      <td>True</td>\n",
       "    </tr>\n",
       "    <tr>\n",
       "      <th>native.country_Taiwan</th>\n",
       "      <td>False</td>\n",
       "    </tr>\n",
       "    <tr>\n",
       "      <th>native.country_Thailand</th>\n",
       "      <td>True</td>\n",
       "    </tr>\n",
       "    <tr>\n",
       "      <th>native.country_Trinadad&amp;Tobago</th>\n",
       "      <td>True</td>\n",
       "    </tr>\n",
       "    <tr>\n",
       "      <th>native.country_United-States</th>\n",
       "      <td>False</td>\n",
       "    </tr>\n",
       "    <tr>\n",
       "      <th>native.country_Vietnam</th>\n",
       "      <td>True</td>\n",
       "    </tr>\n",
       "    <tr>\n",
       "      <th>native.country_Yugoslavia</th>\n",
       "      <td>True</td>\n",
       "    </tr>\n",
       "  </tbody>\n",
       "</table>\n",
       "</div>"
      ],
      "text/plain": [
       "                                           Income Status\n",
       "Unnamed: 0                                          True\n",
       "age                                                False\n",
       "fnlwgt                                              True\n",
       "education.num                                      False\n",
       "capital.loss                                       False\n",
       "hours.per.week                                     False\n",
       "Income Status                                      False\n",
       "workclass_Federal-gov                              False\n",
       "workclass_Local-gov                                False\n",
       "workclass_Private                                   True\n",
       "workclass_Self-emp-inc                             False\n",
       "workclass_Self-emp-not-inc                         False\n",
       "workclass_State-gov                                 True\n",
       "workclass_Without-pay                               True\n",
       "education_10th                                      True\n",
       "education_11th                                      True\n",
       "education_12th                                      True\n",
       "education_1st-4th                                   True\n",
       "education_5th-6th                                   True\n",
       "education_7th-8th                                   True\n",
       "education_9th                                       True\n",
       "education_Assoc-acdm                                True\n",
       "education_Assoc-voc                                 True\n",
       "education_Bachelors                                False\n",
       "education_Doctorate                                False\n",
       "education_HS-grad                                   True\n",
       "education_Masters                                  False\n",
       "education_Preschool                                 True\n",
       "education_Prof-school                              False\n",
       "education_Some-college                              True\n",
       "marital.status_Divorced                             True\n",
       "marital.status_Married-AF-spouse                   False\n",
       "marital.status_Married-civ-spouse                  False\n",
       "marital.status_Married-spouse-absent                True\n",
       "marital.status_Never-married                        True\n",
       "marital.status_Separated                            True\n",
       "marital.status_Widowed                              True\n",
       "occupation_Adm-clerical                             True\n",
       "occupation_Armed-Forces                             True\n",
       "occupation_Craft-repair                             True\n",
       "occupation_Exec-managerial                         False\n",
       "occupation_Farming-fishing                          True\n",
       "occupation_Handlers-cleaners                        True\n",
       "occupation_Machine-op-inspct                        True\n",
       "occupation_Other-service                            True\n",
       "occupation_Priv-house-serv                          True\n",
       "occupation_Prof-specialty                          False\n",
       "occupation_Protective-serv                         False\n",
       "occupation_Sales                                   False\n",
       "occupation_Tech-support                            False\n",
       "occupation_Transport-moving                         True\n",
       "relationship_Husband                               False\n",
       "relationship_Not-in-family                          True\n",
       "relationship_Other-relative                         True\n",
       "relationship_Own-child                              True\n",
       "relationship_Unmarried                              True\n",
       "relationship_Wife                                  False\n",
       "race_Amer-Indian-Eskimo                             True\n",
       "race_Asian-Pac-Islander                            False\n",
       "race_Black                                          True\n",
       "race_Other                                          True\n",
       "race_White                                         False\n",
       "sex_Female                                          True\n",
       "sex_Male                                           False\n",
       "native.country_Cambodia                             True\n",
       "native.country_Canada                              False\n",
       "native.country_China                                True\n",
       "native.country_Columbia                             True\n",
       "native.country_Cuba                                 True\n",
       "native.country_Dominican-Republic                   True\n",
       "native.country_Ecuador                              True\n",
       "native.country_El-Salvador                          True\n",
       "native.country_England                             False\n",
       "native.country_France                              False\n",
       "native.country_Germany                             False\n",
       "native.country_Greece                               True\n",
       "native.country_Guatemala                            True\n",
       "native.country_Haiti                                True\n",
       "native.country_Holand-Netherlands                   True\n",
       "native.country_Honduras                             True\n",
       "native.country_Hong                                 True\n",
       "native.country_Hungary                              True\n",
       "native.country_India                               False\n",
       "native.country_Iran                                False\n",
       "native.country_Ireland                              True\n",
       "native.country_Italy                               False\n",
       "native.country_Jamaica                              True\n",
       "native.country_Japan                               False\n",
       "native.country_Laos                                 True\n",
       "native.country_Mexico                               True\n",
       "native.country_Nicaragua                            True\n",
       "native.country_Outlying-US(Guam-USVI-etc)           True\n",
       "native.country_Peru                                 True\n",
       "native.country_Philippines                         False\n",
       "native.country_Poland                               True\n",
       "native.country_Portugal                             True\n",
       "native.country_Puerto-Rico                          True\n",
       "native.country_Scotland                             True\n",
       "native.country_South                                True\n",
       "native.country_Taiwan                              False\n",
       "native.country_Thailand                             True\n",
       "native.country_Trinadad&Tobago                      True\n",
       "native.country_United-States                       False\n",
       "native.country_Vietnam                              True\n",
       "native.country_Yugoslavia                           True"
      ]
     },
     "execution_count": 37,
     "metadata": {},
     "output_type": "execute_result"
    }
   ],
   "source": [
    "#predictors, outcome correlation\n",
    "dummy_df=pd.get_dummies(df_cleaned[cat_var])\n",
    "df_out=df_cleaned.join(dummy_df)\n",
    "pd.set_option('display.max_rows', None)\n",
    "pd.DataFrame(np.absolute(df_out.corr()['Income Status']<0.01))"
   ]
  },
  {
   "cell_type": "code",
   "execution_count": 38,
   "metadata": {
    "id": "i6ud_rBjE6xg"
   },
   "outputs": [],
   "source": [
    "#we drop the attributes with majority True for the above condition\n",
    "#education and education.num are repetitive, we drop one of them\n",
    "df_cleaned.drop(['Unnamed: 0', 'fnlwgt','relationship','education','race'],axis=1,inplace=True)"
   ]
  },
  {
   "cell_type": "code",
   "execution_count": 39,
   "metadata": {
    "id": "-Oxu3DH3JN2I"
   },
   "outputs": [],
   "source": [
    "df_cleaned.drop(['native.country'],axis=1,inplace=True)"
   ]
  },
  {
   "cell_type": "code",
   "execution_count": 40,
   "metadata": {
    "id": "02ke-57tJRgs"
   },
   "outputs": [],
   "source": [
    "df_cleaned.drop(['income'],axis=1,inplace=True)"
   ]
  },
  {
   "cell_type": "code",
   "execution_count": 41,
   "metadata": {
    "colab": {
     "base_uri": "https://localhost:8080/"
    },
    "id": "5UsD17nWI9rc",
    "outputId": "8f8efa1f-1b0b-4534-ffdd-13162dfb5792"
   },
   "outputs": [
    {
     "data": {
      "text/plain": [
       "Index(['age', 'workclass', 'education.num', 'marital.status', 'occupation',\n",
       "       'sex', 'capital.loss', 'hours.per.week', 'Income Status'],\n",
       "      dtype='object')"
      ]
     },
     "execution_count": 41,
     "metadata": {},
     "output_type": "execute_result"
    }
   ],
   "source": [
    "df_cleaned.columns"
   ]
  },
  {
   "cell_type": "code",
   "execution_count": 42,
   "metadata": {
    "colab": {
     "base_uri": "https://localhost:8080/",
     "height": 206
    },
    "id": "Zv4UkP_4gy07",
    "outputId": "d3c98ac7-e73d-4e00-9834-06c3869ac6c5"
   },
   "outputs": [
    {
     "data": {
      "text/html": [
       "<div>\n",
       "<style scoped>\n",
       "    .dataframe tbody tr th:only-of-type {\n",
       "        vertical-align: middle;\n",
       "    }\n",
       "\n",
       "    .dataframe tbody tr th {\n",
       "        vertical-align: top;\n",
       "    }\n",
       "\n",
       "    .dataframe thead th {\n",
       "        text-align: right;\n",
       "    }\n",
       "</style>\n",
       "<table border=\"1\" class=\"dataframe\">\n",
       "  <thead>\n",
       "    <tr style=\"text-align: right;\">\n",
       "      <th></th>\n",
       "      <th>age</th>\n",
       "      <th>workclass</th>\n",
       "      <th>education.num</th>\n",
       "      <th>marital.status</th>\n",
       "      <th>occupation</th>\n",
       "      <th>sex</th>\n",
       "      <th>capital.loss</th>\n",
       "      <th>hours.per.week</th>\n",
       "      <th>Income Status</th>\n",
       "    </tr>\n",
       "  </thead>\n",
       "  <tbody>\n",
       "    <tr>\n",
       "      <th>0</th>\n",
       "      <td>82</td>\n",
       "      <td>Private</td>\n",
       "      <td>9</td>\n",
       "      <td>Widowed</td>\n",
       "      <td>Exec-managerial</td>\n",
       "      <td>Female</td>\n",
       "      <td>4356</td>\n",
       "      <td>18</td>\n",
       "      <td>0</td>\n",
       "    </tr>\n",
       "    <tr>\n",
       "      <th>1</th>\n",
       "      <td>54</td>\n",
       "      <td>Private</td>\n",
       "      <td>4</td>\n",
       "      <td>Divorced</td>\n",
       "      <td>Machine-op-inspct</td>\n",
       "      <td>Female</td>\n",
       "      <td>3900</td>\n",
       "      <td>40</td>\n",
       "      <td>0</td>\n",
       "    </tr>\n",
       "    <tr>\n",
       "      <th>2</th>\n",
       "      <td>41</td>\n",
       "      <td>Private</td>\n",
       "      <td>10</td>\n",
       "      <td>Separated</td>\n",
       "      <td>Prof-specialty</td>\n",
       "      <td>Female</td>\n",
       "      <td>3900</td>\n",
       "      <td>40</td>\n",
       "      <td>0</td>\n",
       "    </tr>\n",
       "    <tr>\n",
       "      <th>3</th>\n",
       "      <td>34</td>\n",
       "      <td>Private</td>\n",
       "      <td>9</td>\n",
       "      <td>Divorced</td>\n",
       "      <td>Other-service</td>\n",
       "      <td>Female</td>\n",
       "      <td>3770</td>\n",
       "      <td>45</td>\n",
       "      <td>0</td>\n",
       "    </tr>\n",
       "    <tr>\n",
       "      <th>4</th>\n",
       "      <td>38</td>\n",
       "      <td>Private</td>\n",
       "      <td>6</td>\n",
       "      <td>Separated</td>\n",
       "      <td>Adm-clerical</td>\n",
       "      <td>Male</td>\n",
       "      <td>3770</td>\n",
       "      <td>40</td>\n",
       "      <td>0</td>\n",
       "    </tr>\n",
       "  </tbody>\n",
       "</table>\n",
       "</div>"
      ],
      "text/plain": [
       "   age workclass  education.num marital.status         occupation     sex  \\\n",
       "0   82   Private              9        Widowed    Exec-managerial  Female   \n",
       "1   54   Private              4       Divorced  Machine-op-inspct  Female   \n",
       "2   41   Private             10      Separated     Prof-specialty  Female   \n",
       "3   34   Private              9       Divorced      Other-service  Female   \n",
       "4   38   Private              6      Separated       Adm-clerical    Male   \n",
       "\n",
       "   capital.loss  hours.per.week  Income Status  \n",
       "0          4356              18              0  \n",
       "1          3900              40              0  \n",
       "2          3900              40              0  \n",
       "3          3770              45              0  \n",
       "4          3770              40              0  "
      ]
     },
     "execution_count": 42,
     "metadata": {},
     "output_type": "execute_result"
    }
   ],
   "source": [
    "df_cleaned.head()"
   ]
  },
  {
   "cell_type": "code",
   "execution_count": 43,
   "metadata": {
    "id": "2yZ2dLA3hDyE",
    "scrolled": true
   },
   "outputs": [
    {
     "data": {
      "text/html": [
       "<div>\n",
       "<style scoped>\n",
       "    .dataframe tbody tr th:only-of-type {\n",
       "        vertical-align: middle;\n",
       "    }\n",
       "\n",
       "    .dataframe tbody tr th {\n",
       "        vertical-align: top;\n",
       "    }\n",
       "\n",
       "    .dataframe thead th {\n",
       "        text-align: right;\n",
       "    }\n",
       "</style>\n",
       "<table border=\"1\" class=\"dataframe\">\n",
       "  <thead>\n",
       "    <tr style=\"text-align: right;\">\n",
       "      <th></th>\n",
       "      <th>age</th>\n",
       "      <th>education.num</th>\n",
       "      <th>capital.loss</th>\n",
       "      <th>hours.per.week</th>\n",
       "      <th>Income Status</th>\n",
       "      <th>workclass_Federal-gov</th>\n",
       "      <th>workclass_Local-gov</th>\n",
       "      <th>workclass_Private</th>\n",
       "      <th>workclass_Self-emp-inc</th>\n",
       "      <th>workclass_Self-emp-not-inc</th>\n",
       "      <th>...</th>\n",
       "      <th>occupation_Machine-op-inspct</th>\n",
       "      <th>occupation_Other-service</th>\n",
       "      <th>occupation_Priv-house-serv</th>\n",
       "      <th>occupation_Prof-specialty</th>\n",
       "      <th>occupation_Protective-serv</th>\n",
       "      <th>occupation_Sales</th>\n",
       "      <th>occupation_Tech-support</th>\n",
       "      <th>occupation_Transport-moving</th>\n",
       "      <th>sex_Female</th>\n",
       "      <th>sex_Male</th>\n",
       "    </tr>\n",
       "  </thead>\n",
       "  <tbody>\n",
       "    <tr>\n",
       "      <th>0</th>\n",
       "      <td>82</td>\n",
       "      <td>9</td>\n",
       "      <td>4356</td>\n",
       "      <td>18</td>\n",
       "      <td>0</td>\n",
       "      <td>0</td>\n",
       "      <td>0</td>\n",
       "      <td>1</td>\n",
       "      <td>0</td>\n",
       "      <td>0</td>\n",
       "      <td>...</td>\n",
       "      <td>0</td>\n",
       "      <td>0</td>\n",
       "      <td>0</td>\n",
       "      <td>0</td>\n",
       "      <td>0</td>\n",
       "      <td>0</td>\n",
       "      <td>0</td>\n",
       "      <td>0</td>\n",
       "      <td>1</td>\n",
       "      <td>0</td>\n",
       "    </tr>\n",
       "    <tr>\n",
       "      <th>1</th>\n",
       "      <td>54</td>\n",
       "      <td>4</td>\n",
       "      <td>3900</td>\n",
       "      <td>40</td>\n",
       "      <td>0</td>\n",
       "      <td>0</td>\n",
       "      <td>0</td>\n",
       "      <td>1</td>\n",
       "      <td>0</td>\n",
       "      <td>0</td>\n",
       "      <td>...</td>\n",
       "      <td>1</td>\n",
       "      <td>0</td>\n",
       "      <td>0</td>\n",
       "      <td>0</td>\n",
       "      <td>0</td>\n",
       "      <td>0</td>\n",
       "      <td>0</td>\n",
       "      <td>0</td>\n",
       "      <td>1</td>\n",
       "      <td>0</td>\n",
       "    </tr>\n",
       "    <tr>\n",
       "      <th>2</th>\n",
       "      <td>41</td>\n",
       "      <td>10</td>\n",
       "      <td>3900</td>\n",
       "      <td>40</td>\n",
       "      <td>0</td>\n",
       "      <td>0</td>\n",
       "      <td>0</td>\n",
       "      <td>1</td>\n",
       "      <td>0</td>\n",
       "      <td>0</td>\n",
       "      <td>...</td>\n",
       "      <td>0</td>\n",
       "      <td>0</td>\n",
       "      <td>0</td>\n",
       "      <td>1</td>\n",
       "      <td>0</td>\n",
       "      <td>0</td>\n",
       "      <td>0</td>\n",
       "      <td>0</td>\n",
       "      <td>1</td>\n",
       "      <td>0</td>\n",
       "    </tr>\n",
       "    <tr>\n",
       "      <th>3</th>\n",
       "      <td>34</td>\n",
       "      <td>9</td>\n",
       "      <td>3770</td>\n",
       "      <td>45</td>\n",
       "      <td>0</td>\n",
       "      <td>0</td>\n",
       "      <td>0</td>\n",
       "      <td>1</td>\n",
       "      <td>0</td>\n",
       "      <td>0</td>\n",
       "      <td>...</td>\n",
       "      <td>0</td>\n",
       "      <td>1</td>\n",
       "      <td>0</td>\n",
       "      <td>0</td>\n",
       "      <td>0</td>\n",
       "      <td>0</td>\n",
       "      <td>0</td>\n",
       "      <td>0</td>\n",
       "      <td>1</td>\n",
       "      <td>0</td>\n",
       "    </tr>\n",
       "    <tr>\n",
       "      <th>4</th>\n",
       "      <td>38</td>\n",
       "      <td>6</td>\n",
       "      <td>3770</td>\n",
       "      <td>40</td>\n",
       "      <td>0</td>\n",
       "      <td>0</td>\n",
       "      <td>0</td>\n",
       "      <td>1</td>\n",
       "      <td>0</td>\n",
       "      <td>0</td>\n",
       "      <td>...</td>\n",
       "      <td>0</td>\n",
       "      <td>0</td>\n",
       "      <td>0</td>\n",
       "      <td>0</td>\n",
       "      <td>0</td>\n",
       "      <td>0</td>\n",
       "      <td>0</td>\n",
       "      <td>0</td>\n",
       "      <td>0</td>\n",
       "      <td>1</td>\n",
       "    </tr>\n",
       "  </tbody>\n",
       "</table>\n",
       "<p>5 rows × 35 columns</p>\n",
       "</div>"
      ],
      "text/plain": [
       "   age  education.num  capital.loss  hours.per.week  Income Status  \\\n",
       "0   82              9          4356              18              0   \n",
       "1   54              4          3900              40              0   \n",
       "2   41             10          3900              40              0   \n",
       "3   34              9          3770              45              0   \n",
       "4   38              6          3770              40              0   \n",
       "\n",
       "   workclass_Federal-gov  workclass_Local-gov  workclass_Private  \\\n",
       "0                      0                    0                  1   \n",
       "1                      0                    0                  1   \n",
       "2                      0                    0                  1   \n",
       "3                      0                    0                  1   \n",
       "4                      0                    0                  1   \n",
       "\n",
       "   workclass_Self-emp-inc  workclass_Self-emp-not-inc  ...  \\\n",
       "0                       0                           0  ...   \n",
       "1                       0                           0  ...   \n",
       "2                       0                           0  ...   \n",
       "3                       0                           0  ...   \n",
       "4                       0                           0  ...   \n",
       "\n",
       "   occupation_Machine-op-inspct  occupation_Other-service  \\\n",
       "0                             0                         0   \n",
       "1                             1                         0   \n",
       "2                             0                         0   \n",
       "3                             0                         1   \n",
       "4                             0                         0   \n",
       "\n",
       "   occupation_Priv-house-serv  occupation_Prof-specialty  \\\n",
       "0                           0                          0   \n",
       "1                           0                          0   \n",
       "2                           0                          1   \n",
       "3                           0                          0   \n",
       "4                           0                          0   \n",
       "\n",
       "   occupation_Protective-serv  occupation_Sales  occupation_Tech-support  \\\n",
       "0                           0                 0                        0   \n",
       "1                           0                 0                        0   \n",
       "2                           0                 0                        0   \n",
       "3                           0                 0                        0   \n",
       "4                           0                 0                        0   \n",
       "\n",
       "   occupation_Transport-moving  sex_Female  sex_Male  \n",
       "0                            0           1         0  \n",
       "1                            0           1         0  \n",
       "2                            0           1         0  \n",
       "3                            0           1         0  \n",
       "4                            0           0         1  \n",
       "\n",
       "[5 rows x 35 columns]"
      ]
     },
     "execution_count": 43,
     "metadata": {},
     "output_type": "execute_result"
    }
   ],
   "source": [
    "df_cleaned_dummy=pd.get_dummies(df_cleaned)\n",
    "df_cleaned_dummy.head()"
   ]
  },
  {
   "cell_type": "code",
   "execution_count": 44,
   "metadata": {},
   "outputs": [
    {
     "data": {
      "text/plain": [
       "<AxesSubplot:>"
      ]
     },
     "execution_count": 44,
     "metadata": {},
     "output_type": "execute_result"
    },
    {
     "data": {
      "image/png": "[encoded data removed]",
      "text/plain": [
       "<Figure size 720x720 with 2 Axes>"
      ]
     },
     "metadata": {
      "needs_background": "light"
     },
     "output_type": "display_data"
    }
   ],
   "source": [
    "#heatmap of dataframe including dummy variables\n",
    "fig, ax = plt.subplots(figsize=(10, 10))\n",
    "sns.heatmap(df_cleaned_dummy.corr())"
   ]
  },
  {
   "cell_type": "markdown",
   "metadata": {},
   "source": [
    "# Linear Regression"
   ]
  },
  {
   "cell_type": "code",
   "execution_count": 45,
   "metadata": {},
   "outputs": [
    {
     "data": {
      "text/html": [
       "<div>\n",
       "<style scoped>\n",
       "    .dataframe tbody tr th:only-of-type {\n",
       "        vertical-align: middle;\n",
       "    }\n",
       "\n",
       "    .dataframe tbody tr th {\n",
       "        vertical-align: top;\n",
       "    }\n",
       "\n",
       "    .dataframe thead th {\n",
       "        text-align: right;\n",
       "    }\n",
       "</style>\n",
       "<table border=\"1\" class=\"dataframe\">\n",
       "  <thead>\n",
       "    <tr style=\"text-align: right;\">\n",
       "      <th></th>\n",
       "      <th>age</th>\n",
       "      <th>workclass</th>\n",
       "      <th>education.num</th>\n",
       "      <th>marital.status</th>\n",
       "      <th>occupation</th>\n",
       "      <th>sex</th>\n",
       "      <th>capital.loss</th>\n",
       "      <th>hours.per.week</th>\n",
       "      <th>Income Status</th>\n",
       "    </tr>\n",
       "  </thead>\n",
       "  <tbody>\n",
       "    <tr>\n",
       "      <th>0</th>\n",
       "      <td>82</td>\n",
       "      <td>Private</td>\n",
       "      <td>9</td>\n",
       "      <td>Widowed</td>\n",
       "      <td>Exec-managerial</td>\n",
       "      <td>Female</td>\n",
       "      <td>4356</td>\n",
       "      <td>18</td>\n",
       "      <td>0</td>\n",
       "    </tr>\n",
       "    <tr>\n",
       "      <th>1</th>\n",
       "      <td>54</td>\n",
       "      <td>Private</td>\n",
       "      <td>4</td>\n",
       "      <td>Divorced</td>\n",
       "      <td>Machine-op-inspct</td>\n",
       "      <td>Female</td>\n",
       "      <td>3900</td>\n",
       "      <td>40</td>\n",
       "      <td>0</td>\n",
       "    </tr>\n",
       "    <tr>\n",
       "      <th>2</th>\n",
       "      <td>41</td>\n",
       "      <td>Private</td>\n",
       "      <td>10</td>\n",
       "      <td>Separated</td>\n",
       "      <td>Prof-specialty</td>\n",
       "      <td>Female</td>\n",
       "      <td>3900</td>\n",
       "      <td>40</td>\n",
       "      <td>0</td>\n",
       "    </tr>\n",
       "    <tr>\n",
       "      <th>3</th>\n",
       "      <td>34</td>\n",
       "      <td>Private</td>\n",
       "      <td>9</td>\n",
       "      <td>Divorced</td>\n",
       "      <td>Other-service</td>\n",
       "      <td>Female</td>\n",
       "      <td>3770</td>\n",
       "      <td>45</td>\n",
       "      <td>0</td>\n",
       "    </tr>\n",
       "    <tr>\n",
       "      <th>4</th>\n",
       "      <td>38</td>\n",
       "      <td>Private</td>\n",
       "      <td>6</td>\n",
       "      <td>Separated</td>\n",
       "      <td>Adm-clerical</td>\n",
       "      <td>Male</td>\n",
       "      <td>3770</td>\n",
       "      <td>40</td>\n",
       "      <td>0</td>\n",
       "    </tr>\n",
       "  </tbody>\n",
       "</table>\n",
       "</div>"
      ],
      "text/plain": [
       "   age workclass  education.num marital.status         occupation     sex  \\\n",
       "0   82   Private              9        Widowed    Exec-managerial  Female   \n",
       "1   54   Private              4       Divorced  Machine-op-inspct  Female   \n",
       "2   41   Private             10      Separated     Prof-specialty  Female   \n",
       "3   34   Private              9       Divorced      Other-service  Female   \n",
       "4   38   Private              6      Separated       Adm-clerical    Male   \n",
       "\n",
       "   capital.loss  hours.per.week  Income Status  \n",
       "0          4356              18              0  \n",
       "1          3900              40              0  \n",
       "2          3900              40              0  \n",
       "3          3770              45              0  \n",
       "4          3770              40              0  "
      ]
     },
     "execution_count": 45,
     "metadata": {},
     "output_type": "execute_result"
    }
   ],
   "source": [
    "df_cleaned.head()"
   ]
  },
  {
   "cell_type": "code",
   "execution_count": 46,
   "metadata": {},
   "outputs": [],
   "source": [
    "from sklearn.preprocessing import LabelEncoder\n",
    "lenc=LabelEncoder()"
   ]
  },
  {
   "cell_type": "code",
   "execution_count": 47,
   "metadata": {},
   "outputs": [],
   "source": [
    "list1=df_cleaned.columns\n",
    "list2=['workclass', 'marital.status', 'occupation',\n",
    "       'sex']\n",
    "df_cleaned[list2]=df_cleaned[list2].astype('category')\n",
    "df_cleaned_copy=df_cleaned.copy()"
   ]
  },
  {
   "cell_type": "code",
   "execution_count": 48,
   "metadata": {},
   "outputs": [],
   "source": [
    "for l in list2:\n",
    "  df_cleaned_copy[l]=lenc.fit_transform(df_cleaned_copy[l])"
   ]
  },
  {
   "cell_type": "code",
   "execution_count": 49,
   "metadata": {},
   "outputs": [
    {
     "data": {
      "text/plain": [
       "<AxesSubplot:>"
      ]
     },
     "execution_count": 49,
     "metadata": {},
     "output_type": "execute_result"
    },
    {
     "data": {
      "image/png": "[encoded data removed]",
      "text/plain": [
       "<Figure size 432x288 with 2 Axes>"
      ]
     },
     "metadata": {
      "needs_background": "light"
     },
     "output_type": "display_data"
    }
   ],
   "source": [
    "sns.heatmap(df_cleaned.corr(),annot=True)"
   ]
  },
  {
   "cell_type": "code",
   "execution_count": 50,
   "metadata": {},
   "outputs": [],
   "source": [
    "df_linear=df_cleaned_copy.drop(df_cleaned[['workclass']],axis=1) #dataframe for linear reg"
   ]
  },
  {
   "cell_type": "code",
   "execution_count": 51,
   "metadata": {},
   "outputs": [
    {
     "data": {
      "text/plain": [
       "Index(['age', 'education.num', 'marital.status', 'occupation', 'sex',\n",
       "       'capital.loss', 'hours.per.week', 'Income Status'],\n",
       "      dtype='object')"
      ]
     },
     "execution_count": 51,
     "metadata": {},
     "output_type": "execute_result"
    }
   ],
   "source": [
    "df_linear.columns"
   ]
  },
  {
   "cell_type": "code",
   "execution_count": 52,
   "metadata": {},
   "outputs": [],
   "source": [
    "lrtrain_x,lrtest_x,lrtrain_y,lrtest_y=train_test_split(df_linear[['age', 'education.num', 'marital.status', 'occupation', 'sex',\n",
    "       'capital.loss', 'hours.per.week']],df_linear['Income Status'],test_size=0.25,random_state=1)"
   ]
  },
  {
   "cell_type": "code",
   "execution_count": 53,
   "metadata": {},
   "outputs": [],
   "source": [
    "x=['age', 'education.num', 'marital.status', 'occupation', 'sex',\n",
    "       'capital.loss', 'hours.per.week']\n",
    "y='Income Status'"
   ]
  },
  {
   "cell_type": "code",
   "execution_count": 54,
   "metadata": {},
   "outputs": [],
   "source": [
    "pca=PCA(n_components=6)"
   ]
  },
  {
   "cell_type": "code",
   "execution_count": 55,
   "metadata": {},
   "outputs": [],
   "source": [
    "#scaling before PCA\n",
    "scaler_lr=StandardScaler()"
   ]
  },
  {
   "cell_type": "code",
   "execution_count": 56,
   "metadata": {},
   "outputs": [
    {
     "data": {
      "text/plain": [
       "StandardScaler()"
      ]
     },
     "execution_count": 56,
     "metadata": {},
     "output_type": "execute_result"
    }
   ],
   "source": [
    "scaler_lr.fit(lrtrain_x)"
   ]
  },
  {
   "cell_type": "code",
   "execution_count": 57,
   "metadata": {},
   "outputs": [],
   "source": [
    "df_cleaned_copy[x]=scaler_lr.transform(df_cleaned_copy[x])"
   ]
  },
  {
   "cell_type": "code",
   "execution_count": 58,
   "metadata": {},
   "outputs": [],
   "source": [
    "train_normal=df_cleaned_copy.iloc[lrtrain_x.index]\n",
    "test_normal=df_cleaned_copy.iloc[lrtest_x.index]"
   ]
  },
  {
   "cell_type": "code",
   "execution_count": 59,
   "metadata": {},
   "outputs": [],
   "source": [
    "pca_df=pd.DataFrame(pca.fit_transform(df_cleaned_copy[x]),columns=['PC'+str(i) for i in range(1,7)])"
   ]
  },
  {
   "cell_type": "code",
   "execution_count": 60,
   "metadata": {},
   "outputs": [
    {
     "data": {
      "text/html": [
       "<div>\n",
       "<style scoped>\n",
       "    .dataframe tbody tr th:only-of-type {\n",
       "        vertical-align: middle;\n",
       "    }\n",
       "\n",
       "    .dataframe tbody tr th {\n",
       "        vertical-align: top;\n",
       "    }\n",
       "\n",
       "    .dataframe thead th {\n",
       "        text-align: right;\n",
       "    }\n",
       "</style>\n",
       "<table border=\"1\" class=\"dataframe\">\n",
       "  <thead>\n",
       "    <tr style=\"text-align: right;\">\n",
       "      <th></th>\n",
       "      <th>PC1</th>\n",
       "      <th>PC2</th>\n",
       "      <th>PC3</th>\n",
       "      <th>PC4</th>\n",
       "      <th>PC5</th>\n",
       "      <th>PC6</th>\n",
       "    </tr>\n",
       "  </thead>\n",
       "  <tbody>\n",
       "    <tr>\n",
       "      <th>0</th>\n",
       "      <td>0.806486</td>\n",
       "      <td>-1.439892</td>\n",
       "      <td>9.040312</td>\n",
       "      <td>5.382289</td>\n",
       "      <td>4.104214</td>\n",
       "      <td>1.442011</td>\n",
       "    </tr>\n",
       "    <tr>\n",
       "      <th>1</th>\n",
       "      <td>2.121563</td>\n",
       "      <td>-0.202545</td>\n",
       "      <td>6.818488</td>\n",
       "      <td>5.139999</td>\n",
       "      <td>4.058772</td>\n",
       "      <td>-2.951094</td>\n",
       "    </tr>\n",
       "    <tr>\n",
       "      <th>2</th>\n",
       "      <td>0.684630</td>\n",
       "      <td>-3.433259</td>\n",
       "      <td>6.883765</td>\n",
       "      <td>5.018739</td>\n",
       "      <td>2.823109</td>\n",
       "      <td>-1.097849</td>\n",
       "    </tr>\n",
       "    <tr>\n",
       "      <th>3</th>\n",
       "      <td>2.147347</td>\n",
       "      <td>-1.899565</td>\n",
       "      <td>6.661504</td>\n",
       "      <td>4.619181</td>\n",
       "      <td>2.471596</td>\n",
       "      <td>-3.175697</td>\n",
       "    </tr>\n",
       "    <tr>\n",
       "      <th>4</th>\n",
       "      <td>0.764272</td>\n",
       "      <td>-1.508134</td>\n",
       "      <td>5.484759</td>\n",
       "      <td>7.297067</td>\n",
       "      <td>2.375972</td>\n",
       "      <td>-0.258420</td>\n",
       "    </tr>\n",
       "  </tbody>\n",
       "</table>\n",
       "</div>"
      ],
      "text/plain": [
       "        PC1       PC2       PC3       PC4       PC5       PC6\n",
       "0  0.806486 -1.439892  9.040312  5.382289  4.104214  1.442011\n",
       "1  2.121563 -0.202545  6.818488  5.139999  4.058772 -2.951094\n",
       "2  0.684630 -3.433259  6.883765  5.018739  2.823109 -1.097849\n",
       "3  2.147347 -1.899565  6.661504  4.619181  2.471596 -3.175697\n",
       "4  0.764272 -1.508134  5.484759  7.297067  2.375972 -0.258420"
      ]
     },
     "execution_count": 60,
     "metadata": {},
     "output_type": "execute_result"
    }
   ],
   "source": [
    "pca_df.head()"
   ]
  },
  {
   "cell_type": "code",
   "execution_count": 61,
   "metadata": {},
   "outputs": [],
   "source": [
    "train_pca=pca_df.iloc[lrtrain_x.index]\n",
    "test_pca=pca_df.iloc[lrtest_x.index]"
   ]
  },
  {
   "cell_type": "code",
   "execution_count": 62,
   "metadata": {},
   "outputs": [
    {
     "data": {
      "text/html": [
       "<div>\n",
       "<style scoped>\n",
       "    .dataframe tbody tr th:only-of-type {\n",
       "        vertical-align: middle;\n",
       "    }\n",
       "\n",
       "    .dataframe tbody tr th {\n",
       "        vertical-align: top;\n",
       "    }\n",
       "\n",
       "    .dataframe thead th {\n",
       "        text-align: right;\n",
       "    }\n",
       "</style>\n",
       "<table border=\"1\" class=\"dataframe\">\n",
       "  <thead>\n",
       "    <tr style=\"text-align: right;\">\n",
       "      <th></th>\n",
       "      <th>exp_variance_ratio</th>\n",
       "      <th>explained variance</th>\n",
       "    </tr>\n",
       "  </thead>\n",
       "  <tbody>\n",
       "    <tr>\n",
       "      <th>0</th>\n",
       "      <td>0.223315</td>\n",
       "      <td>1.565622</td>\n",
       "    </tr>\n",
       "    <tr>\n",
       "      <th>1</th>\n",
       "      <td>0.158536</td>\n",
       "      <td>1.111472</td>\n",
       "    </tr>\n",
       "    <tr>\n",
       "      <th>2</th>\n",
       "      <td>0.145504</td>\n",
       "      <td>1.020103</td>\n",
       "    </tr>\n",
       "    <tr>\n",
       "      <th>3</th>\n",
       "      <td>0.137747</td>\n",
       "      <td>0.965722</td>\n",
       "    </tr>\n",
       "    <tr>\n",
       "      <th>4</th>\n",
       "      <td>0.132829</td>\n",
       "      <td>0.931239</td>\n",
       "    </tr>\n",
       "    <tr>\n",
       "      <th>5</th>\n",
       "      <td>0.103470</td>\n",
       "      <td>0.725408</td>\n",
       "    </tr>\n",
       "  </tbody>\n",
       "</table>\n",
       "</div>"
      ],
      "text/plain": [
       "   exp_variance_ratio  explained variance\n",
       "0            0.223315            1.565622\n",
       "1            0.158536            1.111472\n",
       "2            0.145504            1.020103\n",
       "3            0.137747            0.965722\n",
       "4            0.132829            0.931239\n",
       "5            0.103470            0.725408"
      ]
     },
     "execution_count": 62,
     "metadata": {},
     "output_type": "execute_result"
    }
   ],
   "source": [
    "pca_variance=pd.DataFrame({'exp_variance_ratio':pca.explained_variance_ratio_,\n",
    "'explained variance':pca.explained_variance_})\n",
    "pca_variance"
   ]
  },
  {
   "cell_type": "code",
   "execution_count": 63,
   "metadata": {},
   "outputs": [
    {
     "data": {
      "text/html": [
       "<div>\n",
       "<style scoped>\n",
       "    .dataframe tbody tr th:only-of-type {\n",
       "        vertical-align: middle;\n",
       "    }\n",
       "\n",
       "    .dataframe tbody tr th {\n",
       "        vertical-align: top;\n",
       "    }\n",
       "\n",
       "    .dataframe thead th {\n",
       "        text-align: right;\n",
       "    }\n",
       "</style>\n",
       "<table border=\"1\" class=\"dataframe\">\n",
       "  <thead>\n",
       "    <tr style=\"text-align: right;\">\n",
       "      <th></th>\n",
       "      <th>0</th>\n",
       "    </tr>\n",
       "  </thead>\n",
       "  <tbody>\n",
       "    <tr>\n",
       "      <th>0</th>\n",
       "      <td>0.223315</td>\n",
       "    </tr>\n",
       "    <tr>\n",
       "      <th>1</th>\n",
       "      <td>0.381851</td>\n",
       "    </tr>\n",
       "    <tr>\n",
       "      <th>2</th>\n",
       "      <td>0.527355</td>\n",
       "    </tr>\n",
       "    <tr>\n",
       "      <th>3</th>\n",
       "      <td>0.665102</td>\n",
       "    </tr>\n",
       "    <tr>\n",
       "      <th>4</th>\n",
       "      <td>0.797930</td>\n",
       "    </tr>\n",
       "    <tr>\n",
       "      <th>5</th>\n",
       "      <td>0.901400</td>\n",
       "    </tr>\n",
       "  </tbody>\n",
       "</table>\n",
       "</div>"
      ],
      "text/plain": [
       "          0\n",
       "0  0.223315\n",
       "1  0.381851\n",
       "2  0.527355\n",
       "3  0.665102\n",
       "4  0.797930\n",
       "5  0.901400"
      ]
     },
     "execution_count": 63,
     "metadata": {},
     "output_type": "execute_result"
    }
   ],
   "source": [
    "#cumulative sum of variances\n",
    "pd.DataFrame(np.cumsum(pca.explained_variance_ratio_))\n",
    "#we can go ahead with 6 PCs, since we're capturing maximum variance "
   ]
  },
  {
   "cell_type": "code",
   "execution_count": 64,
   "metadata": {},
   "outputs": [
    {
     "data": {
      "text/plain": [
       "LinearRegression()"
      ]
     },
     "execution_count": 64,
     "metadata": {},
     "output_type": "execute_result"
    }
   ],
   "source": [
    "reg=LinearRegression()\n",
    "reg.fit(train_pca,lrtrain_y)"
   ]
  },
  {
   "cell_type": "code",
   "execution_count": 65,
   "metadata": {},
   "outputs": [
    {
     "data": {
      "text/plain": [
       "array([0.25858842, 0.63910393, 0.32743836, ..., 0.36411248, 0.0088477 ,\n",
       "       0.08660889])"
      ]
     },
     "execution_count": 65,
     "metadata": {},
     "output_type": "execute_result"
    }
   ],
   "source": [
    "reg.predict(test_pca) #output is inconsistent with the classes we have in Income Status"
   ]
  },
  {
   "cell_type": "code",
   "execution_count": 66,
   "metadata": {},
   "outputs": [
    {
     "name": "stdout",
     "output_type": "stream",
     "text": [
      "AIC score for linear regression is 6737.85214008426\n"
     ]
    }
   ],
   "source": [
    "print('AIC score for linear regression is '+str(AIC_score(lrtest_y,reg.predict(test_pca),df=len(test_pca.columns)+1)))"
   ]
  },
  {
   "cell_type": "code",
   "execution_count": 67,
   "metadata": {},
   "outputs": [
    {
     "data": {
      "text/plain": [
       "{'RMSE_train': 0.14384017889069164, 'MAE_train': 0.31043610107376024}"
      ]
     },
     "execution_count": 67,
     "metadata": {},
     "output_type": "execute_result"
    }
   ],
   "source": [
    "RMSE_train=sklearn.metrics.mean_squared_error(lrtrain_y,reg.predict(train_pca))\n",
    "MAE_train=sklearn.metrics.mean_absolute_error(lrtrain_y,reg.predict(train_pca))\n",
    "{'RMSE_train':RMSE_train,'MAE_train':MAE_train}"
   ]
  },
  {
   "cell_type": "code",
   "execution_count": 68,
   "metadata": {},
   "outputs": [
    {
     "data": {
      "text/plain": [
       "{'RMSE_valid': 0.1427724807452747, 'MAE_valid': 0.310137065021035}"
      ]
     },
     "execution_count": 68,
     "metadata": {},
     "output_type": "execute_result"
    }
   ],
   "source": [
    "RMSE_valid=sklearn.metrics.mean_squared_error(lrtest_y,reg.predict(test_pca))\n",
    "MAE_valid=sklearn.metrics.mean_absolute_error(lrtest_y,reg.predict(test_pca))\n",
    "{'RMSE_valid':RMSE_valid,'MAE_valid':MAE_valid}"
   ]
  },
  {
   "cell_type": "code",
   "execution_count": 69,
   "metadata": {},
   "outputs": [],
   "source": [
    "#The purpose of checking the classification ability of Linear Regression was to make sure it can classify or not \n",
    "#Even though Linear Regression has the lowest AIC_score of all the models\n",
    "#as we can see from the output, we have numeric values insted of 1 or 0\n",
    "#thus, linear regression is not suitable for classification"
   ]
  },
  {
   "cell_type": "markdown",
   "metadata": {
    "id": "l3oh_9mZahGo"
   },
   "source": [
    "# **KNN**"
   ]
  },
  {
   "cell_type": "code",
   "execution_count": 70,
   "metadata": {
    "id": "gjYnvx8xqULw"
   },
   "outputs": [],
   "source": [
    "x=['age', 'education.num', 'capital.loss', 'hours.per.week', 'workclass_Federal-gov', 'workclass_Local-gov',\n",
    "       'workclass_Private', 'workclass_Self-emp-inc',\n",
    "       'workclass_Self-emp-not-inc', 'workclass_State-gov',\n",
    "       'workclass_Without-pay', 'marital.status_Divorced',\n",
    "       'marital.status_Married-AF-spouse', 'marital.status_Married-civ-spouse',\n",
    "       'marital.status_Married-spouse-absent', 'marital.status_Never-married',\n",
    "       'marital.status_Separated', 'marital.status_Widowed',\n",
    "       'occupation_Adm-clerical', 'occupation_Armed-Forces',\n",
    "       'occupation_Craft-repair', 'occupation_Exec-managerial',\n",
    "       'occupation_Farming-fishing', 'occupation_Handlers-cleaners',\n",
    "       'occupation_Machine-op-inspct', 'occupation_Other-service',\n",
    "       'occupation_Priv-house-serv', 'occupation_Prof-specialty',\n",
    "       'occupation_Protective-serv', 'occupation_Sales',\n",
    "       'occupation_Tech-support', 'occupation_Transport-moving', 'sex_Female',\n",
    "       'sex_Male']\n",
    "y='Income Status'"
   ]
  },
  {
   "cell_type": "code",
   "execution_count": 71,
   "metadata": {
    "id": "ZYj46Fufqn9H"
   },
   "outputs": [],
   "source": [
    "x_train,x_valid,y_train,y_valid=train_test_split(df_cleaned_dummy[x],df_cleaned_dummy[y],test_size=0.25,random_state=4)"
   ]
  },
  {
   "cell_type": "code",
   "execution_count": 72,
   "metadata": {
    "id": "gHU9XOMRrVhw"
   },
   "outputs": [],
   "source": [
    "#k-NN\n",
    "#decision trees\n",
    "#Naive bayes\n",
    "#Logistic regression\n",
    "#Neural nets"
   ]
  },
  {
   "cell_type": "code",
   "execution_count": 73,
   "metadata": {
    "id": "9rojKi4RtLNm"
   },
   "outputs": [],
   "source": [
    "#scaling since binary and numerical data\n",
    "scale=StandardScaler()"
   ]
  },
  {
   "cell_type": "code",
   "execution_count": 74,
   "metadata": {
    "id": "MSevagMR9YS0"
   },
   "outputs": [],
   "source": [
    "#fit on train data and use that scaler to standardize the validation data"
   ]
  },
  {
   "cell_type": "code",
   "execution_count": 75,
   "metadata": {
    "colab": {
     "base_uri": "https://localhost:8080/"
    },
    "id": "E7frMhSs9f7z",
    "outputId": "9af74f2b-970f-47de-9bdc-803158849c4c"
   },
   "outputs": [
    {
     "data": {
      "text/plain": [
       "StandardScaler()"
      ]
     },
     "execution_count": 75,
     "metadata": {},
     "output_type": "execute_result"
    }
   ],
   "source": [
    "scale.fit(x_train)"
   ]
  },
  {
   "cell_type": "code",
   "execution_count": 76,
   "metadata": {
    "id": "biDX1_N49sCH"
   },
   "outputs": [],
   "source": [
    "#scaling the entire dataset\n",
    "scaled_df=pd.DataFrame(scale.transform(df_cleaned_dummy[x]),columns=df_cleaned_dummy[x].columns)"
   ]
  },
  {
   "cell_type": "code",
   "execution_count": 77,
   "metadata": {
    "id": "CjbXMWqsSM0U"
   },
   "outputs": [],
   "source": [
    "#segregating the train and test data\n",
    "train_norm=scaled_df.iloc[x_train.index]\n",
    "valid_norm=scaled_df.iloc[x_valid.index]"
   ]
  },
  {
   "cell_type": "code",
   "execution_count": 78,
   "metadata": {
    "colab": {
     "base_uri": "https://localhost:8080/"
    },
    "id": "-Yurq1AnTHee",
    "outputId": "bc04509f-1c66-41e2-f192-c70b8f9a9683"
   },
   "outputs": [
    {
     "data": {
      "text/plain": [
       "NearestNeighbors(n_neighbors=16)"
      ]
     },
     "execution_count": 78,
     "metadata": {},
     "output_type": "execute_result"
    }
   ],
   "source": [
    "knn=NearestNeighbors(n_neighbors=16)\n",
    "knn.fit(train_norm)"
   ]
  },
  {
   "cell_type": "code",
   "execution_count": 79,
   "metadata": {
    "colab": {
     "base_uri": "https://localhost:8080/"
    },
    "id": "uC_4vWf0XYtW",
    "outputId": "e46042f1-0b00-4cd8-e1b1-233f3a377782"
   },
   "outputs": [
    {
     "name": "stdout",
     "output_type": "stream",
     "text": [
      "for k=1 accuracy is 0.782787428722981\n",
      "for k=2 accuracy is 0.8033417318658003\n",
      "for k=3 accuracy is 0.8073199840869911\n",
      "for k=4 accuracy is 0.8171330062325951\n",
      "for k=5 accuracy is 0.816735181010476\n",
      "for k=6 accuracy is 0.8224373425275162\n",
      "for k=7 accuracy is 0.8219069088980241\n",
      "for k=8 accuracy is 0.8268134199708261\n",
      "for k=9 accuracy is 0.8281395040445564\n",
      "for k=10 accuracy is 0.8292003713035406\n",
      "for k=11 accuracy is 0.8301286301551518\n",
      "for k=12 accuracy is 0.8322503646731203\n",
      "for k=13 accuracy is 0.8313221058215091\n",
      "for k=14 accuracy is 0.8331786235247315\n",
      "for k=15 accuracy is 0.8331786235247315\n",
      "for k=16 accuracy is 0.835698183264819\n",
      "for k=17 accuracy is 0.8322503646731203\n",
      "for k=18 accuracy is 0.8333112319321045\n",
      "for k=19 accuracy is 0.8314547142288821\n",
      "for k=20 accuracy is 0.8329134067099854\n"
     ]
    }
   ],
   "source": [
    "#accuracy scores\n",
    "accuracy_list=[]\n",
    "for k in range(1,21):\n",
    "  kn=KNeighborsClassifier(n_neighbors=k).fit(train_norm,y_train)\n",
    "  print('for k='+str(k)+' accuracy is '+str(accuracy_score(y_valid,kn.predict(valid_norm))))\n",
    "  accuracy_list.append(accuracy_score(y_valid,kn.predict(valid_norm)))"
   ]
  },
  {
   "cell_type": "code",
   "execution_count": 80,
   "metadata": {
    "colab": {
     "base_uri": "https://localhost:8080/"
    },
    "id": "O1H2SYsmwzXK",
    "outputId": "fc248956-74ef-4f30-ec33-2226f28f4065"
   },
   "outputs": [
    {
     "data": {
      "text/plain": [
       "[0.782787428722981,\n",
       " 0.8033417318658003,\n",
       " 0.8073199840869911,\n",
       " 0.8171330062325951,\n",
       " 0.816735181010476,\n",
       " 0.8224373425275162,\n",
       " 0.8219069088980241,\n",
       " 0.8268134199708261,\n",
       " 0.8281395040445564,\n",
       " 0.8292003713035406,\n",
       " 0.8301286301551518,\n",
       " 0.8322503646731203,\n",
       " 0.8313221058215091,\n",
       " 0.8331786235247315,\n",
       " 0.8331786235247315,\n",
       " 0.835698183264819,\n",
       " 0.8322503646731203,\n",
       " 0.8333112319321045,\n",
       " 0.8314547142288821,\n",
       " 0.8329134067099854]"
      ]
     },
     "execution_count": 80,
     "metadata": {},
     "output_type": "execute_result"
    }
   ],
   "source": [
    "accuracy_list"
   ]
  },
  {
   "cell_type": "code",
   "execution_count": 81,
   "metadata": {
    "id": "z_1uKtdUuQ9G"
   },
   "outputs": [
    {
     "data": {
      "image/png": "[encoded data removed]",
      "text/plain": [
       "<Figure size 432x288 with 1 Axes>"
      ]
     },
     "metadata": {
      "needs_background": "light"
     },
     "output_type": "display_data"
    }
   ],
   "source": [
    "k_list=[k for k in range(1,21)]\n",
    "plt.plot(k_list,accuracy_list)\n",
    "plt.show()"
   ]
  },
  {
   "cell_type": "code",
   "execution_count": 82,
   "metadata": {},
   "outputs": [],
   "source": [
    "kn=KNeighborsClassifier(n_neighbors=16).fit(train_norm,y_train)"
   ]
  },
  {
   "cell_type": "code",
   "execution_count": 83,
   "metadata": {
    "id": "7IWwwUchxPec"
   },
   "outputs": [
    {
     "name": "stdout",
     "output_type": "stream",
     "text": [
      "20\n"
     ]
    }
   ],
   "source": [
    "len(k_list)\n",
    "print(len(accuracy_list))"
   ]
  },
  {
   "cell_type": "code",
   "execution_count": 84,
   "metadata": {
    "colab": {
     "base_uri": "https://localhost:8080/"
    },
    "id": "V4emiTDsEM_F",
    "outputId": "1fa481ee-1c14-4e3d-df8d-ed99701015f6"
   },
   "outputs": [
    {
     "data": {
      "text/plain": [
       "7853.006425432075"
      ]
     },
     "execution_count": 84,
     "metadata": {},
     "output_type": "execute_result"
    }
   ],
   "source": [
    "#aic\n",
    "AIC_score(y_valid,kn.predict(valid_norm),df=len(valid_norm.columns)+1)"
   ]
  },
  {
   "cell_type": "code",
   "execution_count": 85,
   "metadata": {},
   "outputs": [],
   "source": [
    "from sklearn.metrics import f1_score"
   ]
  },
  {
   "cell_type": "code",
   "execution_count": 86,
   "metadata": {},
   "outputs": [
    {
     "name": "stdout",
     "output_type": "stream",
     "text": [
      "f1 score for k-NN is 0.6322350845948352\n"
     ]
    }
   ],
   "source": [
    "#knn-f1 score\n",
    "print('f1 score for k-NN is '+str(f1_score(y_valid,kn.predict(valid_norm))))"
   ]
  },
  {
   "cell_type": "code",
   "execution_count": 87,
   "metadata": {
    "colab": {
     "base_uri": "https://localhost:8080/"
    },
    "id": "J-xdEUScE4x-",
    "outputId": "e3254f5d-c389-4edc-9dc9-66fbc3e8ad7a"
   },
   "outputs": [
    {
     "name": "stdout",
     "output_type": "stream",
     "text": [
      "Confusion Matrix (Accuracy 0.8357)\n",
      "\n",
      "       Prediction\n",
      "Actual    0    1\n",
      "     0 5237  491\n",
      "     1  748 1065\n"
     ]
    }
   ],
   "source": [
    "#classification matrix for validation set (k-NN)\n",
    "classificationSummary(y_valid,kn.predict(valid_norm))"
   ]
  },
  {
   "cell_type": "code",
   "execution_count": 91,
   "metadata": {},
   "outputs": [],
   "source": [
    "from sklearn.model_selection import cross_val_score"
   ]
  },
  {
   "cell_type": "code",
   "execution_count": 92,
   "metadata": {},
   "outputs": [
    {
     "name": "stdout",
     "output_type": "stream",
     "text": [
      "{'cross val score for kNN is ': array([0.81723757, 0.83045977, 0.82869142, 0.82979664, 0.83045977])}\n"
     ]
    }
   ],
   "source": [
    "#k-fold cross validation\n",
    "print({'cross val score for kNN is ':cross_val_score(kn,train_norm,y_train,cv=5)})"
   ]
  },
  {
   "cell_type": "code",
   "execution_count": 93,
   "metadata": {
    "scrolled": true
   },
   "outputs": [
    {
     "data": {
      "image/png": "[encoded data removed]",
      "text/plain": [
       "<Figure size 432x288 with 2 Axes>"
      ]
     },
     "metadata": {
      "needs_background": "light"
     },
     "output_type": "display_data"
    }
   ],
   "source": [
    "pred_v = pd.Series(kn.predict(valid_norm))\n",
    "pred_v = pred_v.sort_values(ascending=False)\n",
    "fig, axes = plt.subplots(nrows=1, ncols=2)\n",
    "ax = gainsChart(pred_v, ax=axes[0])\n",
    "ax.set_ylabel('Cumulative Price')\n",
    "ax.set_title('Cumulative Gains Chart')\n",
    "ax = liftChart(pred_v, ax=axes[1], labelBars=False)\n",
    "ax.set_ylabel('Lift')\n",
    "plt.tight_layout()\n",
    "plt.show()"
   ]
  },
  {
   "cell_type": "markdown",
   "metadata": {
    "id": "Cs0DWenUamcJ"
   },
   "source": [
    "# **Naive bayes**"
   ]
  },
  {
   "cell_type": "code",
   "execution_count": 95,
   "metadata": {
    "id": "JQoObZUzaaKx"
   },
   "outputs": [],
   "source": [
    "#naive bayes\n",
    "from sklearn.naive_bayes import MultinomialNB"
   ]
  },
  {
   "cell_type": "code",
   "execution_count": 96,
   "metadata": {
    "colab": {
     "base_uri": "https://localhost:8080/"
    },
    "id": "uPQSYhYwcfPI",
    "outputId": "18108e41-d704-45de-b17b-c0b2699b8929"
   },
   "outputs": [
    {
     "data": {
      "text/plain": [
       "MultinomialNB(alpha=0.01)"
      ]
     },
     "execution_count": 96,
     "metadata": {},
     "output_type": "execute_result"
    }
   ],
   "source": [
    "nb=MultinomialNB(alpha=0.01)\n",
    "nb.fit(x_train,y_train)"
   ]
  },
  {
   "cell_type": "code",
   "execution_count": 97,
   "metadata": {
    "id": "e9lqz0_vfP0k"
   },
   "outputs": [],
   "source": [
    "#predicting probabilities\n",
    "train_prob=nb.predict_proba(x_train)\n",
    "valid_prob=nb.predict_proba(x_valid)"
   ]
  },
  {
   "cell_type": "code",
   "execution_count": 98,
   "metadata": {
    "id": "2ouTJm9xfe-o"
   },
   "outputs": [],
   "source": [
    "#classmembership\n",
    "y_validpred=pd.DataFrame(nb.predict(x_valid))"
   ]
  },
  {
   "cell_type": "code",
   "execution_count": 99,
   "metadata": {
    "colab": {
     "base_uri": "https://localhost:8080/"
    },
    "id": "Ho_UG9fAIOS5",
    "outputId": "7dec4fbf-dc73-4502-c7d7-6e4880d0709e"
   },
   "outputs": [
    {
     "name": "stdout",
     "output_type": "stream",
     "text": [
      "Confusion Matrix (Accuracy 0.7504)\n",
      "\n",
      "       Prediction\n",
      "Actual     0     1\n",
      "     0 16415   511\n",
      "     1  5135   560\n",
      "{'classification summary of training set:\\n': None}\n",
      "Confusion Matrix (Accuracy 0.7593)\n",
      "\n",
      "       Prediction\n",
      "Actual    0    1\n",
      "     0 5549  179\n",
      "     1 1636  177\n",
      "{'classification summary of validation set:\\n': None}\n"
     ]
    }
   ],
   "source": [
    "from dmba import classificationSummary\n",
    "print({'classification summary of training set:\\n': classificationSummary(y_train,nb.predict(x_train))})\n",
    "print({'classification summary of validation set:\\n': classificationSummary(y_valid,nb.predict(x_valid))})"
   ]
  },
  {
   "cell_type": "code",
   "execution_count": 100,
   "metadata": {
    "colab": {
     "base_uri": "https://localhost:8080/"
    },
    "id": "pTZfXahM4Wtg",
    "outputId": "c6dd6487-7cb7-4067-bdca-76d6a786d5ef"
   },
   "outputs": [
    {
     "name": "stdout",
     "output_type": "stream",
     "text": [
      "10732.015928923502\n"
     ]
    }
   ],
   "source": [
    "#aic\n",
    "print(AIC_score(y_valid,nb.predict(x_valid),df=len(x_train.columns)+1))"
   ]
  },
  {
   "cell_type": "code",
   "execution_count": 101,
   "metadata": {},
   "outputs": [
    {
     "name": "stdout",
     "output_type": "stream",
     "text": [
      "f1 score for Naive bayes is 0.16320885200553248\n"
     ]
    }
   ],
   "source": [
    "#f1_score\n",
    "print('f1 score for Naive bayes is '+str(f1_score(y_valid,nb.predict(x_valid))))"
   ]
  },
  {
   "cell_type": "code",
   "execution_count": 102,
   "metadata": {},
   "outputs": [
    {
     "name": "stdout",
     "output_type": "stream",
     "text": [
      "{'the cross val score for NB is ': array([0.7518232 , 0.74955791, 0.75110522, 0.75243148, 0.74712644])}\n"
     ]
    }
   ],
   "source": [
    "#cross val score\n",
    "print({'the cross val score for NB is ':cross_val_score(nb,x_train,y_train,cv=5)})"
   ]
  },
  {
   "cell_type": "code",
   "execution_count": 103,
   "metadata": {},
   "outputs": [
    {
     "data": {
      "image/png": "[encoded data removed]",
      "text/plain": [
       "<Figure size 432x288 with 2 Axes>"
      ]
     },
     "metadata": {
      "needs_background": "light"
     },
     "output_type": "display_data"
    }
   ],
   "source": [
    "pred_v = pd.Series(nb.predict(x_valid))\n",
    "pred_v = pred_v.sort_values(ascending=False)\n",
    "fig, axes = plt.subplots(nrows=1, ncols=2)\n",
    "ax = gainsChart(pred_v, ax=axes[0])\n",
    "ax.set_ylabel('Cumulative Price')\n",
    "ax.set_title('Cumulative Gains Chart for Naive bayes')\n",
    "ax = liftChart(pred_v, ax=axes[1], labelBars=False)\n",
    "ax.set_ylabel('Lift')\n",
    "plt.tight_layout()\n",
    "plt.show()"
   ]
  },
  {
   "cell_type": "markdown",
   "metadata": {
    "id": "3dKIvtxCKu1T"
   },
   "source": [
    "# **Decision Tree**"
   ]
  },
  {
   "cell_type": "code",
   "execution_count": 104,
   "metadata": {
    "id": "oQCXvZztKylV"
   },
   "outputs": [],
   "source": [
    "from sklearn import tree\n",
    "from sklearn.tree import DecisionTreeClassifier"
   ]
  },
  {
   "cell_type": "code",
   "execution_count": 105,
   "metadata": {
    "id": "9ZlUKAjvymQx"
   },
   "outputs": [],
   "source": [
    "dec_tree=DecisionTreeClassifier(random_state=0)"
   ]
  },
  {
   "cell_type": "code",
   "execution_count": 106,
   "metadata": {
    "id": "aah-U-7B2Isf"
   },
   "outputs": [],
   "source": [
    "df_cleaned_dummy=pd.get_dummies(df_cleaned)\n",
    "x=['age', 'education.num', 'capital.loss', 'hours.per.week', 'workclass_Federal-gov', 'workclass_Local-gov',\n",
    "       'workclass_Private', 'workclass_Self-emp-inc',\n",
    "       'workclass_Self-emp-not-inc', 'workclass_State-gov',\n",
    "       'workclass_Without-pay', 'marital.status_Divorced',\n",
    "       'marital.status_Married-AF-spouse', 'marital.status_Married-civ-spouse',\n",
    "       'marital.status_Married-spouse-absent', 'marital.status_Never-married',\n",
    "       'marital.status_Separated', 'marital.status_Widowed',\n",
    "       'occupation_Adm-clerical', 'occupation_Armed-Forces',\n",
    "       'occupation_Craft-repair', 'occupation_Exec-managerial',\n",
    "       'occupation_Farming-fishing', 'occupation_Handlers-cleaners',\n",
    "       'occupation_Machine-op-inspct', 'occupation_Other-service',\n",
    "       'occupation_Priv-house-serv', 'occupation_Prof-specialty',\n",
    "       'occupation_Protective-serv', 'occupation_Sales',\n",
    "       'occupation_Tech-support', 'occupation_Transport-moving', 'sex_Female',\n",
    "       'sex_Male']\n",
    "y='Income Status'"
   ]
  },
  {
   "cell_type": "code",
   "execution_count": 107,
   "metadata": {
    "id": "8qa-kbOZ2Y2I"
   },
   "outputs": [],
   "source": [
    "dx_train,dx_valid,dy_train,dy_valid=train_test_split(df_cleaned_dummy[x],df_cleaned_dummy[y],test_size=0.25,random_state=4)"
   ]
  },
  {
   "cell_type": "code",
   "execution_count": 108,
   "metadata": {
    "id": "PhQXBfGC1ICj"
   },
   "outputs": [],
   "source": [
    "#scaling the entire dataset\n",
    "scaled_df=pd.DataFrame(scale.transform(df_cleaned_dummy[x]),columns=df_cleaned_dummy[x].columns)"
   ]
  },
  {
   "cell_type": "code",
   "execution_count": 109,
   "metadata": {
    "id": "WhH38n3s1JZb"
   },
   "outputs": [],
   "source": [
    "#segregating the train and test data\n",
    "dtrain_norm=scaled_df.iloc[dx_train.index]\n",
    "dvalid_norm=scaled_df.iloc[dx_valid.index]"
   ]
  },
  {
   "cell_type": "code",
   "execution_count": 110,
   "metadata": {
    "id": "xThXFAnY3aH9"
   },
   "outputs": [],
   "source": [
    "from sklearn.model_selection import cross_val_score"
   ]
  },
  {
   "cell_type": "code",
   "execution_count": 111,
   "metadata": {},
   "outputs": [
    {
     "name": "stdout",
     "output_type": "stream",
     "text": [
      "[0.79558011 0.78116711 0.78669319 0.78558798 0.78603006]\n"
     ]
    }
   ],
   "source": [
    "#fitting the decision tree\n",
    "dec_tree.fit(dtrain_norm,dy_train)\n",
    "print(cross_val_score(dec_tree,dtrain_norm,dy_train,cv=5))"
   ]
  },
  {
   "cell_type": "code",
   "execution_count": 112,
   "metadata": {
    "colab": {
     "base_uri": "https://localhost:8080/"
    },
    "id": "6MV1blSl2j55",
    "outputId": "a0e9b7c4-b083-40c1-c84c-fee682919760"
   },
   "outputs": [],
   "source": [
    "#plotting the tree\n",
    "#plt.figure(figsize=(10,10))\n",
    "#tree.plot_tree(dec_tree,feature_names=x,class_names=x,filled=True)\n",
    "#plt.show()"
   ]
  },
  {
   "cell_type": "code",
   "execution_count": 113,
   "metadata": {
    "colab": {
     "base_uri": "https://localhost:8080/"
    },
    "id": "GOII6BFn_D1x",
    "outputId": "accebb14-10a7-4aad-d397-8504f142078e"
   },
   "outputs": [
    {
     "name": "stdout",
     "output_type": "stream",
     "text": [
      "Confusion Matrix (Accuracy 0.6958)\n",
      "\n",
      "       Prediction\n",
      "Actual     0     1\n",
      "     0 10913  6013\n",
      "     1   869  4826\n",
      "{'classification summary of training set:\\n': None}\n",
      "Confusion Matrix (Accuracy 0.6974)\n",
      "\n",
      "       Prediction\n",
      "Actual    0    1\n",
      "     0 3732 1996\n",
      "     1  286 1527\n",
      "{'classification summary of validation set:\\n': None}\n"
     ]
    }
   ],
   "source": [
    "print({'classification summary of training set:\\n': classificationSummary(dy_train,nb.predict(dtrain_norm))})\n",
    "print({'classification summary of validation set:\\n': classificationSummary(dy_valid,nb.predict(dvalid_norm))})"
   ]
  },
  {
   "cell_type": "code",
   "execution_count": 114,
   "metadata": {
    "colab": {
     "base_uri": "https://localhost:8080/"
    },
    "id": "scxZlJXb9-Js",
    "outputId": "9df4d447-ef0b-4053-9a93-b755f4395d71"
   },
   "outputs": [
    {
     "data": {
      "text/plain": [
       "9676.824572167998"
      ]
     },
     "execution_count": 114,
     "metadata": {},
     "output_type": "execute_result"
    }
   ],
   "source": [
    "#aic\n",
    "AIC_score(dy_valid,dec_tree.predict(dvalid_norm),df=len(dtrain_norm.columns)+1)"
   ]
  },
  {
   "cell_type": "code",
   "execution_count": 115,
   "metadata": {},
   "outputs": [
    {
     "name": "stdout",
     "output_type": "stream",
     "text": [
      "f1 score for decision trees is 0.5584778959149412\n"
     ]
    }
   ],
   "source": [
    "#f1 score\n",
    "print('f1 score for decision trees is '+str(f1_score(dy_valid,dec_tree.predict(dvalid_norm))))"
   ]
  },
  {
   "cell_type": "code",
   "execution_count": 116,
   "metadata": {},
   "outputs": [
    {
     "data": {
      "text/plain": [
       "array([0], dtype=int64)"
      ]
     },
     "execution_count": 116,
     "metadata": {},
     "output_type": "execute_result"
    }
   ],
   "source": [
    "new_recdec=scaled_df.iloc[20]\n",
    "new_recdecdf=pd.DataFrame(new_recdec).transpose()\n",
    "dec_tree.predict(new_recdecdf)"
   ]
  },
  {
   "cell_type": "code",
   "execution_count": 135,
   "metadata": {},
   "outputs": [
    {
     "data": {
      "image/png": "[encoded data removed]",
      "text/plain": [
       "<Figure size 432x288 with 2 Axes>"
      ]
     },
     "metadata": {
      "needs_background": "light"
     },
     "output_type": "display_data"
    }
   ],
   "source": [
    "pred_v = pd.Series(dec_tree.predict(dvalid_norm))\n",
    "pred_v = pred_v.sort_values(ascending=False)\n",
    "fig, axes = plt.subplots(nrows=1, ncols=2)\n",
    "ax = gainsChart(pred_v, ax=axes[0])\n",
    "ax.set_ylabel('Cumulative Price')\n",
    "ax.set_title('Cumulative Gains Chart for decision tree')\n",
    "ax = liftChart(pred_v, ax=axes[1], labelBars=False)\n",
    "ax.set_ylabel('Lift')\n",
    "plt.tight_layout()\n",
    "plt.show()"
   ]
  },
  {
   "cell_type": "markdown",
   "metadata": {
    "id": "BQoA3IzPH-kT"
   },
   "source": [
    "# **Logistic regression**"
   ]
  },
  {
   "cell_type": "code",
   "execution_count": 118,
   "metadata": {
    "colab": {
     "base_uri": "https://localhost:8080/",
     "height": 317
    },
    "id": "zi30w3piNuVy",
    "outputId": "096813a3-20be-4e9d-c864-ac174352c782"
   },
   "outputs": [
    {
     "data": {
      "text/html": [
       "<div>\n",
       "<style scoped>\n",
       "    .dataframe tbody tr th:only-of-type {\n",
       "        vertical-align: middle;\n",
       "    }\n",
       "\n",
       "    .dataframe tbody tr th {\n",
       "        vertical-align: top;\n",
       "    }\n",
       "\n",
       "    .dataframe thead th {\n",
       "        text-align: right;\n",
       "    }\n",
       "</style>\n",
       "<table border=\"1\" class=\"dataframe\">\n",
       "  <thead>\n",
       "    <tr style=\"text-align: right;\">\n",
       "      <th></th>\n",
       "      <th>age</th>\n",
       "      <th>education.num</th>\n",
       "      <th>capital.loss</th>\n",
       "      <th>hours.per.week</th>\n",
       "      <th>Income Status</th>\n",
       "      <th>workclass_Federal-gov</th>\n",
       "      <th>workclass_Local-gov</th>\n",
       "      <th>workclass_Private</th>\n",
       "      <th>workclass_Self-emp-inc</th>\n",
       "      <th>workclass_Self-emp-not-inc</th>\n",
       "      <th>...</th>\n",
       "      <th>occupation_Machine-op-inspct</th>\n",
       "      <th>occupation_Other-service</th>\n",
       "      <th>occupation_Priv-house-serv</th>\n",
       "      <th>occupation_Prof-specialty</th>\n",
       "      <th>occupation_Protective-serv</th>\n",
       "      <th>occupation_Sales</th>\n",
       "      <th>occupation_Tech-support</th>\n",
       "      <th>occupation_Transport-moving</th>\n",
       "      <th>sex_Female</th>\n",
       "      <th>sex_Male</th>\n",
       "    </tr>\n",
       "  </thead>\n",
       "  <tbody>\n",
       "    <tr>\n",
       "      <th>0</th>\n",
       "      <td>82</td>\n",
       "      <td>9</td>\n",
       "      <td>4356</td>\n",
       "      <td>18</td>\n",
       "      <td>0</td>\n",
       "      <td>0</td>\n",
       "      <td>0</td>\n",
       "      <td>1</td>\n",
       "      <td>0</td>\n",
       "      <td>0</td>\n",
       "      <td>...</td>\n",
       "      <td>0</td>\n",
       "      <td>0</td>\n",
       "      <td>0</td>\n",
       "      <td>0</td>\n",
       "      <td>0</td>\n",
       "      <td>0</td>\n",
       "      <td>0</td>\n",
       "      <td>0</td>\n",
       "      <td>1</td>\n",
       "      <td>0</td>\n",
       "    </tr>\n",
       "    <tr>\n",
       "      <th>1</th>\n",
       "      <td>54</td>\n",
       "      <td>4</td>\n",
       "      <td>3900</td>\n",
       "      <td>40</td>\n",
       "      <td>0</td>\n",
       "      <td>0</td>\n",
       "      <td>0</td>\n",
       "      <td>1</td>\n",
       "      <td>0</td>\n",
       "      <td>0</td>\n",
       "      <td>...</td>\n",
       "      <td>1</td>\n",
       "      <td>0</td>\n",
       "      <td>0</td>\n",
       "      <td>0</td>\n",
       "      <td>0</td>\n",
       "      <td>0</td>\n",
       "      <td>0</td>\n",
       "      <td>0</td>\n",
       "      <td>1</td>\n",
       "      <td>0</td>\n",
       "    </tr>\n",
       "    <tr>\n",
       "      <th>2</th>\n",
       "      <td>41</td>\n",
       "      <td>10</td>\n",
       "      <td>3900</td>\n",
       "      <td>40</td>\n",
       "      <td>0</td>\n",
       "      <td>0</td>\n",
       "      <td>0</td>\n",
       "      <td>1</td>\n",
       "      <td>0</td>\n",
       "      <td>0</td>\n",
       "      <td>...</td>\n",
       "      <td>0</td>\n",
       "      <td>0</td>\n",
       "      <td>0</td>\n",
       "      <td>1</td>\n",
       "      <td>0</td>\n",
       "      <td>0</td>\n",
       "      <td>0</td>\n",
       "      <td>0</td>\n",
       "      <td>1</td>\n",
       "      <td>0</td>\n",
       "    </tr>\n",
       "    <tr>\n",
       "      <th>3</th>\n",
       "      <td>34</td>\n",
       "      <td>9</td>\n",
       "      <td>3770</td>\n",
       "      <td>45</td>\n",
       "      <td>0</td>\n",
       "      <td>0</td>\n",
       "      <td>0</td>\n",
       "      <td>1</td>\n",
       "      <td>0</td>\n",
       "      <td>0</td>\n",
       "      <td>...</td>\n",
       "      <td>0</td>\n",
       "      <td>1</td>\n",
       "      <td>0</td>\n",
       "      <td>0</td>\n",
       "      <td>0</td>\n",
       "      <td>0</td>\n",
       "      <td>0</td>\n",
       "      <td>0</td>\n",
       "      <td>1</td>\n",
       "      <td>0</td>\n",
       "    </tr>\n",
       "    <tr>\n",
       "      <th>4</th>\n",
       "      <td>38</td>\n",
       "      <td>6</td>\n",
       "      <td>3770</td>\n",
       "      <td>40</td>\n",
       "      <td>0</td>\n",
       "      <td>0</td>\n",
       "      <td>0</td>\n",
       "      <td>1</td>\n",
       "      <td>0</td>\n",
       "      <td>0</td>\n",
       "      <td>...</td>\n",
       "      <td>0</td>\n",
       "      <td>0</td>\n",
       "      <td>0</td>\n",
       "      <td>0</td>\n",
       "      <td>0</td>\n",
       "      <td>0</td>\n",
       "      <td>0</td>\n",
       "      <td>0</td>\n",
       "      <td>0</td>\n",
       "      <td>1</td>\n",
       "    </tr>\n",
       "  </tbody>\n",
       "</table>\n",
       "<p>5 rows × 35 columns</p>\n",
       "</div>"
      ],
      "text/plain": [
       "   age  education.num  capital.loss  hours.per.week  Income Status  \\\n",
       "0   82              9          4356              18              0   \n",
       "1   54              4          3900              40              0   \n",
       "2   41             10          3900              40              0   \n",
       "3   34              9          3770              45              0   \n",
       "4   38              6          3770              40              0   \n",
       "\n",
       "   workclass_Federal-gov  workclass_Local-gov  workclass_Private  \\\n",
       "0                      0                    0                  1   \n",
       "1                      0                    0                  1   \n",
       "2                      0                    0                  1   \n",
       "3                      0                    0                  1   \n",
       "4                      0                    0                  1   \n",
       "\n",
       "   workclass_Self-emp-inc  workclass_Self-emp-not-inc  ...  \\\n",
       "0                       0                           0  ...   \n",
       "1                       0                           0  ...   \n",
       "2                       0                           0  ...   \n",
       "3                       0                           0  ...   \n",
       "4                       0                           0  ...   \n",
       "\n",
       "   occupation_Machine-op-inspct  occupation_Other-service  \\\n",
       "0                             0                         0   \n",
       "1                             1                         0   \n",
       "2                             0                         0   \n",
       "3                             0                         1   \n",
       "4                             0                         0   \n",
       "\n",
       "   occupation_Priv-house-serv  occupation_Prof-specialty  \\\n",
       "0                           0                          0   \n",
       "1                           0                          0   \n",
       "2                           0                          1   \n",
       "3                           0                          0   \n",
       "4                           0                          0   \n",
       "\n",
       "   occupation_Protective-serv  occupation_Sales  occupation_Tech-support  \\\n",
       "0                           0                 0                        0   \n",
       "1                           0                 0                        0   \n",
       "2                           0                 0                        0   \n",
       "3                           0                 0                        0   \n",
       "4                           0                 0                        0   \n",
       "\n",
       "   occupation_Transport-moving  sex_Female  sex_Male  \n",
       "0                            0           1         0  \n",
       "1                            0           1         0  \n",
       "2                            0           1         0  \n",
       "3                            0           1         0  \n",
       "4                            0           0         1  \n",
       "\n",
       "[5 rows x 35 columns]"
      ]
     },
     "execution_count": 118,
     "metadata": {},
     "output_type": "execute_result"
    }
   ],
   "source": [
    "df_cleaned_dummy.head()"
   ]
  },
  {
   "cell_type": "code",
   "execution_count": 119,
   "metadata": {
    "id": "lljvOJv91mcq"
   },
   "outputs": [],
   "source": [
    "#standardizing the data\n",
    "scale=StandardScaler()"
   ]
  },
  {
   "cell_type": "code",
   "execution_count": 120,
   "metadata": {
    "id": "4UaRNSjU2hi0"
   },
   "outputs": [],
   "source": [
    "train_x,test_x,train_y,test_y=train_test_split(df_cleaned_dummy[x],df_cleaned_dummy[y],test_size=0.25,random_state=1) "
   ]
  },
  {
   "cell_type": "code",
   "execution_count": 121,
   "metadata": {
    "colab": {
     "base_uri": "https://localhost:8080/"
    },
    "id": "vJBny8faEU7N",
    "outputId": "4ccbb010-46a0-429d-a063-c3c3c37c78f7"
   },
   "outputs": [
    {
     "data": {
      "text/plain": [
       "StandardScaler()"
      ]
     },
     "execution_count": 121,
     "metadata": {},
     "output_type": "execute_result"
    }
   ],
   "source": [
    "scale.fit(train_x) #capturing the mean and variance of training data"
   ]
  },
  {
   "cell_type": "code",
   "execution_count": 122,
   "metadata": {
    "id": "xlZ1h0HsN-aZ"
   },
   "outputs": [],
   "source": [
    "#scaling the data since huge difference in ranges of the variables in the dataset\n",
    "scaled_data=pd.DataFrame(scale.transform(df_cleaned_dummy[x]),columns=df_cleaned_dummy[x].columns)"
   ]
  },
  {
   "cell_type": "code",
   "execution_count": 123,
   "metadata": {
    "id": "oTyjI_5oDXJ3"
   },
   "outputs": [],
   "source": [
    "train_stan=scaled_data.iloc[train_x.index]\n",
    "test_stan=scaled_data.iloc[test_x.index]"
   ]
  },
  {
   "cell_type": "code",
   "execution_count": 124,
   "metadata": {
    "colab": {
     "base_uri": "https://localhost:8080/"
    },
    "id": "Qt0rwiAHO6Oa",
    "outputId": "0a229962-ef6b-4a9c-c1a4-bb78ffe44f6a"
   },
   "outputs": [
    {
     "data": {
      "text/plain": [
       "LogisticRegression(C=1e+42, solver='liblinear')"
      ]
     },
     "execution_count": 124,
     "metadata": {},
     "output_type": "execute_result"
    }
   ],
   "source": [
    "#fitting the logistic regression model over the data\n",
    "logit_full = LogisticRegression(penalty=\"l2\", C=1e42, solver='liblinear')\n",
    "logit_full.fit(train_stan,train_y)"
   ]
  },
  {
   "cell_type": "code",
   "execution_count": 125,
   "metadata": {
    "colab": {
     "base_uri": "https://localhost:8080/"
    },
    "id": "TblP6P3qQL31",
    "outputId": "d0ed34d9-8a86-4c9a-e1bb-462fbca6342e"
   },
   "outputs": [
    {
     "name": "stdout",
     "output_type": "stream",
     "text": [
      "intercept: \n",
      "  [-1.94913219]\n",
      "\n",
      " coefficients are \n",
      "\n",
      "        age  education.num  capital.loss  hours.per.week  \\\n",
      "0  0.385297       0.741275      0.205887        0.353913   \n",
      "\n",
      "   workclass_Federal-gov  workclass_Local-gov  workclass_Private  \\\n",
      "0               0.093614            -0.029652           0.037797   \n",
      "\n",
      "   workclass_Self-emp-inc  workclass_Self-emp-not-inc  workclass_State-gov  \\\n",
      "0                0.063774                   -0.089539            -0.044034   \n",
      "\n",
      "   ...  occupation_Machine-op-inspct  occupation_Other-service  \\\n",
      "0  ...                     -0.082041                 -0.271535   \n",
      "\n",
      "   occupation_Priv-house-serv  occupation_Prof-specialty  \\\n",
      "0                   -0.555792                   0.184773   \n",
      "\n",
      "   occupation_Protective-serv  occupation_Sales  occupation_Tech-support  \\\n",
      "0                    0.097522          0.094074                 0.113707   \n",
      "\n",
      "   occupation_Transport-moving  sex_Female  sex_Male  \n",
      "0                    -0.036203   -0.047917  0.047917  \n",
      "\n",
      "[1 rows x 34 columns]\n",
      "\n",
      " AIC Score 8116.160803633225\n"
     ]
    }
   ],
   "source": [
    "#printing the y-intercept, coefficients of logit and the AIC_score of the model\n",
    "print('intercept: \\n ',logit_full.intercept_)\n",
    "print('\\n coefficients are \\n')\n",
    "print(pd.DataFrame((logit_full.coef_),columns=df_cleaned_dummy[x].columns))\n",
    "print('\\n AIC Score '+str(AIC_score(test_y,logit_full.predict(test_stan),df=len(df_cleaned_dummy[x].columns)+1)))"
   ]
  },
  {
   "cell_type": "code",
   "execution_count": 126,
   "metadata": {
    "colab": {
     "base_uri": "https://localhost:8080/"
    },
    "id": "D9NAfoaOR-kZ",
    "outputId": "76554abd-6da5-4e55-dd2a-799a91f2ccb8"
   },
   "outputs": [
    {
     "name": "stdout",
     "output_type": "stream",
     "text": [
      "Confusion Matrix (Accuracy 0.8299)\n",
      "\n",
      "       Prediction\n",
      "Actual    0    1\n",
      "     0 5187  453\n",
      "     1  830 1071\n"
     ]
    }
   ],
   "source": [
    "#confusion matrix of test data-logistic regression\n",
    "classificationSummary(test_y,logit_full.predict((test_stan)))"
   ]
  },
  {
   "cell_type": "code",
   "execution_count": 127,
   "metadata": {},
   "outputs": [
    {
     "name": "stdout",
     "output_type": "stream",
     "text": [
      "f1 score for logistic reg is 0.6254014598540145\n"
     ]
    }
   ],
   "source": [
    "#f1 score\n",
    "print('f1 score for logistic reg is '+str(f1_score(test_y,logit_full.predict((test_stan)))))"
   ]
  },
  {
   "cell_type": "code",
   "execution_count": 128,
   "metadata": {},
   "outputs": [
    {
     "name": "stdout",
     "output_type": "stream",
     "text": [
      "{'cross val score for logistic': array([0.83226519, 0.82051282, 0.83377542, 0.83045977, 0.83576481])}\n"
     ]
    }
   ],
   "source": [
    "#cross val score\n",
    "print({'cross val score for logistic': cross_val_score(logit_full,train_stan,train_y,cv=5)})"
   ]
  },
  {
   "cell_type": "code",
   "execution_count": 129,
   "metadata": {},
   "outputs": [
    {
     "data": {
      "text/html": [
       "<div>\n",
       "<style scoped>\n",
       "    .dataframe tbody tr th:only-of-type {\n",
       "        vertical-align: middle;\n",
       "    }\n",
       "\n",
       "    .dataframe tbody tr th {\n",
       "        vertical-align: top;\n",
       "    }\n",
       "\n",
       "    .dataframe thead th {\n",
       "        text-align: right;\n",
       "    }\n",
       "</style>\n",
       "<table border=\"1\" class=\"dataframe\">\n",
       "  <thead>\n",
       "    <tr style=\"text-align: right;\">\n",
       "      <th></th>\n",
       "      <th>age</th>\n",
       "      <th>education.num</th>\n",
       "      <th>capital.loss</th>\n",
       "      <th>hours.per.week</th>\n",
       "      <th>workclass_Federal-gov</th>\n",
       "      <th>workclass_Local-gov</th>\n",
       "      <th>workclass_Private</th>\n",
       "      <th>workclass_Self-emp-inc</th>\n",
       "      <th>workclass_Self-emp-not-inc</th>\n",
       "      <th>workclass_State-gov</th>\n",
       "      <th>...</th>\n",
       "      <th>occupation_Machine-op-inspct</th>\n",
       "      <th>occupation_Other-service</th>\n",
       "      <th>occupation_Priv-house-serv</th>\n",
       "      <th>occupation_Prof-specialty</th>\n",
       "      <th>occupation_Protective-serv</th>\n",
       "      <th>occupation_Sales</th>\n",
       "      <th>occupation_Tech-support</th>\n",
       "      <th>occupation_Transport-moving</th>\n",
       "      <th>sex_Female</th>\n",
       "      <th>sex_Male</th>\n",
       "    </tr>\n",
       "  </thead>\n",
       "  <tbody>\n",
       "    <tr>\n",
       "      <th>20</th>\n",
       "      <td>-0.414749</td>\n",
       "      <td>-3.179237</td>\n",
       "      <td>6.289417</td>\n",
       "      <td>-0.740647</td>\n",
       "      <td>-0.180533</td>\n",
       "      <td>-0.272627</td>\n",
       "      <td>0.592786</td>\n",
       "      <td>-0.192463</td>\n",
       "      <td>-0.298352</td>\n",
       "      <td>-0.207642</td>\n",
       "      <td>...</td>\n",
       "      <td>-0.265637</td>\n",
       "      <td>-0.346756</td>\n",
       "      <td>-0.069262</td>\n",
       "      <td>-0.391246</td>\n",
       "      <td>-0.14802</td>\n",
       "      <td>-0.368925</td>\n",
       "      <td>-0.173764</td>\n",
       "      <td>-0.236164</td>\n",
       "      <td>-0.695649</td>\n",
       "      <td>0.695649</td>\n",
       "    </tr>\n",
       "  </tbody>\n",
       "</table>\n",
       "<p>1 rows × 34 columns</p>\n",
       "</div>"
      ],
      "text/plain": [
       "         age  education.num  capital.loss  hours.per.week  \\\n",
       "20 -0.414749      -3.179237      6.289417       -0.740647   \n",
       "\n",
       "    workclass_Federal-gov  workclass_Local-gov  workclass_Private  \\\n",
       "20              -0.180533            -0.272627           0.592786   \n",
       "\n",
       "    workclass_Self-emp-inc  workclass_Self-emp-not-inc  workclass_State-gov  \\\n",
       "20               -0.192463                   -0.298352            -0.207642   \n",
       "\n",
       "    ...  occupation_Machine-op-inspct  occupation_Other-service  \\\n",
       "20  ...                     -0.265637                 -0.346756   \n",
       "\n",
       "    occupation_Priv-house-serv  occupation_Prof-specialty  \\\n",
       "20                   -0.069262                  -0.391246   \n",
       "\n",
       "    occupation_Protective-serv  occupation_Sales  occupation_Tech-support  \\\n",
       "20                    -0.14802         -0.368925                -0.173764   \n",
       "\n",
       "    occupation_Transport-moving  sex_Female  sex_Male  \n",
       "20                    -0.236164   -0.695649  0.695649  \n",
       "\n",
       "[1 rows x 34 columns]"
      ]
     },
     "execution_count": 129,
     "metadata": {},
     "output_type": "execute_result"
    }
   ],
   "source": [
    "#new rec\n",
    "new_reclog=scaled_data.iloc[20]\n",
    "new_reclogdf=pd.DataFrame(new_reclog).transpose()\n",
    "new_reclogdf"
   ]
  },
  {
   "cell_type": "code",
   "execution_count": 130,
   "metadata": {},
   "outputs": [
    {
     "data": {
      "text/plain": [
       "array([0], dtype=int64)"
      ]
     },
     "execution_count": 130,
     "metadata": {},
     "output_type": "execute_result"
    }
   ],
   "source": [
    "#prediction:0 actual 0\n",
    "logit_full.predict(new_reclogdf)"
   ]
  },
  {
   "cell_type": "code",
   "execution_count": 137,
   "metadata": {},
   "outputs": [],
   "source": [
    "#performance comparison of all the models\n",
    "accuracy_dict={'kNN':0.8356,'Naive Bayes':0.7593,'Decision Tree':0.6974,'Logistic_Reg':0.8299,\n",
    "              'Neural Nets':0.8386}\n",
    "AIC_dict={'kNN':7979.748,'Naive Bayes':10732.015,'Decision Tree':9676.82,'Logistic_Reg':8116.16,\n",
    "         'Neural Nets':7717.9}"
   ]
  },
  {
   "cell_type": "code",
   "execution_count": 138,
   "metadata": {},
   "outputs": [
    {
     "data": {
      "text/plain": [
       "Text(0, 0.5, 'log(Accuracy)')"
      ]
     },
     "execution_count": 138,
     "metadata": {},
     "output_type": "execute_result"
    },
    {
     "data": {
      "image/png": "[encoded data removed]",
      "text/plain": [
       "<Figure size 432x288 with 1 Axes>"
      ]
     },
     "metadata": {
      "needs_background": "light"
     },
     "output_type": "display_data"
    }
   ],
   "source": [
    "#Model accuracy comparison \n",
    "plt.bar(accuracy_dict.keys(),accuracy_dict.values(),width=0.4,log=True)\n",
    "plt.xlabel('Model')\n",
    "plt.ylabel('log(Accuracy)')"
   ]
  },
  {
   "cell_type": "code",
   "execution_count": 139,
   "metadata": {},
   "outputs": [
    {
     "data": {
      "text/plain": [
       "Text(0, 0.5, 'AIC_score')"
      ]
     },
     "execution_count": 139,
     "metadata": {},
     "output_type": "execute_result"
    },
    {
     "data": {
      "image/png": "[encoded data removed]",
      "text/plain": [
       "<Figure size 432x288 with 1 Axes>"
      ]
     },
     "metadata": {
      "needs_background": "light"
     },
     "output_type": "display_data"
    }
   ],
   "source": [
    "#AIC_score comparison for the models used throughout this project\n",
    "plt.bar(AIC_dict.keys(),AIC_dict.values(),width=0.4)\n",
    "plt.xlabel('Model')\n",
    "plt.ylabel('AIC_score')"
   ]
  },
  {
   "cell_type": "code",
   "execution_count": 140,
   "metadata": {},
   "outputs": [
    {
     "data": {
      "image/png": "[encoded data removed]",
      "text/plain": [
       "<Figure size 432x288 with 2 Axes>"
      ]
     },
     "metadata": {
      "needs_background": "light"
     },
     "output_type": "display_data"
    }
   ],
   "source": [
    "pred_v = pd.Series(logit_full.predict(test_stan))\n",
    "pred_v = pred_v.sort_values(ascending=False)\n",
    "fig, axes = plt.subplots(nrows=1, ncols=2)\n",
    "ax = gainsChart(pred_v, ax=axes[0])\n",
    "ax.set_ylabel('Cumulative Price')\n",
    "ax.set_title('Cumulative Gains Chart')\n",
    "ax = liftChart(pred_v, ax=axes[1], labelBars=False)\n",
    "ax.set_ylabel('Lift')\n",
    "plt.tight_layout()\n",
    "plt.show()"
   ]
  },
  {
   "cell_type": "code",
   "execution_count": 134,
   "metadata": {},
   "outputs": [
    {
     "name": "stdout",
     "output_type": "stream",
     "text": [
      "Requirement already satisfied: nbconvert[webpdf] in c:\\users\\admin\\anaconda3\\lib\\site-packages (6.1.0)\n",
      "Requirement already satisfied: pygments>=2.4.1 in c:\\users\\admin\\anaconda3\\lib\\site-packages (from nbconvert[webpdf]) (2.10.0)\n",
      "Requirement already satisfied: testpath in c:\\users\\admin\\anaconda3\\lib\\site-packages (from nbconvert[webpdf]) (0.5.0)\n",
      "Requirement already satisfied: jinja2>=2.4 in c:\\users\\admin\\anaconda3\\lib\\site-packages (from nbconvert[webpdf]) (2.11.3)\n",
      "Requirement already satisfied: pandocfilters>=1.4.1 in c:\\users\\admin\\anaconda3\\lib\\site-packages (from nbconvert[webpdf]) (1.4.3)\n",
      "Requirement already satisfied: jupyterlab-pygments in c:\\users\\admin\\anaconda3\\lib\\site-packages (from nbconvert[webpdf]) (0.1.2)\n",
      "Requirement already satisfied: defusedxml in c:\\users\\admin\\anaconda3\\lib\\site-packages (from nbconvert[webpdf]) (0.7.1)\n",
      "Requirement already satisfied: traitlets>=5.0 in c:\\users\\admin\\anaconda3\\lib\\site-packages (from nbconvert[webpdf]) (5.1.0)\n",
      "Requirement already satisfied: mistune<2,>=0.8.1 in c:\\users\\admin\\anaconda3\\lib\\site-packages (from nbconvert[webpdf]) (0.8.4)\n",
      "Requirement already satisfied: nbformat>=4.4 in c:\\users\\admin\\anaconda3\\lib\\site-packages (from nbconvert[webpdf]) (5.1.3)\n",
      "Requirement already satisfied: entrypoints>=0.2.2 in c:\\users\\admin\\anaconda3\\lib\\site-packages (from nbconvert[webpdf]) (0.3)\n",
      "Requirement already satisfied: nbclient<0.6.0,>=0.5.0 in c:\\users\\admin\\anaconda3\\lib\\site-packages (from nbconvert[webpdf]) (0.5.3)\n",
      "Requirement already satisfied: bleach in c:\\users\\admin\\anaconda3\\lib\\site-packages (from nbconvert[webpdf]) (4.0.0)\n",
      "Requirement already satisfied: jupyter-core in c:\\users\\admin\\anaconda3\\lib\\site-packages (from nbconvert[webpdf]) (4.8.1)\n",
      "Requirement already satisfied: pyppeteer==0.2.2 in c:\\users\\admin\\anaconda3\\lib\\site-packages (from nbconvert[webpdf]) (0.2.2)\n",
      "Requirement already satisfied: tqdm<5.0.0,>=4.42.1 in c:\\users\\admin\\anaconda3\\lib\\site-packages (from pyppeteer==0.2.2->nbconvert[webpdf]) (4.62.3)\n",
      "Requirement already satisfied: websockets<9.0,>=8.1 in c:\\users\\admin\\anaconda3\\lib\\site-packages (from pyppeteer==0.2.2->nbconvert[webpdf]) (8.1)\n",
      "Requirement already satisfied: pyee<8.0.0,>=7.0.1 in c:\\users\\admin\\anaconda3\\lib\\site-packages (from pyppeteer==0.2.2->nbconvert[webpdf]) (7.0.4)\n",
      "Requirement already satisfied: appdirs<2.0.0,>=1.4.3 in c:\\users\\admin\\anaconda3\\lib\\site-packages (from pyppeteer==0.2.2->nbconvert[webpdf]) (1.4.4)\n",
      "Requirement already satisfied: urllib3<2.0.0,>=1.25.8 in c:\\users\\admin\\anaconda3\\lib\\site-packages (from pyppeteer==0.2.2->nbconvert[webpdf]) (1.26.7)\n",
      "Requirement already satisfied: MarkupSafe>=0.23 in c:\\users\\admin\\anaconda3\\lib\\site-packages (from jinja2>=2.4->nbconvert[webpdf]) (1.1.1)\n",
      "Requirement already satisfied: nest-asyncio in c:\\users\\admin\\anaconda3\\lib\\site-packages (from nbclient<0.6.0,>=0.5.0->nbconvert[webpdf]) (1.5.1)\n",
      "Requirement already satisfied: jupyter-client>=6.1.5 in c:\\users\\admin\\anaconda3\\lib\\site-packages (from nbclient<0.6.0,>=0.5.0->nbconvert[webpdf]) (6.1.12)\n",
      "Requirement already satisfied: async-generator in c:\\users\\admin\\anaconda3\\lib\\site-packages (from nbclient<0.6.0,>=0.5.0->nbconvert[webpdf]) (1.10)\n",
      "Requirement already satisfied: python-dateutil>=2.1 in c:\\users\\admin\\anaconda3\\lib\\site-packages (from jupyter-client>=6.1.5->nbclient<0.6.0,>=0.5.0->nbconvert[webpdf]) (2.8.2)\n",
      "Requirement already satisfied: tornado>=4.1 in c:\\users\\admin\\anaconda3\\lib\\site-packages (from jupyter-client>=6.1.5->nbclient<0.6.0,>=0.5.0->nbconvert[webpdf]) (6.1)\n",
      "Requirement already satisfied: pyzmq>=13 in c:\\users\\admin\\anaconda3\\lib\\site-packages (from jupyter-client>=6.1.5->nbclient<0.6.0,>=0.5.0->nbconvert[webpdf]) (22.2.1)\n",
      "Requirement already satisfied: pywin32>=1.0 in c:\\users\\admin\\anaconda3\\lib\\site-packages (from jupyter-core->nbconvert[webpdf]) (228)\n",
      "Requirement already satisfied: ipython-genutils in c:\\users\\admin\\anaconda3\\lib\\site-packages (from nbformat>=4.4->nbconvert[webpdf]) (0.2.0)\n",
      "Requirement already satisfied: jsonschema!=2.5.0,>=2.4 in c:\\users\\admin\\anaconda3\\lib\\site-packages (from nbformat>=4.4->nbconvert[webpdf]) (3.2.0)\n",
      "Requirement already satisfied: six>=1.11.0 in c:\\users\\admin\\anaconda3\\lib\\site-packages (from jsonschema!=2.5.0,>=2.4->nbformat>=4.4->nbconvert[webpdf]) (1.16.0)\n",
      "Requirement already satisfied: pyrsistent>=0.14.0 in c:\\users\\admin\\anaconda3\\lib\\site-packages (from jsonschema!=2.5.0,>=2.4->nbformat>=4.4->nbconvert[webpdf]) (0.18.0)\n",
      "Requirement already satisfied: setuptools in c:\\users\\admin\\anaconda3\\lib\\site-packages (from jsonschema!=2.5.0,>=2.4->nbformat>=4.4->nbconvert[webpdf]) (58.0.4)\n",
      "Requirement already satisfied: attrs>=17.4.0 in c:\\users\\admin\\anaconda3\\lib\\site-packages (from jsonschema!=2.5.0,>=2.4->nbformat>=4.4->nbconvert[webpdf]) (21.2.0)\n",
      "Requirement already satisfied: colorama in c:\\users\\admin\\anaconda3\\lib\\site-packages (from tqdm<5.0.0,>=4.42.1->pyppeteer==0.2.2->nbconvert[webpdf]) (0.4.4)\n",
      "Requirement already satisfied: packaging in c:\\users\\admin\\anaconda3\\lib\\site-packages (from bleach->nbconvert[webpdf]) (21.0)\n",
      "Requirement already satisfied: webencodings in c:\\users\\admin\\anaconda3\\lib\\site-packages (from bleach->nbconvert[webpdf]) (0.5.1)\n",
      "Requirement already satisfied: pyparsing>=2.0.2 in c:\\users\\admin\\anaconda3\\lib\\site-packages (from packaging->bleach->nbconvert[webpdf]) (3.0.4)\n"
     ]
    }
   ],
   "source": [
    "!pip install nbconvert[webpdf]"
   ]
  },
  {
   "cell_type": "markdown",
   "metadata": {},
   "source": [
    "# Neural nets"
   ]
  },
  {
   "cell_type": "code",
   "execution_count": 162,
   "metadata": {},
   "outputs": [
    {
     "data": {
      "text/html": [
       "<div>\n",
       "<style scoped>\n",
       "    .dataframe tbody tr th:only-of-type {\n",
       "        vertical-align: middle;\n",
       "    }\n",
       "\n",
       "    .dataframe tbody tr th {\n",
       "        vertical-align: top;\n",
       "    }\n",
       "\n",
       "    .dataframe thead th {\n",
       "        text-align: right;\n",
       "    }\n",
       "</style>\n",
       "<table border=\"1\" class=\"dataframe\">\n",
       "  <thead>\n",
       "    <tr style=\"text-align: right;\">\n",
       "      <th></th>\n",
       "      <th>age</th>\n",
       "      <th>workclass</th>\n",
       "      <th>fnlwgt</th>\n",
       "      <th>education</th>\n",
       "      <th>education.num</th>\n",
       "      <th>marital.status</th>\n",
       "      <th>occupation</th>\n",
       "      <th>relationship</th>\n",
       "      <th>race</th>\n",
       "      <th>sex</th>\n",
       "      <th>capital.gain</th>\n",
       "      <th>capital.loss</th>\n",
       "      <th>hours.per.week</th>\n",
       "      <th>native.country</th>\n",
       "      <th>income</th>\n",
       "      <th>Income Status</th>\n",
       "    </tr>\n",
       "  </thead>\n",
       "  <tbody>\n",
       "    <tr>\n",
       "      <th>1</th>\n",
       "      <td>82</td>\n",
       "      <td>Private</td>\n",
       "      <td>132870</td>\n",
       "      <td>HS-grad</td>\n",
       "      <td>9</td>\n",
       "      <td>Widowed</td>\n",
       "      <td>Exec-managerial</td>\n",
       "      <td>Not-in-family</td>\n",
       "      <td>White</td>\n",
       "      <td>Female</td>\n",
       "      <td>0</td>\n",
       "      <td>4356</td>\n",
       "      <td>18</td>\n",
       "      <td>United-States</td>\n",
       "      <td>&lt;=50K</td>\n",
       "      <td>0</td>\n",
       "    </tr>\n",
       "    <tr>\n",
       "      <th>3</th>\n",
       "      <td>54</td>\n",
       "      <td>Private</td>\n",
       "      <td>140359</td>\n",
       "      <td>7th-8th</td>\n",
       "      <td>4</td>\n",
       "      <td>Divorced</td>\n",
       "      <td>Machine-op-inspct</td>\n",
       "      <td>Unmarried</td>\n",
       "      <td>White</td>\n",
       "      <td>Female</td>\n",
       "      <td>0</td>\n",
       "      <td>3900</td>\n",
       "      <td>40</td>\n",
       "      <td>United-States</td>\n",
       "      <td>&lt;=50K</td>\n",
       "      <td>0</td>\n",
       "    </tr>\n",
       "    <tr>\n",
       "      <th>4</th>\n",
       "      <td>41</td>\n",
       "      <td>Private</td>\n",
       "      <td>264663</td>\n",
       "      <td>Some-college</td>\n",
       "      <td>10</td>\n",
       "      <td>Separated</td>\n",
       "      <td>Prof-specialty</td>\n",
       "      <td>Own-child</td>\n",
       "      <td>White</td>\n",
       "      <td>Female</td>\n",
       "      <td>0</td>\n",
       "      <td>3900</td>\n",
       "      <td>40</td>\n",
       "      <td>United-States</td>\n",
       "      <td>&lt;=50K</td>\n",
       "      <td>0</td>\n",
       "    </tr>\n",
       "    <tr>\n",
       "      <th>5</th>\n",
       "      <td>34</td>\n",
       "      <td>Private</td>\n",
       "      <td>216864</td>\n",
       "      <td>HS-grad</td>\n",
       "      <td>9</td>\n",
       "      <td>Divorced</td>\n",
       "      <td>Other-service</td>\n",
       "      <td>Unmarried</td>\n",
       "      <td>White</td>\n",
       "      <td>Female</td>\n",
       "      <td>0</td>\n",
       "      <td>3770</td>\n",
       "      <td>45</td>\n",
       "      <td>United-States</td>\n",
       "      <td>&lt;=50K</td>\n",
       "      <td>0</td>\n",
       "    </tr>\n",
       "    <tr>\n",
       "      <th>6</th>\n",
       "      <td>38</td>\n",
       "      <td>Private</td>\n",
       "      <td>150601</td>\n",
       "      <td>10th</td>\n",
       "      <td>6</td>\n",
       "      <td>Separated</td>\n",
       "      <td>Adm-clerical</td>\n",
       "      <td>Unmarried</td>\n",
       "      <td>White</td>\n",
       "      <td>Male</td>\n",
       "      <td>0</td>\n",
       "      <td>3770</td>\n",
       "      <td>40</td>\n",
       "      <td>United-States</td>\n",
       "      <td>&lt;=50K</td>\n",
       "      <td>0</td>\n",
       "    </tr>\n",
       "  </tbody>\n",
       "</table>\n",
       "</div>"
      ],
      "text/plain": [
       "   age workclass  fnlwgt     education  education.num marital.status  \\\n",
       "1   82   Private  132870       HS-grad              9        Widowed   \n",
       "3   54   Private  140359       7th-8th              4       Divorced   \n",
       "4   41   Private  264663  Some-college             10      Separated   \n",
       "5   34   Private  216864       HS-grad              9       Divorced   \n",
       "6   38   Private  150601          10th              6      Separated   \n",
       "\n",
       "          occupation   relationship   race     sex  capital.gain  \\\n",
       "1    Exec-managerial  Not-in-family  White  Female             0   \n",
       "3  Machine-op-inspct      Unmarried  White  Female             0   \n",
       "4     Prof-specialty      Own-child  White  Female             0   \n",
       "5      Other-service      Unmarried  White  Female             0   \n",
       "6       Adm-clerical      Unmarried  White    Male             0   \n",
       "\n",
       "   capital.loss  hours.per.week native.country income  Income Status  \n",
       "1          4356              18  United-States  <=50K              0  \n",
       "3          3900              40  United-States  <=50K              0  \n",
       "4          3900              40  United-States  <=50K              0  \n",
       "5          3770              45  United-States  <=50K              0  \n",
       "6          3770              40  United-States  <=50K              0  "
      ]
     },
     "execution_count": 162,
     "metadata": {},
     "output_type": "execute_result"
    }
   ],
   "source": [
    "df.head()"
   ]
  },
  {
   "cell_type": "code",
   "execution_count": 163,
   "metadata": {},
   "outputs": [],
   "source": [
    "from sklearn.preprocessing import MinMaxScaler"
   ]
  },
  {
   "cell_type": "code",
   "execution_count": 164,
   "metadata": {},
   "outputs": [],
   "source": [
    "scale1=MinMaxScaler(feature_range=[-1,1])"
   ]
  },
  {
   "cell_type": "code",
   "execution_count": 165,
   "metadata": {},
   "outputs": [
    {
     "data": {
      "text/html": [
       "<div>\n",
       "<style scoped>\n",
       "    .dataframe tbody tr th:only-of-type {\n",
       "        vertical-align: middle;\n",
       "    }\n",
       "\n",
       "    .dataframe tbody tr th {\n",
       "        vertical-align: top;\n",
       "    }\n",
       "\n",
       "    .dataframe thead th {\n",
       "        text-align: right;\n",
       "    }\n",
       "</style>\n",
       "<table border=\"1\" class=\"dataframe\">\n",
       "  <thead>\n",
       "    <tr style=\"text-align: right;\">\n",
       "      <th></th>\n",
       "      <th>age</th>\n",
       "      <th>education.num</th>\n",
       "      <th>capital.loss</th>\n",
       "      <th>hours.per.week</th>\n",
       "      <th>Income Status</th>\n",
       "      <th>workclass_Federal-gov</th>\n",
       "      <th>workclass_Local-gov</th>\n",
       "      <th>workclass_Private</th>\n",
       "      <th>workclass_Self-emp-inc</th>\n",
       "      <th>workclass_Self-emp-not-inc</th>\n",
       "      <th>...</th>\n",
       "      <th>occupation_Machine-op-inspct</th>\n",
       "      <th>occupation_Other-service</th>\n",
       "      <th>occupation_Priv-house-serv</th>\n",
       "      <th>occupation_Prof-specialty</th>\n",
       "      <th>occupation_Protective-serv</th>\n",
       "      <th>occupation_Sales</th>\n",
       "      <th>occupation_Tech-support</th>\n",
       "      <th>occupation_Transport-moving</th>\n",
       "      <th>sex_Female</th>\n",
       "      <th>sex_Male</th>\n",
       "    </tr>\n",
       "  </thead>\n",
       "  <tbody>\n",
       "    <tr>\n",
       "      <th>0</th>\n",
       "      <td>82</td>\n",
       "      <td>9</td>\n",
       "      <td>4356</td>\n",
       "      <td>18</td>\n",
       "      <td>0</td>\n",
       "      <td>0</td>\n",
       "      <td>0</td>\n",
       "      <td>1</td>\n",
       "      <td>0</td>\n",
       "      <td>0</td>\n",
       "      <td>...</td>\n",
       "      <td>0</td>\n",
       "      <td>0</td>\n",
       "      <td>0</td>\n",
       "      <td>0</td>\n",
       "      <td>0</td>\n",
       "      <td>0</td>\n",
       "      <td>0</td>\n",
       "      <td>0</td>\n",
       "      <td>1</td>\n",
       "      <td>0</td>\n",
       "    </tr>\n",
       "    <tr>\n",
       "      <th>1</th>\n",
       "      <td>54</td>\n",
       "      <td>4</td>\n",
       "      <td>3900</td>\n",
       "      <td>40</td>\n",
       "      <td>0</td>\n",
       "      <td>0</td>\n",
       "      <td>0</td>\n",
       "      <td>1</td>\n",
       "      <td>0</td>\n",
       "      <td>0</td>\n",
       "      <td>...</td>\n",
       "      <td>1</td>\n",
       "      <td>0</td>\n",
       "      <td>0</td>\n",
       "      <td>0</td>\n",
       "      <td>0</td>\n",
       "      <td>0</td>\n",
       "      <td>0</td>\n",
       "      <td>0</td>\n",
       "      <td>1</td>\n",
       "      <td>0</td>\n",
       "    </tr>\n",
       "    <tr>\n",
       "      <th>2</th>\n",
       "      <td>41</td>\n",
       "      <td>10</td>\n",
       "      <td>3900</td>\n",
       "      <td>40</td>\n",
       "      <td>0</td>\n",
       "      <td>0</td>\n",
       "      <td>0</td>\n",
       "      <td>1</td>\n",
       "      <td>0</td>\n",
       "      <td>0</td>\n",
       "      <td>...</td>\n",
       "      <td>0</td>\n",
       "      <td>0</td>\n",
       "      <td>0</td>\n",
       "      <td>1</td>\n",
       "      <td>0</td>\n",
       "      <td>0</td>\n",
       "      <td>0</td>\n",
       "      <td>0</td>\n",
       "      <td>1</td>\n",
       "      <td>0</td>\n",
       "    </tr>\n",
       "    <tr>\n",
       "      <th>3</th>\n",
       "      <td>34</td>\n",
       "      <td>9</td>\n",
       "      <td>3770</td>\n",
       "      <td>45</td>\n",
       "      <td>0</td>\n",
       "      <td>0</td>\n",
       "      <td>0</td>\n",
       "      <td>1</td>\n",
       "      <td>0</td>\n",
       "      <td>0</td>\n",
       "      <td>...</td>\n",
       "      <td>0</td>\n",
       "      <td>1</td>\n",
       "      <td>0</td>\n",
       "      <td>0</td>\n",
       "      <td>0</td>\n",
       "      <td>0</td>\n",
       "      <td>0</td>\n",
       "      <td>0</td>\n",
       "      <td>1</td>\n",
       "      <td>0</td>\n",
       "    </tr>\n",
       "    <tr>\n",
       "      <th>4</th>\n",
       "      <td>38</td>\n",
       "      <td>6</td>\n",
       "      <td>3770</td>\n",
       "      <td>40</td>\n",
       "      <td>0</td>\n",
       "      <td>0</td>\n",
       "      <td>0</td>\n",
       "      <td>1</td>\n",
       "      <td>0</td>\n",
       "      <td>0</td>\n",
       "      <td>...</td>\n",
       "      <td>0</td>\n",
       "      <td>0</td>\n",
       "      <td>0</td>\n",
       "      <td>0</td>\n",
       "      <td>0</td>\n",
       "      <td>0</td>\n",
       "      <td>0</td>\n",
       "      <td>0</td>\n",
       "      <td>0</td>\n",
       "      <td>1</td>\n",
       "    </tr>\n",
       "  </tbody>\n",
       "</table>\n",
       "<p>5 rows × 35 columns</p>\n",
       "</div>"
      ],
      "text/plain": [
       "   age  education.num  capital.loss  hours.per.week  Income Status  \\\n",
       "0   82              9          4356              18              0   \n",
       "1   54              4          3900              40              0   \n",
       "2   41             10          3900              40              0   \n",
       "3   34              9          3770              45              0   \n",
       "4   38              6          3770              40              0   \n",
       "\n",
       "   workclass_Federal-gov  workclass_Local-gov  workclass_Private  \\\n",
       "0                      0                    0                  1   \n",
       "1                      0                    0                  1   \n",
       "2                      0                    0                  1   \n",
       "3                      0                    0                  1   \n",
       "4                      0                    0                  1   \n",
       "\n",
       "   workclass_Self-emp-inc  workclass_Self-emp-not-inc  ...  \\\n",
       "0                       0                           0  ...   \n",
       "1                       0                           0  ...   \n",
       "2                       0                           0  ...   \n",
       "3                       0                           0  ...   \n",
       "4                       0                           0  ...   \n",
       "\n",
       "   occupation_Machine-op-inspct  occupation_Other-service  \\\n",
       "0                             0                         0   \n",
       "1                             1                         0   \n",
       "2                             0                         0   \n",
       "3                             0                         1   \n",
       "4                             0                         0   \n",
       "\n",
       "   occupation_Priv-house-serv  occupation_Prof-specialty  \\\n",
       "0                           0                          0   \n",
       "1                           0                          0   \n",
       "2                           0                          1   \n",
       "3                           0                          0   \n",
       "4                           0                          0   \n",
       "\n",
       "   occupation_Protective-serv  occupation_Sales  occupation_Tech-support  \\\n",
       "0                           0                 0                        0   \n",
       "1                           0                 0                        0   \n",
       "2                           0                 0                        0   \n",
       "3                           0                 0                        0   \n",
       "4                           0                 0                        0   \n",
       "\n",
       "   occupation_Transport-moving  sex_Female  sex_Male  \n",
       "0                            0           1         0  \n",
       "1                            0           1         0  \n",
       "2                            0           1         0  \n",
       "3                            0           1         0  \n",
       "4                            0           0         1  \n",
       "\n",
       "[5 rows x 35 columns]"
      ]
     },
     "execution_count": 165,
     "metadata": {},
     "output_type": "execute_result"
    }
   ],
   "source": [
    "df_cleaned_dummy.head()"
   ]
  },
  {
   "cell_type": "code",
   "execution_count": 166,
   "metadata": {},
   "outputs": [],
   "source": [
    "df_scaled_dummy=pd.DataFrame(scale1.fit_transform(df_cleaned_dummy[x]),columns=x)"
   ]
  },
  {
   "cell_type": "code",
   "execution_count": 167,
   "metadata": {},
   "outputs": [
    {
     "data": {
      "text/html": [
       "<div>\n",
       "<style scoped>\n",
       "    .dataframe tbody tr th:only-of-type {\n",
       "        vertical-align: middle;\n",
       "    }\n",
       "\n",
       "    .dataframe tbody tr th {\n",
       "        vertical-align: top;\n",
       "    }\n",
       "\n",
       "    .dataframe thead th {\n",
       "        text-align: right;\n",
       "    }\n",
       "</style>\n",
       "<table border=\"1\" class=\"dataframe\">\n",
       "  <thead>\n",
       "    <tr style=\"text-align: right;\">\n",
       "      <th></th>\n",
       "      <th>age</th>\n",
       "      <th>education.num</th>\n",
       "      <th>capital.loss</th>\n",
       "      <th>hours.per.week</th>\n",
       "      <th>workclass_Federal-gov</th>\n",
       "      <th>workclass_Local-gov</th>\n",
       "      <th>workclass_Private</th>\n",
       "      <th>workclass_Self-emp-inc</th>\n",
       "      <th>workclass_Self-emp-not-inc</th>\n",
       "      <th>workclass_State-gov</th>\n",
       "      <th>...</th>\n",
       "      <th>occupation_Machine-op-inspct</th>\n",
       "      <th>occupation_Other-service</th>\n",
       "      <th>occupation_Priv-house-serv</th>\n",
       "      <th>occupation_Prof-specialty</th>\n",
       "      <th>occupation_Protective-serv</th>\n",
       "      <th>occupation_Sales</th>\n",
       "      <th>occupation_Tech-support</th>\n",
       "      <th>occupation_Transport-moving</th>\n",
       "      <th>sex_Female</th>\n",
       "      <th>sex_Male</th>\n",
       "    </tr>\n",
       "  </thead>\n",
       "  <tbody>\n",
       "    <tr>\n",
       "      <th>0</th>\n",
       "      <td>0.780822</td>\n",
       "      <td>0.066667</td>\n",
       "      <td>1.000000</td>\n",
       "      <td>-0.653061</td>\n",
       "      <td>-1.0</td>\n",
       "      <td>-1.0</td>\n",
       "      <td>1.0</td>\n",
       "      <td>-1.0</td>\n",
       "      <td>-1.0</td>\n",
       "      <td>-1.0</td>\n",
       "      <td>...</td>\n",
       "      <td>-1.0</td>\n",
       "      <td>-1.0</td>\n",
       "      <td>-1.0</td>\n",
       "      <td>-1.0</td>\n",
       "      <td>-1.0</td>\n",
       "      <td>-1.0</td>\n",
       "      <td>-1.0</td>\n",
       "      <td>-1.0</td>\n",
       "      <td>1.0</td>\n",
       "      <td>-1.0</td>\n",
       "    </tr>\n",
       "    <tr>\n",
       "      <th>1</th>\n",
       "      <td>0.013699</td>\n",
       "      <td>-0.600000</td>\n",
       "      <td>0.790634</td>\n",
       "      <td>-0.204082</td>\n",
       "      <td>-1.0</td>\n",
       "      <td>-1.0</td>\n",
       "      <td>1.0</td>\n",
       "      <td>-1.0</td>\n",
       "      <td>-1.0</td>\n",
       "      <td>-1.0</td>\n",
       "      <td>...</td>\n",
       "      <td>1.0</td>\n",
       "      <td>-1.0</td>\n",
       "      <td>-1.0</td>\n",
       "      <td>-1.0</td>\n",
       "      <td>-1.0</td>\n",
       "      <td>-1.0</td>\n",
       "      <td>-1.0</td>\n",
       "      <td>-1.0</td>\n",
       "      <td>1.0</td>\n",
       "      <td>-1.0</td>\n",
       "    </tr>\n",
       "    <tr>\n",
       "      <th>2</th>\n",
       "      <td>-0.342466</td>\n",
       "      <td>0.200000</td>\n",
       "      <td>0.790634</td>\n",
       "      <td>-0.204082</td>\n",
       "      <td>-1.0</td>\n",
       "      <td>-1.0</td>\n",
       "      <td>1.0</td>\n",
       "      <td>-1.0</td>\n",
       "      <td>-1.0</td>\n",
       "      <td>-1.0</td>\n",
       "      <td>...</td>\n",
       "      <td>-1.0</td>\n",
       "      <td>-1.0</td>\n",
       "      <td>-1.0</td>\n",
       "      <td>1.0</td>\n",
       "      <td>-1.0</td>\n",
       "      <td>-1.0</td>\n",
       "      <td>-1.0</td>\n",
       "      <td>-1.0</td>\n",
       "      <td>1.0</td>\n",
       "      <td>-1.0</td>\n",
       "    </tr>\n",
       "    <tr>\n",
       "      <th>3</th>\n",
       "      <td>-0.534247</td>\n",
       "      <td>0.066667</td>\n",
       "      <td>0.730946</td>\n",
       "      <td>-0.102041</td>\n",
       "      <td>-1.0</td>\n",
       "      <td>-1.0</td>\n",
       "      <td>1.0</td>\n",
       "      <td>-1.0</td>\n",
       "      <td>-1.0</td>\n",
       "      <td>-1.0</td>\n",
       "      <td>...</td>\n",
       "      <td>-1.0</td>\n",
       "      <td>1.0</td>\n",
       "      <td>-1.0</td>\n",
       "      <td>-1.0</td>\n",
       "      <td>-1.0</td>\n",
       "      <td>-1.0</td>\n",
       "      <td>-1.0</td>\n",
       "      <td>-1.0</td>\n",
       "      <td>1.0</td>\n",
       "      <td>-1.0</td>\n",
       "    </tr>\n",
       "    <tr>\n",
       "      <th>4</th>\n",
       "      <td>-0.424658</td>\n",
       "      <td>-0.333333</td>\n",
       "      <td>0.730946</td>\n",
       "      <td>-0.204082</td>\n",
       "      <td>-1.0</td>\n",
       "      <td>-1.0</td>\n",
       "      <td>1.0</td>\n",
       "      <td>-1.0</td>\n",
       "      <td>-1.0</td>\n",
       "      <td>-1.0</td>\n",
       "      <td>...</td>\n",
       "      <td>-1.0</td>\n",
       "      <td>-1.0</td>\n",
       "      <td>-1.0</td>\n",
       "      <td>-1.0</td>\n",
       "      <td>-1.0</td>\n",
       "      <td>-1.0</td>\n",
       "      <td>-1.0</td>\n",
       "      <td>-1.0</td>\n",
       "      <td>-1.0</td>\n",
       "      <td>1.0</td>\n",
       "    </tr>\n",
       "  </tbody>\n",
       "</table>\n",
       "<p>5 rows × 34 columns</p>\n",
       "</div>"
      ],
      "text/plain": [
       "        age  education.num  capital.loss  hours.per.week  \\\n",
       "0  0.780822       0.066667      1.000000       -0.653061   \n",
       "1  0.013699      -0.600000      0.790634       -0.204082   \n",
       "2 -0.342466       0.200000      0.790634       -0.204082   \n",
       "3 -0.534247       0.066667      0.730946       -0.102041   \n",
       "4 -0.424658      -0.333333      0.730946       -0.204082   \n",
       "\n",
       "   workclass_Federal-gov  workclass_Local-gov  workclass_Private  \\\n",
       "0                   -1.0                 -1.0                1.0   \n",
       "1                   -1.0                 -1.0                1.0   \n",
       "2                   -1.0                 -1.0                1.0   \n",
       "3                   -1.0                 -1.0                1.0   \n",
       "4                   -1.0                 -1.0                1.0   \n",
       "\n",
       "   workclass_Self-emp-inc  workclass_Self-emp-not-inc  workclass_State-gov  \\\n",
       "0                    -1.0                        -1.0                 -1.0   \n",
       "1                    -1.0                        -1.0                 -1.0   \n",
       "2                    -1.0                        -1.0                 -1.0   \n",
       "3                    -1.0                        -1.0                 -1.0   \n",
       "4                    -1.0                        -1.0                 -1.0   \n",
       "\n",
       "   ...  occupation_Machine-op-inspct  occupation_Other-service  \\\n",
       "0  ...                          -1.0                      -1.0   \n",
       "1  ...                           1.0                      -1.0   \n",
       "2  ...                          -1.0                      -1.0   \n",
       "3  ...                          -1.0                       1.0   \n",
       "4  ...                          -1.0                      -1.0   \n",
       "\n",
       "   occupation_Priv-house-serv  occupation_Prof-specialty  \\\n",
       "0                        -1.0                       -1.0   \n",
       "1                        -1.0                       -1.0   \n",
       "2                        -1.0                        1.0   \n",
       "3                        -1.0                       -1.0   \n",
       "4                        -1.0                       -1.0   \n",
       "\n",
       "   occupation_Protective-serv  occupation_Sales  occupation_Tech-support  \\\n",
       "0                        -1.0              -1.0                     -1.0   \n",
       "1                        -1.0              -1.0                     -1.0   \n",
       "2                        -1.0              -1.0                     -1.0   \n",
       "3                        -1.0              -1.0                     -1.0   \n",
       "4                        -1.0              -1.0                     -1.0   \n",
       "\n",
       "   occupation_Transport-moving  sex_Female  sex_Male  \n",
       "0                         -1.0         1.0      -1.0  \n",
       "1                         -1.0         1.0      -1.0  \n",
       "2                         -1.0         1.0      -1.0  \n",
       "3                         -1.0         1.0      -1.0  \n",
       "4                         -1.0        -1.0       1.0  \n",
       "\n",
       "[5 rows x 34 columns]"
      ]
     },
     "execution_count": 167,
     "metadata": {},
     "output_type": "execute_result"
    }
   ],
   "source": [
    "df_scaled_dummy.head()"
   ]
  },
  {
   "cell_type": "code",
   "execution_count": 168,
   "metadata": {},
   "outputs": [],
   "source": [
    "ntrain_x,ntest_x,ntrain_y,ntest_y=train_test_split(scaled_df,df['Income Status'],test_size=0.25,random_state=1)"
   ]
  },
  {
   "cell_type": "code",
   "execution_count": 169,
   "metadata": {},
   "outputs": [],
   "source": [
    "scaled_x_train=df_scaled_dummy.iloc[ntrain_x.index]\n",
    "scaled_x_test=df_scaled_dummy.iloc[ntest_x.index]"
   ]
  },
  {
   "cell_type": "code",
   "execution_count": 170,
   "metadata": {},
   "outputs": [],
   "source": [
    "clf=MLPClassifier(hidden_layer_sizes=3,activation='logistic',solver='lbfgs',random_state=1,max_iter=2000)"
   ]
  },
  {
   "cell_type": "code",
   "execution_count": 171,
   "metadata": {},
   "outputs": [
    {
     "data": {
      "text/plain": [
       "MLPClassifier(activation='logistic', hidden_layer_sizes=3, max_iter=2000,\n",
       "              random_state=1, solver='lbfgs')"
      ]
     },
     "execution_count": 171,
     "metadata": {},
     "output_type": "execute_result"
    }
   ],
   "source": [
    "clf.fit(scaled_x_train,ntrain_y)"
   ]
  },
  {
   "cell_type": "code",
   "execution_count": 172,
   "metadata": {},
   "outputs": [
    {
     "data": {
      "text/html": [
       "<div>\n",
       "<style scoped>\n",
       "    .dataframe tbody tr th:only-of-type {\n",
       "        vertical-align: middle;\n",
       "    }\n",
       "\n",
       "    .dataframe tbody tr th {\n",
       "        vertical-align: top;\n",
       "    }\n",
       "\n",
       "    .dataframe thead th {\n",
       "        text-align: right;\n",
       "    }\n",
       "</style>\n",
       "<table border=\"1\" class=\"dataframe\">\n",
       "  <thead>\n",
       "    <tr style=\"text-align: right;\">\n",
       "      <th></th>\n",
       "      <th>age</th>\n",
       "      <th>education.num</th>\n",
       "      <th>capital.loss</th>\n",
       "      <th>hours.per.week</th>\n",
       "      <th>workclass_Federal-gov</th>\n",
       "      <th>workclass_Local-gov</th>\n",
       "      <th>workclass_Private</th>\n",
       "      <th>workclass_Self-emp-inc</th>\n",
       "      <th>workclass_Self-emp-not-inc</th>\n",
       "      <th>workclass_State-gov</th>\n",
       "      <th>...</th>\n",
       "      <th>occupation_Machine-op-inspct</th>\n",
       "      <th>occupation_Other-service</th>\n",
       "      <th>occupation_Priv-house-serv</th>\n",
       "      <th>occupation_Prof-specialty</th>\n",
       "      <th>occupation_Protective-serv</th>\n",
       "      <th>occupation_Sales</th>\n",
       "      <th>occupation_Tech-support</th>\n",
       "      <th>occupation_Transport-moving</th>\n",
       "      <th>sex_Female</th>\n",
       "      <th>sex_Male</th>\n",
       "    </tr>\n",
       "  </thead>\n",
       "  <tbody>\n",
       "    <tr>\n",
       "      <th>29793</th>\n",
       "      <td>-0.150685</td>\n",
       "      <td>0.466667</td>\n",
       "      <td>-1.0</td>\n",
       "      <td>0.000000</td>\n",
       "      <td>-1.0</td>\n",
       "      <td>-1.0</td>\n",
       "      <td>1.0</td>\n",
       "      <td>-1.0</td>\n",
       "      <td>-1.0</td>\n",
       "      <td>-1.0</td>\n",
       "      <td>...</td>\n",
       "      <td>-1.0</td>\n",
       "      <td>-1.0</td>\n",
       "      <td>-1.0</td>\n",
       "      <td>-1.0</td>\n",
       "      <td>-1.0</td>\n",
       "      <td>-1.0</td>\n",
       "      <td>-1.0</td>\n",
       "      <td>-1.0</td>\n",
       "      <td>-1.0</td>\n",
       "      <td>1.0</td>\n",
       "    </tr>\n",
       "    <tr>\n",
       "      <th>26134</th>\n",
       "      <td>-0.424658</td>\n",
       "      <td>0.066667</td>\n",
       "      <td>-1.0</td>\n",
       "      <td>0.204082</td>\n",
       "      <td>-1.0</td>\n",
       "      <td>-1.0</td>\n",
       "      <td>1.0</td>\n",
       "      <td>-1.0</td>\n",
       "      <td>-1.0</td>\n",
       "      <td>-1.0</td>\n",
       "      <td>...</td>\n",
       "      <td>-1.0</td>\n",
       "      <td>-1.0</td>\n",
       "      <td>-1.0</td>\n",
       "      <td>-1.0</td>\n",
       "      <td>-1.0</td>\n",
       "      <td>1.0</td>\n",
       "      <td>-1.0</td>\n",
       "      <td>-1.0</td>\n",
       "      <td>-1.0</td>\n",
       "      <td>1.0</td>\n",
       "    </tr>\n",
       "    <tr>\n",
       "      <th>18992</th>\n",
       "      <td>-0.041096</td>\n",
       "      <td>0.200000</td>\n",
       "      <td>-1.0</td>\n",
       "      <td>-0.306122</td>\n",
       "      <td>-1.0</td>\n",
       "      <td>-1.0</td>\n",
       "      <td>1.0</td>\n",
       "      <td>-1.0</td>\n",
       "      <td>-1.0</td>\n",
       "      <td>-1.0</td>\n",
       "      <td>...</td>\n",
       "      <td>-1.0</td>\n",
       "      <td>-1.0</td>\n",
       "      <td>-1.0</td>\n",
       "      <td>-1.0</td>\n",
       "      <td>-1.0</td>\n",
       "      <td>-1.0</td>\n",
       "      <td>-1.0</td>\n",
       "      <td>-1.0</td>\n",
       "      <td>1.0</td>\n",
       "      <td>-1.0</td>\n",
       "    </tr>\n",
       "    <tr>\n",
       "      <th>17605</th>\n",
       "      <td>-0.835616</td>\n",
       "      <td>0.200000</td>\n",
       "      <td>-1.0</td>\n",
       "      <td>-0.836735</td>\n",
       "      <td>-1.0</td>\n",
       "      <td>-1.0</td>\n",
       "      <td>1.0</td>\n",
       "      <td>-1.0</td>\n",
       "      <td>-1.0</td>\n",
       "      <td>-1.0</td>\n",
       "      <td>...</td>\n",
       "      <td>-1.0</td>\n",
       "      <td>-1.0</td>\n",
       "      <td>-1.0</td>\n",
       "      <td>-1.0</td>\n",
       "      <td>-1.0</td>\n",
       "      <td>1.0</td>\n",
       "      <td>-1.0</td>\n",
       "      <td>-1.0</td>\n",
       "      <td>-1.0</td>\n",
       "      <td>1.0</td>\n",
       "    </tr>\n",
       "    <tr>\n",
       "      <th>21894</th>\n",
       "      <td>-0.205479</td>\n",
       "      <td>0.066667</td>\n",
       "      <td>-1.0</td>\n",
       "      <td>-0.204082</td>\n",
       "      <td>-1.0</td>\n",
       "      <td>-1.0</td>\n",
       "      <td>1.0</td>\n",
       "      <td>-1.0</td>\n",
       "      <td>-1.0</td>\n",
       "      <td>-1.0</td>\n",
       "      <td>...</td>\n",
       "      <td>-1.0</td>\n",
       "      <td>-1.0</td>\n",
       "      <td>-1.0</td>\n",
       "      <td>-1.0</td>\n",
       "      <td>-1.0</td>\n",
       "      <td>-1.0</td>\n",
       "      <td>-1.0</td>\n",
       "      <td>-1.0</td>\n",
       "      <td>-1.0</td>\n",
       "      <td>1.0</td>\n",
       "    </tr>\n",
       "  </tbody>\n",
       "</table>\n",
       "<p>5 rows × 34 columns</p>\n",
       "</div>"
      ],
      "text/plain": [
       "            age  education.num  capital.loss  hours.per.week  \\\n",
       "29793 -0.150685       0.466667          -1.0        0.000000   \n",
       "26134 -0.424658       0.066667          -1.0        0.204082   \n",
       "18992 -0.041096       0.200000          -1.0       -0.306122   \n",
       "17605 -0.835616       0.200000          -1.0       -0.836735   \n",
       "21894 -0.205479       0.066667          -1.0       -0.204082   \n",
       "\n",
       "       workclass_Federal-gov  workclass_Local-gov  workclass_Private  \\\n",
       "29793                   -1.0                 -1.0                1.0   \n",
       "26134                   -1.0                 -1.0                1.0   \n",
       "18992                   -1.0                 -1.0                1.0   \n",
       "17605                   -1.0                 -1.0                1.0   \n",
       "21894                   -1.0                 -1.0                1.0   \n",
       "\n",
       "       workclass_Self-emp-inc  workclass_Self-emp-not-inc  \\\n",
       "29793                    -1.0                        -1.0   \n",
       "26134                    -1.0                        -1.0   \n",
       "18992                    -1.0                        -1.0   \n",
       "17605                    -1.0                        -1.0   \n",
       "21894                    -1.0                        -1.0   \n",
       "\n",
       "       workclass_State-gov  ...  occupation_Machine-op-inspct  \\\n",
       "29793                 -1.0  ...                          -1.0   \n",
       "26134                 -1.0  ...                          -1.0   \n",
       "18992                 -1.0  ...                          -1.0   \n",
       "17605                 -1.0  ...                          -1.0   \n",
       "21894                 -1.0  ...                          -1.0   \n",
       "\n",
       "       occupation_Other-service  occupation_Priv-house-serv  \\\n",
       "29793                      -1.0                        -1.0   \n",
       "26134                      -1.0                        -1.0   \n",
       "18992                      -1.0                        -1.0   \n",
       "17605                      -1.0                        -1.0   \n",
       "21894                      -1.0                        -1.0   \n",
       "\n",
       "       occupation_Prof-specialty  occupation_Protective-serv  \\\n",
       "29793                       -1.0                        -1.0   \n",
       "26134                       -1.0                        -1.0   \n",
       "18992                       -1.0                        -1.0   \n",
       "17605                       -1.0                        -1.0   \n",
       "21894                       -1.0                        -1.0   \n",
       "\n",
       "       occupation_Sales  occupation_Tech-support  occupation_Transport-moving  \\\n",
       "29793              -1.0                     -1.0                         -1.0   \n",
       "26134               1.0                     -1.0                         -1.0   \n",
       "18992              -1.0                     -1.0                         -1.0   \n",
       "17605               1.0                     -1.0                         -1.0   \n",
       "21894              -1.0                     -1.0                         -1.0   \n",
       "\n",
       "       sex_Female  sex_Male  \n",
       "29793        -1.0       1.0  \n",
       "26134        -1.0       1.0  \n",
       "18992         1.0      -1.0  \n",
       "17605        -1.0       1.0  \n",
       "21894        -1.0       1.0  \n",
       "\n",
       "[5 rows x 34 columns]"
      ]
     },
     "execution_count": 172,
     "metadata": {},
     "output_type": "execute_result"
    }
   ],
   "source": [
    "scaled_x_train.head()"
   ]
  },
  {
   "cell_type": "code",
   "execution_count": 173,
   "metadata": {},
   "outputs": [
    {
     "data": {
      "text/plain": [
       "array([0, 1, 0, ..., 1, 0, 0], dtype=int64)"
      ]
     },
     "execution_count": 173,
     "metadata": {},
     "output_type": "execute_result"
    }
   ],
   "source": [
    "clf.predict(scaled_x_test)"
   ]
  },
  {
   "cell_type": "code",
   "execution_count": 174,
   "metadata": {},
   "outputs": [
    {
     "data": {
      "text/plain": [
       "array([0, 1], dtype=int64)"
      ]
     },
     "execution_count": 174,
     "metadata": {},
     "output_type": "execute_result"
    }
   ],
   "source": [
    "df['Income Status'].unique()"
   ]
  },
  {
   "cell_type": "code",
   "execution_count": 175,
   "metadata": {
    "scrolled": false
   },
   "outputs": [
    {
     "name": "stdout",
     "output_type": "stream",
     "text": [
      "confusion matrix on test data-neural nets\n",
      "\n",
      "Confusion Matrix (Accuracy 0.8386)\n",
      "\n",
      "       Prediction\n",
      "Actual  <50 >50K\n",
      "   <50 5195  445\n",
      "  >50K  772 1129\n"
     ]
    }
   ],
   "source": [
    "print('confusion matrix on test data-neural nets\\n')\n",
    "classificationSummary(ntest_y,clf.predict(scaled_x_test),class_names=['<50','>50K'])"
   ]
  },
  {
   "cell_type": "code",
   "execution_count": 176,
   "metadata": {},
   "outputs": [],
   "source": [
    "from dmba.metric import AIC_score"
   ]
  },
  {
   "cell_type": "code",
   "execution_count": 177,
   "metadata": {},
   "outputs": [
    {
     "data": {
      "text/plain": [
       "7717.903463285653"
      ]
     },
     "execution_count": 177,
     "metadata": {},
     "output_type": "execute_result"
    }
   ],
   "source": [
    "AIC_score(ntest_y,clf.predict(scaled_x_test),df=len(scaled_df.columns)+1)"
   ]
  },
  {
   "cell_type": "code",
   "execution_count": 178,
   "metadata": {},
   "outputs": [
    {
     "name": "stdout",
     "output_type": "stream",
     "text": [
      "f1 score for the neuural nets is 0.6497841726618705\n"
     ]
    }
   ],
   "source": [
    "#f1_Score\n",
    "print('f1 score for the neuural nets is '+str(f1_score(ntest_y,clf.predict(scaled_x_test))))"
   ]
  },
  {
   "cell_type": "code",
   "execution_count": 179,
   "metadata": {},
   "outputs": [
    {
     "name": "stdout",
     "output_type": "stream",
     "text": [
      "{'cross val score': array([0.84044199, 0.8260389 , 0.83687003, 0.83598585, 0.83465959])}\n"
     ]
    }
   ],
   "source": [
    "#cross val score\n",
    "print({'cross val score': cross_val_score(clf,scaled_x_train,ntrain_y,cv=5)})"
   ]
  },
  {
   "cell_type": "code",
   "execution_count": 180,
   "metadata": {},
   "outputs": [],
   "source": [
    "new_rec=df_scaled_dummy.iloc[20]\n",
    "df_cleaned_dummy['Income Status'].iloc[20] #actual 0\n",
    "new_recdf=pd.DataFrame(new_rec).transpose()"
   ]
  },
  {
   "cell_type": "code",
   "execution_count": 181,
   "metadata": {},
   "outputs": [
    {
     "data": {
      "text/plain": [
       "age                                    -0.561644\n",
       "education.num                          -0.866667\n",
       "capital.loss                            0.195133\n",
       "hours.per.week                         -0.367347\n",
       "workclass_Federal-gov                  -1.000000\n",
       "workclass_Local-gov                    -1.000000\n",
       "workclass_Private                       1.000000\n",
       "workclass_Self-emp-inc                 -1.000000\n",
       "workclass_Self-emp-not-inc             -1.000000\n",
       "workclass_State-gov                    -1.000000\n",
       "workclass_Without-pay                  -1.000000\n",
       "marital.status_Divorced                -1.000000\n",
       "marital.status_Married-AF-spouse       -1.000000\n",
       "marital.status_Married-civ-spouse       1.000000\n",
       "marital.status_Married-spouse-absent   -1.000000\n",
       "marital.status_Never-married           -1.000000\n",
       "marital.status_Separated               -1.000000\n",
       "marital.status_Widowed                 -1.000000\n",
       "occupation_Adm-clerical                -1.000000\n",
       "occupation_Armed-Forces                -1.000000\n",
       "occupation_Craft-repair                 1.000000\n",
       "occupation_Exec-managerial             -1.000000\n",
       "occupation_Farming-fishing             -1.000000\n",
       "occupation_Handlers-cleaners           -1.000000\n",
       "occupation_Machine-op-inspct           -1.000000\n",
       "occupation_Other-service               -1.000000\n",
       "occupation_Priv-house-serv             -1.000000\n",
       "occupation_Prof-specialty              -1.000000\n",
       "occupation_Protective-serv             -1.000000\n",
       "occupation_Sales                       -1.000000\n",
       "occupation_Tech-support                -1.000000\n",
       "occupation_Transport-moving            -1.000000\n",
       "sex_Female                             -1.000000\n",
       "sex_Male                                1.000000\n",
       "Name: 20, dtype: float64"
      ]
     },
     "execution_count": 181,
     "metadata": {},
     "output_type": "execute_result"
    }
   ],
   "source": [
    "new_rec"
   ]
  },
  {
   "cell_type": "code",
   "execution_count": 182,
   "metadata": {},
   "outputs": [
    {
     "data": {
      "text/plain": [
       "array([0], dtype=int64)"
      ]
     },
     "execution_count": 182,
     "metadata": {},
     "output_type": "execute_result"
    }
   ],
   "source": [
    "clf.predict(new_recdf) #classified as 0"
   ]
  },
  {
   "cell_type": "code",
   "execution_count": 184,
   "metadata": {},
   "outputs": [
    {
     "data": {
      "image/png": "[encoded data removed]",
      "text/plain": [
       "<Figure size 432x288 with 2 Axes>"
      ]
     },
     "metadata": {
      "needs_background": "light"
     },
     "output_type": "display_data"
    }
   ],
   "source": [
    "pred_v = pd.Series(clf.predict(scaled_x_test))\n",
    "pred_v = pred_v.sort_values(ascending=False)\n",
    "fig, axes = plt.subplots(nrows=1, ncols=2)\n",
    "ax = gainsChart(pred_v, ax=axes[0])\n",
    "ax.set_ylabel('Cumulative Price')\n",
    "ax.set_title('Cumulative Gains Chart for neural nets')\n",
    "ax = liftChart(pred_v, ax=axes[1], labelBars=False)\n",
    "ax.set_ylabel('Lift')\n",
    "plt.tight_layout()\n",
    "plt.show()"
   ]
  },
  {
   "cell_type": "markdown",
   "metadata": {},
   "source": [
    "# f1_score comparison"
   ]
  },
  {
   "cell_type": "code",
   "execution_count": null,
   "metadata": {},
   "outputs": [],
   "source": [
    "f1_dict={'kNN':0.6322,'Naive Bayes':0.1632,'Decision Tree':0.5584,'Logistic_Reg':0.6254,\n",
    "              'Neural Nets':0.6497}"
   ]
  },
  {
   "cell_type": "code",
   "execution_count": null,
   "metadata": {},
   "outputs": [],
   "source": [
    "#F1_score comparison for the models used throughout this project\n",
    "plt.bar(f1_dict.keys(),f1_dict.values(),width=0.4)\n",
    "plt.xlabel('Model')\n",
    "plt.ylabel('F1_score')"
   ]
  },
  {
   "cell_type": "markdown",
   "metadata": {},
   "source": [
    "# decile lift and gains chart for the models"
   ]
  },
  {
   "cell_type": "code",
   "execution_count": null,
   "metadata": {},
   "outputs": [],
   "source": []
  }
 ],
 "metadata": {
  "colab": {
   "collapsed_sections": [],
   "name": "Copy of DataMiningProject.ipynb",
   "provenance": []
  },
  "kernelspec": {
   "display_name": "Python 3 (ipykernel)",
   "language": "python",
   "name": "python3"
  },
  "language_info": {
   "codemirror_mode": {
    "name": "ipython",
    "version": 3
   },
   "file_extension": ".py",
   "mimetype": "text/x-python",
   "name": "python",
   "nbconvert_exporter": "python",
   "pygments_lexer": "ipython3",
   "version": "3.9.7"
  }
 },
 "nbformat": 4,
 "nbformat_minor": 1
}
